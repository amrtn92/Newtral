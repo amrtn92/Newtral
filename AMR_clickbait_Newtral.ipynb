{
  "nbformat": 4,
  "nbformat_minor": 0,
  "metadata": {
    "colab": {
      "name": "AMR_clickbait_Newtral.ipynb",
      "provenance": []
    },
    "kernelspec": {
      "name": "python3",
      "display_name": "Python 3"
    },
    "language_info": {
      "name": "python"
    }
  },
  "cells": [
    {
      "cell_type": "markdown",
      "source": [
        "**WARNING**: Este notebook puede usar TPU, por favor, activala en Entorno de ejecución > Cambiar tipo de enterno > Acelerador por hardware > TPU"
      ],
      "metadata": {
        "id": "3WMKyuOxLH5Q"
      }
    },
    {
      "cell_type": "code",
      "source": [
        "use_tpu = True"
      ],
      "metadata": {
        "id": "EOx1LKfAJow9"
      },
      "execution_count": null,
      "outputs": []
    },
    {
      "cell_type": "markdown",
      "source": [
        "El Notebook está pensado para que pueda correr un solo modelo. \n",
        "\n",
        "Por ejemplo: Si queremos correr sólo RoBERTa, tendríamos que correr el punto 1, el 2 y el 2.2."
      ],
      "metadata": {
        "id": "kTI3XDMB7KxR"
      }
    },
    {
      "cell_type": "markdown",
      "source": [
        "# **OBJETIVO**: \n",
        "Detectar tweets clickbait publicados por medios de comunicación en inglés."
      ],
      "metadata": {
        "id": "jxV3p-lGHRUN"
      }
    },
    {
      "cell_type": "markdown",
      "source": [
        "# **1. Análisis Exploratorio de los Datos (EDA)**\n",
        "\n",
        "---"
      ],
      "metadata": {
        "id": "VzWYZC0IEUKG"
      }
    },
    {
      "cell_type": "markdown",
      "source": [
        "Anter de implementar diferentes modelos, se procede a una pequeña exploración de los datos. En nuestro caso, tenemos una serie de tweets ya clasificados como \"clickbait\" y \"no-clickbait\" (Supervised Learning)."
      ],
      "metadata": {
        "id": "UyjXnMgZLNa5"
      }
    },
    {
      "cell_type": "markdown",
      "source": [
        "Usaremos la librería *pandas* para tratar los dataset y *matplotlib* para graficar:"
      ],
      "metadata": {
        "id": "7CNMLPYKL4WP"
      }
    },
    {
      "cell_type": "code",
      "source": [
        "import matplotlib.pyplot as plt\n",
        "import pandas as pd"
      ],
      "metadata": {
        "id": "9wPJJ8W8IwnT"
      },
      "execution_count": null,
      "outputs": []
    },
    {
      "cell_type": "markdown",
      "source": [
        "Cargamos en dos *DataFrame* los tweets que usaremos como *training set* y como *test set*."
      ],
      "metadata": {
        "id": "XfXJPrvVL_4N"
      }
    },
    {
      "cell_type": "code",
      "source": [
        "train = pd.read_csv('https://ml-coding-test.s3.eu-west-1.amazonaws.com/webis_train.csv', index_col=0)\n",
        "test = pd.read_csv('https://ml-coding-test.s3.eu-west-1.amazonaws.com/webis_test.csv', index_col=0)"
      ],
      "metadata": {
        "id": "HsHqer2cExHa"
      },
      "execution_count": null,
      "outputs": []
    },
    {
      "cell_type": "markdown",
      "source": [
        "Veamos qué aspecto tienen:"
      ],
      "metadata": {
        "id": "BY8F9GtTMZjx"
      }
    },
    {
      "cell_type": "code",
      "source": [
        "train.head(3)"
      ],
      "metadata": {
        "colab": {
          "base_uri": "https://localhost:8080/",
          "height": 396
        },
        "id": "CmRxWBIyHqcN",
        "outputId": "e514164e-108d-43b5-8fbf-e9f2753fafd4"
      },
      "execution_count": null,
      "outputs": [
        {
          "output_type": "execute_result",
          "data": {
            "text/plain": [
              "  postMedia                                           postText  \\\n",
              "0        []  UK’s response to modern slavery leaving victim...   \n",
              "1        []                                       this is good   \n",
              "2        []  The \"forgotten\" Trump roast: Relive his brutal...   \n",
              "\n",
              "                   id                                     targetCaptions  \\\n",
              "0  858462320779026432                         ['modern-slavery-rex.jpg']   \n",
              "1  858421020331560960  ['In this July 1, 2010 file photo, Dr. Charmai...   \n",
              "2  858368123753435136  [\"President Trump will not attend this year's ...   \n",
              "\n",
              "                                    targetParagraphs  \\\n",
              "0  ['Thousands of modern slavery victims have\\xa0...   \n",
              "1  ['President Donald Trump has appointed the\\xa0...   \n",
              "2  ['When the\\xa0White House correspondents’ dinn...   \n",
              "\n",
              "                                         targetTitle  \\\n",
              "0  ‘Inexcusable’ failures in UK’s response to mod...   \n",
              "1  Donald Trump Appoints Pro-Life Advocate as Ass...   \n",
              "2  The ‘forgotten’ Trump roast: Relive his brutal...   \n",
              "\n",
              "                    postTimestamp  \\\n",
              "0  Sat Apr 29 23:25:41 +0000 2017   \n",
              "1  Sat Apr 29 20:41:34 +0000 2017   \n",
              "2  Sat Apr 29 17:11:23 +0000 2017   \n",
              "\n",
              "                                      targetKeywords  \\\n",
              "0  modern slavery, Department For Work And Pensio...   \n",
              "1  Americans United for Life, Dr. Charmaine Yoest...   \n",
              "2  trump whcd, whcd, white house correspondents d...   \n",
              "\n",
              "                                   targetDescription  \\\n",
              "0  “Inexcusable” failures in the UK’s system for ...   \n",
              "1  President Donald Trump has appointed pro-life ...   \n",
              "2  President Trump won't be at this year's White ...   \n",
              "\n",
              "                                      truthJudgments  truthMean    truthClass  \\\n",
              "0  [0.33333333330000003, 0.0, 0.33333333330000003...   0.133333  no-clickbait   \n",
              "1                          [1.0, 1.0, 1.0, 1.0, 1.0]   1.000000     clickbait   \n",
              "2  [0.33333333330000003, 1.0, 0.33333333330000003...   0.466667  no-clickbait   \n",
              "\n",
              "   truthMedian  truthMode  \n",
              "0     0.000000   0.000000  \n",
              "1     1.000000   1.000000  \n",
              "2     0.333333   0.333333  "
            ],
            "text/html": [
              "\n",
              "  <div id=\"df-144fd999-c0a8-4590-9736-a6d287497444\">\n",
              "    <div class=\"colab-df-container\">\n",
              "      <div>\n",
              "<style scoped>\n",
              "    .dataframe tbody tr th:only-of-type {\n",
              "        vertical-align: middle;\n",
              "    }\n",
              "\n",
              "    .dataframe tbody tr th {\n",
              "        vertical-align: top;\n",
              "    }\n",
              "\n",
              "    .dataframe thead th {\n",
              "        text-align: right;\n",
              "    }\n",
              "</style>\n",
              "<table border=\"1\" class=\"dataframe\">\n",
              "  <thead>\n",
              "    <tr style=\"text-align: right;\">\n",
              "      <th></th>\n",
              "      <th>postMedia</th>\n",
              "      <th>postText</th>\n",
              "      <th>id</th>\n",
              "      <th>targetCaptions</th>\n",
              "      <th>targetParagraphs</th>\n",
              "      <th>targetTitle</th>\n",
              "      <th>postTimestamp</th>\n",
              "      <th>targetKeywords</th>\n",
              "      <th>targetDescription</th>\n",
              "      <th>truthJudgments</th>\n",
              "      <th>truthMean</th>\n",
              "      <th>truthClass</th>\n",
              "      <th>truthMedian</th>\n",
              "      <th>truthMode</th>\n",
              "    </tr>\n",
              "  </thead>\n",
              "  <tbody>\n",
              "    <tr>\n",
              "      <th>0</th>\n",
              "      <td>[]</td>\n",
              "      <td>UK’s response to modern slavery leaving victim...</td>\n",
              "      <td>858462320779026432</td>\n",
              "      <td>['modern-slavery-rex.jpg']</td>\n",
              "      <td>['Thousands of modern slavery victims have\\xa0...</td>\n",
              "      <td>‘Inexcusable’ failures in UK’s response to mod...</td>\n",
              "      <td>Sat Apr 29 23:25:41 +0000 2017</td>\n",
              "      <td>modern slavery, Department For Work And Pensio...</td>\n",
              "      <td>“Inexcusable” failures in the UK’s system for ...</td>\n",
              "      <td>[0.33333333330000003, 0.0, 0.33333333330000003...</td>\n",
              "      <td>0.133333</td>\n",
              "      <td>no-clickbait</td>\n",
              "      <td>0.000000</td>\n",
              "      <td>0.000000</td>\n",
              "    </tr>\n",
              "    <tr>\n",
              "      <th>1</th>\n",
              "      <td>[]</td>\n",
              "      <td>this is good</td>\n",
              "      <td>858421020331560960</td>\n",
              "      <td>['In this July 1, 2010 file photo, Dr. Charmai...</td>\n",
              "      <td>['President Donald Trump has appointed the\\xa0...</td>\n",
              "      <td>Donald Trump Appoints Pro-Life Advocate as Ass...</td>\n",
              "      <td>Sat Apr 29 20:41:34 +0000 2017</td>\n",
              "      <td>Americans United for Life, Dr. Charmaine Yoest...</td>\n",
              "      <td>President Donald Trump has appointed pro-life ...</td>\n",
              "      <td>[1.0, 1.0, 1.0, 1.0, 1.0]</td>\n",
              "      <td>1.000000</td>\n",
              "      <td>clickbait</td>\n",
              "      <td>1.000000</td>\n",
              "      <td>1.000000</td>\n",
              "    </tr>\n",
              "    <tr>\n",
              "      <th>2</th>\n",
              "      <td>[]</td>\n",
              "      <td>The \"forgotten\" Trump roast: Relive his brutal...</td>\n",
              "      <td>858368123753435136</td>\n",
              "      <td>[\"President Trump will not attend this year's ...</td>\n",
              "      <td>['When the\\xa0White House correspondents’ dinn...</td>\n",
              "      <td>The ‘forgotten’ Trump roast: Relive his brutal...</td>\n",
              "      <td>Sat Apr 29 17:11:23 +0000 2017</td>\n",
              "      <td>trump whcd, whcd, white house correspondents d...</td>\n",
              "      <td>President Trump won't be at this year's White ...</td>\n",
              "      <td>[0.33333333330000003, 1.0, 0.33333333330000003...</td>\n",
              "      <td>0.466667</td>\n",
              "      <td>no-clickbait</td>\n",
              "      <td>0.333333</td>\n",
              "      <td>0.333333</td>\n",
              "    </tr>\n",
              "  </tbody>\n",
              "</table>\n",
              "</div>\n",
              "      <button class=\"colab-df-convert\" onclick=\"convertToInteractive('df-144fd999-c0a8-4590-9736-a6d287497444')\"\n",
              "              title=\"Convert this dataframe to an interactive table.\"\n",
              "              style=\"display:none;\">\n",
              "        \n",
              "  <svg xmlns=\"http://www.w3.org/2000/svg\" height=\"24px\"viewBox=\"0 0 24 24\"\n",
              "       width=\"24px\">\n",
              "    <path d=\"M0 0h24v24H0V0z\" fill=\"none\"/>\n",
              "    <path d=\"M18.56 5.44l.94 2.06.94-2.06 2.06-.94-2.06-.94-.94-2.06-.94 2.06-2.06.94zm-11 1L8.5 8.5l.94-2.06 2.06-.94-2.06-.94L8.5 2.5l-.94 2.06-2.06.94zm10 10l.94 2.06.94-2.06 2.06-.94-2.06-.94-.94-2.06-.94 2.06-2.06.94z\"/><path d=\"M17.41 7.96l-1.37-1.37c-.4-.4-.92-.59-1.43-.59-.52 0-1.04.2-1.43.59L10.3 9.45l-7.72 7.72c-.78.78-.78 2.05 0 2.83L4 21.41c.39.39.9.59 1.41.59.51 0 1.02-.2 1.41-.59l7.78-7.78 2.81-2.81c.8-.78.8-2.07 0-2.86zM5.41 20L4 18.59l7.72-7.72 1.47 1.35L5.41 20z\"/>\n",
              "  </svg>\n",
              "      </button>\n",
              "      \n",
              "  <style>\n",
              "    .colab-df-container {\n",
              "      display:flex;\n",
              "      flex-wrap:wrap;\n",
              "      gap: 12px;\n",
              "    }\n",
              "\n",
              "    .colab-df-convert {\n",
              "      background-color: #E8F0FE;\n",
              "      border: none;\n",
              "      border-radius: 50%;\n",
              "      cursor: pointer;\n",
              "      display: none;\n",
              "      fill: #1967D2;\n",
              "      height: 32px;\n",
              "      padding: 0 0 0 0;\n",
              "      width: 32px;\n",
              "    }\n",
              "\n",
              "    .colab-df-convert:hover {\n",
              "      background-color: #E2EBFA;\n",
              "      box-shadow: 0px 1px 2px rgba(60, 64, 67, 0.3), 0px 1px 3px 1px rgba(60, 64, 67, 0.15);\n",
              "      fill: #174EA6;\n",
              "    }\n",
              "\n",
              "    [theme=dark] .colab-df-convert {\n",
              "      background-color: #3B4455;\n",
              "      fill: #D2E3FC;\n",
              "    }\n",
              "\n",
              "    [theme=dark] .colab-df-convert:hover {\n",
              "      background-color: #434B5C;\n",
              "      box-shadow: 0px 1px 3px 1px rgba(0, 0, 0, 0.15);\n",
              "      filter: drop-shadow(0px 1px 2px rgba(0, 0, 0, 0.3));\n",
              "      fill: #FFFFFF;\n",
              "    }\n",
              "  </style>\n",
              "\n",
              "      <script>\n",
              "        const buttonEl =\n",
              "          document.querySelector('#df-144fd999-c0a8-4590-9736-a6d287497444 button.colab-df-convert');\n",
              "        buttonEl.style.display =\n",
              "          google.colab.kernel.accessAllowed ? 'block' : 'none';\n",
              "\n",
              "        async function convertToInteractive(key) {\n",
              "          const element = document.querySelector('#df-144fd999-c0a8-4590-9736-a6d287497444');\n",
              "          const dataTable =\n",
              "            await google.colab.kernel.invokeFunction('convertToInteractive',\n",
              "                                                     [key], {});\n",
              "          if (!dataTable) return;\n",
              "\n",
              "          const docLinkHtml = 'Like what you see? Visit the ' +\n",
              "            '<a target=\"_blank\" href=https://colab.research.google.com/notebooks/data_table.ipynb>data table notebook</a>'\n",
              "            + ' to learn more about interactive tables.';\n",
              "          element.innerHTML = '';\n",
              "          dataTable['output_type'] = 'display_data';\n",
              "          await google.colab.output.renderOutput(dataTable, element);\n",
              "          const docLink = document.createElement('div');\n",
              "          docLink.innerHTML = docLinkHtml;\n",
              "          element.appendChild(docLink);\n",
              "        }\n",
              "      </script>\n",
              "    </div>\n",
              "  </div>\n",
              "  "
            ]
          },
          "metadata": {},
          "execution_count": 38
        }
      ]
    },
    {
      "cell_type": "code",
      "source": [
        "test.head(3)"
      ],
      "metadata": {
        "colab": {
          "base_uri": "https://localhost:8080/",
          "height": 485
        },
        "id": "TF_CC6ofJgfV",
        "outputId": "5b349b25-d240-49a2-baba-ecbaecc4130e"
      },
      "execution_count": null,
      "outputs": [
        {
          "output_type": "execute_result",
          "data": {
            "text/plain": [
              "                   id                               postMedia  \\\n",
              "0  858426904239497216  ['media/photo_858425825229549568.jpg']   \n",
              "1  858416350540201984  ['media/photo_858416342268911616.jpg']   \n",
              "2  858364015260704768                                      []   \n",
              "\n",
              "                                      targetCaptions  \\\n",
              "0  ['Cleveland Browns logo', 'Dec 6, 2015; Clevel...   \n",
              "1           ['Five', 'Guilfoyle', 'Coulter', 'Cain']   \n",
              "2                                                 []   \n",
              "\n",
              "                                            postText  \\\n",
              "0  Johnny Manziel on Browns' No. 1 pick Myles Gar...   \n",
              "1  Fabio: California Is a 'Mess' Because of Liber...   \n",
              "2            \"He's been huge for us this year, man.\"   \n",
              "\n",
              "                    postTimestamp  \\\n",
              "0  Sat Apr 29 21:04:57 +0000 2017   \n",
              "1  Sat Apr 29 20:23:01 +0000 2017   \n",
              "2  Sat Apr 29 16:55:03 +0000 2017   \n",
              "\n",
              "                                         targetTitle  \\\n",
              "0  Johnny Manziel Says Top Pick in Draft Myles Ga...   \n",
              "1  Fabio: California Is a 'Mess' Because of Liber...   \n",
              "2  Jimmy Butler wants to return, hopes Bulls keep...   \n",
              "\n",
              "                                   targetDescription  \\\n",
              "0  Johnny   Manziel   approves of the  Cleveland ...   \n",
              "1  Fabio, the Italian-born male model who has ado...   \n",
              "2  Bulls guard Jimmy Butler says he wants to rema...   \n",
              "\n",
              "                                      targetKeywords  \\\n",
              "0  NFL Draft, Football, NFL, AFC North, Cleveland...   \n",
              "1                                                NaN   \n",
              "2  guards, backcourt, option, contract, Chicago B...   \n",
              "\n",
              "                                    targetParagraphs  \\\n",
              "0  [\"Johnny Manziel approves of the Cleveland Bro...   \n",
              "1  ['Fabio, the Italian-born male model who has a...   \n",
              "2  [\"CHICAGO -- All-Star swingman Jimmy Butler kn...   \n",
              "\n",
              "                              truthJudgments    truthClass  truthMedian  \\\n",
              "0                  [0.0, 0.0, 0.0, 0.0, 0.0]  no-clickbait          0.0   \n",
              "1  [0.0, 0.0, 0.0, 0.33333333330000003, 0.0]  no-clickbait          0.0   \n",
              "2                  [1.0, 1.0, 1.0, 1.0, 1.0]     clickbait          1.0   \n",
              "\n",
              "   truthMode  truthMean  \n",
              "0        0.0   0.000000  \n",
              "1        0.0   0.066667  \n",
              "2        1.0   1.000000  "
            ],
            "text/html": [
              "\n",
              "  <div id=\"df-82d1f7ab-702c-46c6-b565-0c8a05c6aff3\">\n",
              "    <div class=\"colab-df-container\">\n",
              "      <div>\n",
              "<style scoped>\n",
              "    .dataframe tbody tr th:only-of-type {\n",
              "        vertical-align: middle;\n",
              "    }\n",
              "\n",
              "    .dataframe tbody tr th {\n",
              "        vertical-align: top;\n",
              "    }\n",
              "\n",
              "    .dataframe thead th {\n",
              "        text-align: right;\n",
              "    }\n",
              "</style>\n",
              "<table border=\"1\" class=\"dataframe\">\n",
              "  <thead>\n",
              "    <tr style=\"text-align: right;\">\n",
              "      <th></th>\n",
              "      <th>id</th>\n",
              "      <th>postMedia</th>\n",
              "      <th>targetCaptions</th>\n",
              "      <th>postText</th>\n",
              "      <th>postTimestamp</th>\n",
              "      <th>targetTitle</th>\n",
              "      <th>targetDescription</th>\n",
              "      <th>targetKeywords</th>\n",
              "      <th>targetParagraphs</th>\n",
              "      <th>truthJudgments</th>\n",
              "      <th>truthClass</th>\n",
              "      <th>truthMedian</th>\n",
              "      <th>truthMode</th>\n",
              "      <th>truthMean</th>\n",
              "    </tr>\n",
              "  </thead>\n",
              "  <tbody>\n",
              "    <tr>\n",
              "      <th>0</th>\n",
              "      <td>858426904239497216</td>\n",
              "      <td>['media/photo_858425825229549568.jpg']</td>\n",
              "      <td>['Cleveland Browns logo', 'Dec 6, 2015; Clevel...</td>\n",
              "      <td>Johnny Manziel on Browns' No. 1 pick Myles Gar...</td>\n",
              "      <td>Sat Apr 29 21:04:57 +0000 2017</td>\n",
              "      <td>Johnny Manziel Says Top Pick in Draft Myles Ga...</td>\n",
              "      <td>Johnny   Manziel   approves of the  Cleveland ...</td>\n",
              "      <td>NFL Draft, Football, NFL, AFC North, Cleveland...</td>\n",
              "      <td>[\"Johnny Manziel approves of the Cleveland Bro...</td>\n",
              "      <td>[0.0, 0.0, 0.0, 0.0, 0.0]</td>\n",
              "      <td>no-clickbait</td>\n",
              "      <td>0.0</td>\n",
              "      <td>0.0</td>\n",
              "      <td>0.000000</td>\n",
              "    </tr>\n",
              "    <tr>\n",
              "      <th>1</th>\n",
              "      <td>858416350540201984</td>\n",
              "      <td>['media/photo_858416342268911616.jpg']</td>\n",
              "      <td>['Five', 'Guilfoyle', 'Coulter', 'Cain']</td>\n",
              "      <td>Fabio: California Is a 'Mess' Because of Liber...</td>\n",
              "      <td>Sat Apr 29 20:23:01 +0000 2017</td>\n",
              "      <td>Fabio: California Is a 'Mess' Because of Liber...</td>\n",
              "      <td>Fabio, the Italian-born male model who has ado...</td>\n",
              "      <td>NaN</td>\n",
              "      <td>['Fabio, the Italian-born male model who has a...</td>\n",
              "      <td>[0.0, 0.0, 0.0, 0.33333333330000003, 0.0]</td>\n",
              "      <td>no-clickbait</td>\n",
              "      <td>0.0</td>\n",
              "      <td>0.0</td>\n",
              "      <td>0.066667</td>\n",
              "    </tr>\n",
              "    <tr>\n",
              "      <th>2</th>\n",
              "      <td>858364015260704768</td>\n",
              "      <td>[]</td>\n",
              "      <td>[]</td>\n",
              "      <td>\"He's been huge for us this year, man.\"</td>\n",
              "      <td>Sat Apr 29 16:55:03 +0000 2017</td>\n",
              "      <td>Jimmy Butler wants to return, hopes Bulls keep...</td>\n",
              "      <td>Bulls guard Jimmy Butler says he wants to rema...</td>\n",
              "      <td>guards, backcourt, option, contract, Chicago B...</td>\n",
              "      <td>[\"CHICAGO -- All-Star swingman Jimmy Butler kn...</td>\n",
              "      <td>[1.0, 1.0, 1.0, 1.0, 1.0]</td>\n",
              "      <td>clickbait</td>\n",
              "      <td>1.0</td>\n",
              "      <td>1.0</td>\n",
              "      <td>1.000000</td>\n",
              "    </tr>\n",
              "  </tbody>\n",
              "</table>\n",
              "</div>\n",
              "      <button class=\"colab-df-convert\" onclick=\"convertToInteractive('df-82d1f7ab-702c-46c6-b565-0c8a05c6aff3')\"\n",
              "              title=\"Convert this dataframe to an interactive table.\"\n",
              "              style=\"display:none;\">\n",
              "        \n",
              "  <svg xmlns=\"http://www.w3.org/2000/svg\" height=\"24px\"viewBox=\"0 0 24 24\"\n",
              "       width=\"24px\">\n",
              "    <path d=\"M0 0h24v24H0V0z\" fill=\"none\"/>\n",
              "    <path d=\"M18.56 5.44l.94 2.06.94-2.06 2.06-.94-2.06-.94-.94-2.06-.94 2.06-2.06.94zm-11 1L8.5 8.5l.94-2.06 2.06-.94-2.06-.94L8.5 2.5l-.94 2.06-2.06.94zm10 10l.94 2.06.94-2.06 2.06-.94-2.06-.94-.94-2.06-.94 2.06-2.06.94z\"/><path d=\"M17.41 7.96l-1.37-1.37c-.4-.4-.92-.59-1.43-.59-.52 0-1.04.2-1.43.59L10.3 9.45l-7.72 7.72c-.78.78-.78 2.05 0 2.83L4 21.41c.39.39.9.59 1.41.59.51 0 1.02-.2 1.41-.59l7.78-7.78 2.81-2.81c.8-.78.8-2.07 0-2.86zM5.41 20L4 18.59l7.72-7.72 1.47 1.35L5.41 20z\"/>\n",
              "  </svg>\n",
              "      </button>\n",
              "      \n",
              "  <style>\n",
              "    .colab-df-container {\n",
              "      display:flex;\n",
              "      flex-wrap:wrap;\n",
              "      gap: 12px;\n",
              "    }\n",
              "\n",
              "    .colab-df-convert {\n",
              "      background-color: #E8F0FE;\n",
              "      border: none;\n",
              "      border-radius: 50%;\n",
              "      cursor: pointer;\n",
              "      display: none;\n",
              "      fill: #1967D2;\n",
              "      height: 32px;\n",
              "      padding: 0 0 0 0;\n",
              "      width: 32px;\n",
              "    }\n",
              "\n",
              "    .colab-df-convert:hover {\n",
              "      background-color: #E2EBFA;\n",
              "      box-shadow: 0px 1px 2px rgba(60, 64, 67, 0.3), 0px 1px 3px 1px rgba(60, 64, 67, 0.15);\n",
              "      fill: #174EA6;\n",
              "    }\n",
              "\n",
              "    [theme=dark] .colab-df-convert {\n",
              "      background-color: #3B4455;\n",
              "      fill: #D2E3FC;\n",
              "    }\n",
              "\n",
              "    [theme=dark] .colab-df-convert:hover {\n",
              "      background-color: #434B5C;\n",
              "      box-shadow: 0px 1px 3px 1px rgba(0, 0, 0, 0.15);\n",
              "      filter: drop-shadow(0px 1px 2px rgba(0, 0, 0, 0.3));\n",
              "      fill: #FFFFFF;\n",
              "    }\n",
              "  </style>\n",
              "\n",
              "      <script>\n",
              "        const buttonEl =\n",
              "          document.querySelector('#df-82d1f7ab-702c-46c6-b565-0c8a05c6aff3 button.colab-df-convert');\n",
              "        buttonEl.style.display =\n",
              "          google.colab.kernel.accessAllowed ? 'block' : 'none';\n",
              "\n",
              "        async function convertToInteractive(key) {\n",
              "          const element = document.querySelector('#df-82d1f7ab-702c-46c6-b565-0c8a05c6aff3');\n",
              "          const dataTable =\n",
              "            await google.colab.kernel.invokeFunction('convertToInteractive',\n",
              "                                                     [key], {});\n",
              "          if (!dataTable) return;\n",
              "\n",
              "          const docLinkHtml = 'Like what you see? Visit the ' +\n",
              "            '<a target=\"_blank\" href=https://colab.research.google.com/notebooks/data_table.ipynb>data table notebook</a>'\n",
              "            + ' to learn more about interactive tables.';\n",
              "          element.innerHTML = '';\n",
              "          dataTable['output_type'] = 'display_data';\n",
              "          await google.colab.output.renderOutput(dataTable, element);\n",
              "          const docLink = document.createElement('div');\n",
              "          docLink.innerHTML = docLinkHtml;\n",
              "          element.appendChild(docLink);\n",
              "        }\n",
              "      </script>\n",
              "    </div>\n",
              "  </div>\n",
              "  "
            ]
          },
          "metadata": {},
          "execution_count": 39
        }
      ]
    },
    {
      "cell_type": "markdown",
      "source": [
        "Y cuántos tweets tenemos:"
      ],
      "metadata": {
        "id": "qbWTx-7HUfDx"
      }
    },
    {
      "cell_type": "code",
      "source": [
        "fig = plt.figure(figsize =(5, 5))\n",
        "ax = fig.add_axes([0,0,1,1])\n",
        "langs = ['Train', 'Test']\n",
        "students = [len(train),len(test)]\n",
        "ax.bar(langs,students)\n",
        "\n",
        "plt.title(\"Número de Tweets\", fontsize=16)\n",
        "plt.xlabel(\"Dataset\", fontsize=12) \n",
        "plt.ylabel(\"Cantidad\", fontsize=12)\n",
        "plt.ylim(0, 25000)  \n",
        "rects = ax.patches\n",
        "\n",
        "# Make some labels.\n",
        "labels = [len(train), len(test)]\n",
        "\n",
        "for rect, label in zip(rects, labels):\n",
        "    height = rect.get_height()\n",
        "    ax.text(\n",
        "        rect.get_x() + rect.get_width() / 2, height + 500, label, ha=\"center\", va=\"bottom\"\n",
        "    )\n",
        "plt.show()\n",
        "plt.close()"
      ],
      "metadata": {
        "colab": {
          "base_uri": "https://localhost:8080/",
          "height": 443
        },
        "id": "VOp1ldaNSxhv",
        "outputId": "0db5e0ee-1be0-4e41-ad1d-fc46f3be3a9c"
      },
      "execution_count": null,
      "outputs": [
        {
          "output_type": "display_data",
          "data": {
            "text/plain": [
              "<Figure size 360x360 with 1 Axes>"
            ],
            "image/png": "[encoded data removed]"
          },
          "metadata": {
            "needs_background": "light"
          }
        }
      ]
    },
    {
      "cell_type": "markdown",
      "source": [
        "A continuación, veremos qué tipo de objeto contiene cada columna y cuántas entradas nulas hay para ambos datasets."
      ],
      "metadata": {
        "id": "MUipDMfiRjH0"
      }
    },
    {
      "cell_type": "code",
      "source": [
        "train.info()"
      ],
      "metadata": {
        "colab": {
          "base_uri": "https://localhost:8080/"
        },
        "id": "SMO29x19Rigb",
        "outputId": "1e694f0e-529f-406f-9a37-f1054797cb77"
      },
      "execution_count": null,
      "outputs": [
        {
          "output_type": "stream",
          "name": "stdout",
          "text": [
            "<class 'pandas.core.frame.DataFrame'>\n",
            "Int64Index: 19538 entries, 0 to 19537\n",
            "Data columns (total 14 columns):\n",
            " #   Column             Non-Null Count  Dtype  \n",
            "---  ------             --------------  -----  \n",
            " 0   postMedia          19538 non-null  object \n",
            " 1   postText           19484 non-null  object \n",
            " 2   id                 19538 non-null  int64  \n",
            " 3   targetCaptions     19538 non-null  object \n",
            " 4   targetParagraphs   19538 non-null  object \n",
            " 5   targetTitle        19538 non-null  object \n",
            " 6   postTimestamp      19538 non-null  object \n",
            " 7   targetKeywords     12309 non-null  object \n",
            " 8   targetDescription  18595 non-null  object \n",
            " 9   truthJudgments     19538 non-null  object \n",
            " 10  truthMean          19538 non-null  float64\n",
            " 11  truthClass         19538 non-null  object \n",
            " 12  truthMedian        19538 non-null  float64\n",
            " 13  truthMode          19538 non-null  float64\n",
            "dtypes: float64(3), int64(1), object(10)\n",
            "memory usage: 2.2+ MB\n"
          ]
        }
      ]
    },
    {
      "cell_type": "code",
      "source": [
        "test.info()"
      ],
      "metadata": {
        "colab": {
          "base_uri": "https://localhost:8080/"
        },
        "id": "7Pp8tUx9Rp3W",
        "outputId": "fd932dac-3efa-4df7-ffd9-4d1eb0d558f0"
      },
      "execution_count": null,
      "outputs": [
        {
          "output_type": "stream",
          "name": "stdout",
          "text": [
            "<class 'pandas.core.frame.DataFrame'>\n",
            "Int64Index: 18979 entries, 0 to 18978\n",
            "Data columns (total 14 columns):\n",
            " #   Column             Non-Null Count  Dtype  \n",
            "---  ------             --------------  -----  \n",
            " 0   id                 18979 non-null  int64  \n",
            " 1   postMedia          18979 non-null  object \n",
            " 2   targetCaptions     18979 non-null  object \n",
            " 3   postText           18913 non-null  object \n",
            " 4   postTimestamp      18979 non-null  object \n",
            " 5   targetTitle        18979 non-null  object \n",
            " 6   targetDescription  18055 non-null  object \n",
            " 7   targetKeywords     11925 non-null  object \n",
            " 8   targetParagraphs   18979 non-null  object \n",
            " 9   truthJudgments     18979 non-null  object \n",
            " 10  truthClass         18979 non-null  object \n",
            " 11  truthMedian        18979 non-null  float64\n",
            " 12  truthMode          18979 non-null  float64\n",
            " 13  truthMean          18979 non-null  float64\n",
            "dtypes: float64(3), int64(1), object(10)\n",
            "memory usage: 2.2+ MB\n"
          ]
        }
      ]
    },
    {
      "cell_type": "markdown",
      "source": [
        "Parece que falta información en algunas columnas como *postText* o *targetDescription*.\n",
        "No obstante, como en este caso sólo estamos interesados en las columnas **postText** y **truthClass**, antes de lidiar con los *nulls* reduciremos nuestro dataset a estas dos columnas:"
      ],
      "metadata": {
        "id": "QTy45sIXPtjQ"
      }
    },
    {
      "cell_type": "code",
      "source": [
        "train = train[['postText', 'truthClass']]\n",
        "test = test[['postText', 'truthClass']]"
      ],
      "metadata": {
        "id": "NLsmbbYIObVi"
      },
      "execution_count": null,
      "outputs": []
    },
    {
      "cell_type": "markdown",
      "source": [
        "Ahora, vamos a ver cuántos *nulls* tenemos:"
      ],
      "metadata": {
        "id": "6iZnSUugSMOY"
      }
    },
    {
      "cell_type": "code",
      "source": [
        "fig = plt.figure()\n",
        "plt.title\n",
        "ax = fig.add_subplot(111) # Create matplotlib axes\n",
        "# ax2 = ax.twinx() # Create another axes that shares the same x-axis as ax.\n",
        "width = 0.2\n",
        "plt.ylim(0, 100) \n",
        "train.isnull().sum().plot.bar(color='blue', ax=ax, width=width, position=1)\n",
        "test.isnull().sum().plot.bar(color='red', ax=ax, width=width, position=0)"
      ],
      "metadata": {
        "colab": {
          "base_uri": "https://localhost:8080/",
          "height": 328
        },
        "id": "AbHjP8JtRN5R",
        "outputId": "9a2b074f-aec0-42ec-ea83-076e1d000feb"
      },
      "execution_count": null,
      "outputs": [
        {
          "output_type": "execute_result",
          "data": {
            "text/plain": [
              "<matplotlib.axes._subplots.AxesSubplot at 0x7fd3f2473410>"
            ]
          },
          "metadata": {},
          "execution_count": 44
        },
        {
          "output_type": "display_data",
          "data": {
            "text/plain": [
              "<Figure size 432x288 with 1 Axes>"
            ],
            "image/png": "[encoded data removed]"
          },
          "metadata": {
            "needs_background": "light"
          }
        }
      ]
    },
    {
      "cell_type": "markdown",
      "source": [
        "Podemos ver que hay 54 entradas vacías en el training set y 66 en el test set para la feature *postText*.\n",
        "\n",
        "Como desconozco exactamente la información que contiene el resto de columnas y, además, la cantidad de tweets vacíos es muy baja, simplemente eliminamos esos tweets"
      ],
      "metadata": {
        "id": "eAP3iB1-See9"
      }
    },
    {
      "cell_type": "code",
      "source": [
        "train = train.drop(train[train['postText'].isnull()].index)"
      ],
      "metadata": {
        "id": "j0k8P9KESdQw"
      },
      "execution_count": null,
      "outputs": []
    },
    {
      "cell_type": "code",
      "source": [
        "test = test.drop(test[test['postText'].isnull()].index)"
      ],
      "metadata": {
        "id": "5CR3wI19S5Zv"
      },
      "execution_count": null,
      "outputs": []
    },
    {
      "cell_type": "markdown",
      "source": [
        "y comprobamos que ya no tenemos nulls:"
      ],
      "metadata": {
        "id": "sLEK09p-Wfyz"
      }
    },
    {
      "cell_type": "code",
      "source": [
        "fig = plt.figure()\n",
        "ax = fig.add_subplot(111) # Create matplotlib axes\n",
        "# ax2 = ax.twinx() # Create another axes that shares the same x-axis as ax.\n",
        "width = 0.2\n",
        "plt.ylim(0, 100) \n",
        "train.isnull().sum().plot.bar(color='blue', ax=ax, width=width, position=1)\n",
        "test.isnull().sum().plot.bar(color='red', ax=ax, width=width, position=0)"
      ],
      "metadata": {
        "colab": {
          "base_uri": "https://localhost:8080/",
          "height": 328
        },
        "id": "XeyvqX1JWTFi",
        "outputId": "4812dc00-0961-4a1b-f46c-088fc5d4465d"
      },
      "execution_count": null,
      "outputs": [
        {
          "output_type": "execute_result",
          "data": {
            "text/plain": [
              "<matplotlib.axes._subplots.AxesSubplot at 0x7fd3f23a5f50>"
            ]
          },
          "metadata": {},
          "execution_count": 47
        },
        {
          "output_type": "display_data",
          "data": {
            "text/plain": [
              "<Figure size 432x288 with 1 Axes>"
            ],
            "image/png": "[encoded data removed]"
          },
          "metadata": {
            "needs_background": "light"
          }
        }
      ]
    },
    {
      "cell_type": "markdown",
      "source": [
        "El siguiente paso será comprobar que no hay ningún error en las etiquetas. Es decir, que realmente sólo hay dos etiquetas: \"clickbait\" y \"no-clickbait\"."
      ],
      "metadata": {
        "id": "uSkMjFyian-7"
      }
    },
    {
      "cell_type": "code",
      "source": [
        "fig = plt.figure()\n",
        "ax = fig.add_subplot(111) # Create matplotlib axes\n",
        "# ax2 = ax.twinx() # Create another axes that shares the same x-axis as ax.\n",
        "width = 0.2\n",
        "plt.ylim(0, 20000) \n",
        "train['truthClass'].value_counts().plot.bar(color='blue', ax=ax, width=width, position=1)\n",
        "test['truthClass'].value_counts().plot.bar(color='red', ax=ax, width=width, position=0)"
      ],
      "metadata": {
        "colab": {
          "base_uri": "https://localhost:8080/",
          "height": 335
        },
        "id": "WUXoa0otTCv0",
        "outputId": "212e0b6c-b618-4e55-cc3a-bb0f94e2fa06"
      },
      "execution_count": null,
      "outputs": [
        {
          "output_type": "execute_result",
          "data": {
            "text/plain": [
              "<matplotlib.axes._subplots.AxesSubplot at 0x7fd3f23a5e90>"
            ]
          },
          "metadata": {},
          "execution_count": 48
        },
        {
          "output_type": "display_data",
          "data": {
            "text/plain": [
              "<Figure size 432x288 with 1 Axes>"
            ],
            "image/png": "[encoded data removed]"
          },
          "metadata": {
            "needs_background": "light"
          }
        }
      ]
    },
    {
      "cell_type": "markdown",
      "source": [
        "Vemos que efectivamente sólo tenemos 2 etiquetas en una proporción aproximada de 1:3 (clickbait:no-clickbait).\n",
        "\n",
        "Es importante tener un training set más o menos balanceado para que el modelo no aprenda a predecir una única clase. \n",
        "\n",
        "En este caso, el dataset tiene cierto sesgo. Hay varias estrategias para balancear un dataset: *upsampling*, *downsampling*, *resampling*... En esta ocasión, vamos a dotar de diferentes pesos a cada clase, como veremos a la hora de entrenar nuestro modelo."
      ],
      "metadata": {
        "id": "J21xzwr9bXii"
      }
    },
    {
      "cell_type": "markdown",
      "source": [
        "# **2. Modelos de predicción clickbait**"
      ],
      "metadata": {
        "id": "CMuFNpVgwRgt"
      }
    },
    {
      "cell_type": "markdown",
      "source": [
        "Después del EDA, estamos listos para entrenar nuestros modelos de predicción.\n",
        "Para la tarea de clasificación, usaremos un *encoder* basado en *transformers* como BERT (Bidirectional Encoder Representations from Transformers) y una modificación de este como RoBERTa.\n",
        "\n",
        "De manera muy resumida, para procesar lenguaje necesitamos codificar las palabras en vectores. Hay multitud de *embbedings* capaces de hacerlo. La ventaja de BERT es que además de codificar las palabras, las dota de contexto gracias al mecanismo de atención. BERT abandona la recurrencia de otros modelos recurrentes de codificación como ELMo o ULMFit y se basa en capas de *encoders* de tipo *transformers*. A diferencia de los primeros, BERT es realmente bidireccional mientras que los modelos de recurrencia concatenan la lectura izquierda/derecha derecha/izquierda.\n"
      ],
      "metadata": {
        "id": "etq2Q_4YwWeG"
      }
    },
    {
      "cell_type": "markdown",
      "source": [
        "La arquitectura de todos los modelos que siguen es la siguiente:\n",
        "\n",
        "*Input* --> **ENCODER** --> [CLS] --> **LINEAR LAYER** --> *Sigmoid* --> Output (clase)\n",
        "\n",
        "Optimizaremos los pesos de la red neuronal partiendo desde unos pesos preentrenados (*fine-tuning*)."
      ],
      "metadata": {
        "id": "fxrM-wwtw1iI"
      }
    },
    {
      "cell_type": "markdown",
      "source": [
        "Primero, instalamos *transformers* de HuggingFace"
      ],
      "metadata": {
        "id": "S3GiSUgZy5FB"
      }
    },
    {
      "cell_type": "code",
      "source": [
        "pip install transformers"
      ],
      "metadata": {
        "colab": {
          "base_uri": "https://localhost:8080/"
        },
        "id": "ohgNdwQebUXL",
        "outputId": "106699a7-cac6-4105-b645-717e26694770"
      },
      "execution_count": null,
      "outputs": [
        {
          "output_type": "stream",
          "name": "stdout",
          "text": [
            "Requirement already satisfied: transformers in /usr/local/lib/python3.7/dist-packages (4.18.0)\n",
            "Requirement already satisfied: packaging>=20.0 in /usr/local/lib/python3.7/dist-packages (from transformers) (21.3)\n",
            "Requirement already satisfied: importlib-metadata in /usr/local/lib/python3.7/dist-packages (from transformers) (4.11.3)\n",
            "Requirement already satisfied: sacremoses in /usr/local/lib/python3.7/dist-packages (from transformers) (0.0.49)\n",
            "Requirement already satisfied: huggingface-hub<1.0,>=0.1.0 in /usr/local/lib/python3.7/dist-packages (from transformers) (0.5.1)\n",
            "Requirement already satisfied: tokenizers!=0.11.3,<0.13,>=0.11.1 in /usr/local/lib/python3.7/dist-packages (from transformers) (0.11.6)\n",
            "Requirement already satisfied: tqdm>=4.27 in /usr/local/lib/python3.7/dist-packages (from transformers) (4.63.0)\n",
            "Requirement already satisfied: numpy>=1.17 in /usr/local/lib/python3.7/dist-packages (from transformers) (1.21.5)\n",
            "Requirement already satisfied: regex!=2019.12.17 in /usr/local/lib/python3.7/dist-packages (from transformers) (2019.12.20)\n",
            "Requirement already satisfied: requests in /usr/local/lib/python3.7/dist-packages (from transformers) (2.23.0)\n",
            "Requirement already satisfied: pyyaml>=5.1 in /usr/local/lib/python3.7/dist-packages (from transformers) (6.0)\n",
            "Requirement already satisfied: filelock in /usr/local/lib/python3.7/dist-packages (from transformers) (3.6.0)\n",
            "Requirement already satisfied: typing-extensions>=3.7.4.3 in /usr/local/lib/python3.7/dist-packages (from huggingface-hub<1.0,>=0.1.0->transformers) (3.10.0.2)\n",
            "Requirement already satisfied: pyparsing!=3.0.5,>=2.0.2 in /usr/local/lib/python3.7/dist-packages (from packaging>=20.0->transformers) (3.0.7)\n",
            "Requirement already satisfied: zipp>=0.5 in /usr/local/lib/python3.7/dist-packages (from importlib-metadata->transformers) (3.7.0)\n",
            "Requirement already satisfied: certifi>=2017.4.17 in /usr/local/lib/python3.7/dist-packages (from requests->transformers) (2021.10.8)\n",
            "Requirement already satisfied: idna<3,>=2.5 in /usr/local/lib/python3.7/dist-packages (from requests->transformers) (2.10)\n",
            "Requirement already satisfied: chardet<4,>=3.0.2 in /usr/local/lib/python3.7/dist-packages (from requests->transformers) (3.0.4)\n",
            "Requirement already satisfied: urllib3!=1.25.0,!=1.25.1,<1.26,>=1.21.1 in /usr/local/lib/python3.7/dist-packages (from requests->transformers) (1.24.3)\n",
            "Requirement already satisfied: click in /usr/local/lib/python3.7/dist-packages (from sacremoses->transformers) (7.1.2)\n",
            "Requirement already satisfied: six in /usr/local/lib/python3.7/dist-packages (from sacremoses->transformers) (1.15.0)\n",
            "Requirement already satisfied: joblib in /usr/local/lib/python3.7/dist-packages (from sacremoses->transformers) (1.1.0)\n"
          ]
        }
      ]
    },
    {
      "cell_type": "markdown",
      "source": [
        "Cargamos las librerías que necesitamos"
      ],
      "metadata": {
        "id": "2NCtrUs-34Ic"
      }
    },
    {
      "cell_type": "code",
      "source": [
        "import numpy as np\n",
        "\n",
        "from transformers import TFBertForSequenceClassification, TFRobertaForSequenceClassification\n",
        "from transformers import BertTokenizerFast, RobertaTokenizerFast\n",
        "\n",
        "import tensorflow as tf\n",
        "from tensorflow import keras\n",
        "from tensorflow.keras import layers"
      ],
      "metadata": {
        "id": "wU98uupiy1cA"
      },
      "execution_count": null,
      "outputs": []
    },
    {
      "cell_type": "markdown",
      "source": [
        "# 2.1. BERT for sequence classification\n",
        "\n"
      ],
      "metadata": {
        "id": "UsXOF97e3fJL"
      }
    },
    {
      "cell_type": "markdown",
      "source": [
        "**Definición del modelo y de los inputs**\n",
        "\n",
        "---"
      ],
      "metadata": {
        "id": "us1ev3qJ5Tvi"
      }
    },
    {
      "cell_type": "markdown",
      "source": [
        "Vamos a definir dos funciones:"
      ],
      "metadata": {
        "id": "ahzmCSILZEvK"
      }
    },
    {
      "cell_type": "markdown",
      "source": [
        "*crear_inputs* va a coger los DataFrames *train* y *test*, los va a pasar por el TOKENIZER que elijamos y nos va a devolver *train_X*, *train_y*, *validation_X*, *validation_y*, *test_X* y *test_y*."
      ],
      "metadata": {
        "id": "UygSLOIQ5f2t"
      }
    },
    {
      "cell_type": "markdown",
      "source": [
        "*crear_clasificador_clickbait* crea una red con la arquitectura:\n",
        "\n",
        "train_X, train_y, validation_X, validation_y, test_X, test_y --> **BERT** --> [CLS] --> **LINEAR LAYER** --> *Sigmoid* --> Output (clase)"
      ],
      "metadata": {
        "id": "bHvYuxUe5i1V"
      }
    },
    {
      "cell_type": "code",
      "source": [
        "def crear_inputs(train, test, TOKENIZER, frac_val):\n",
        "  \n",
        "  train['code'] = np.where(train['truthClass'] == 'clickbait', 1, 0)\n",
        "  test['code'] = np.where(test['truthClass'] == 'clickbait', 1, 0)\n",
        "\n",
        "  validation = train.sample(frac=frac_val, random_state=42)\n",
        "  train = train.drop(validation.index)\n",
        "\n",
        "  ## Training set\n",
        "  encoded_tweets = TOKENIZER(train['postText'].to_list(), \n",
        "                             return_tensors='tf', \n",
        "                             padding=\"max_length\", \n",
        "                             truncation=True)\n",
        "  train_X = [encoded_tweets['input_ids'], \n",
        "             encoded_tweets['token_type_ids'], \n",
        "             encoded_tweets['attention_mask']]\n",
        "\n",
        "  train_y = tf.convert_to_tensor(np.array(train['code']).reshape(len(train['code']),1))\n",
        "\n",
        "  ## Validation set\n",
        "  encoded_tweets = TOKENIZER(validation['postText'].to_list(), \n",
        "                             return_tensors='tf', \n",
        "                             padding=\"max_length\", \n",
        "                             truncation=True)\n",
        "  validation_X = [encoded_tweets['input_ids'], \n",
        "             encoded_tweets['token_type_ids'], \n",
        "             encoded_tweets['attention_mask']]\n",
        "\n",
        "  validation_y = tf.convert_to_tensor(np.array(validation['code']).reshape(len(validation['code']),1))\n",
        "\n",
        "\n",
        "  ## Test set\n",
        "  encoded_tweets = TOKENIZER(test['postText'].to_list(), \n",
        "                             return_tensors='tf', \n",
        "                             padding=\"max_length\", \n",
        "                             truncation=True)\n",
        "  test_X =  [encoded_tweets['input_ids'], \n",
        "             encoded_tweets['token_type_ids'], \n",
        "             encoded_tweets['attention_mask']]\n",
        "\n",
        "  test_y = tf.convert_to_tensor(np.array(test['code']).reshape(len(test['code']),1))\n",
        "  \n",
        "  return train_X, train_y, validation_X, validation_y, test_X, test_y"
      ],
      "metadata": {
        "id": "nuTLAD3a4wyK"
      },
      "execution_count": null,
      "outputs": []
    },
    {
      "cell_type": "code",
      "source": [
        "def crear_clasificador_clickbait(encoder, loss, optimizer):\n",
        "  \n",
        "    ## Definimos los inputs (tamaño máximo 512 por el tokenizer)\n",
        "    input_ids = layers.Input(shape=(512,), dtype=tf.int32, name='input_ids')            # 512 el máximo para los encoders que estamos usando\n",
        "    token_type_ids = layers.Input(shape=(512,), dtype=tf.int32, name='token_type_ids')  # 512 el máximo para los encoders que estamos usando\n",
        "    attention_mask = layers.Input(shape=(512,), dtype=tf.int32, name='attention_mask')  # 512 el máximo para los encoders que estamos usando\n",
        "\n",
        "    ## Creamos el encoder encoder\n",
        "    encoder = encoder\n",
        "\n",
        "    ## Creamos el token CLS codificado\n",
        "    class_output = encoder(input_ids=input_ids, \n",
        "                        token_type_ids=token_type_ids, \n",
        "                        attention_mask=attention_mask, training=True)[0]  # Posición del token [CLS] after pooling\n",
        "\n",
        "    # # Activamos el output de la capa linear con un sigmoid para obtener la clase\n",
        "    class_output = layers.Activation(keras.activations.sigmoid, name='sigmoid')(class_output)\n",
        "\n",
        "    model = keras.Model(\n",
        "        inputs=[input_ids, token_type_ids, attention_mask],\n",
        "        outputs=[class_output],\n",
        "    )\n",
        "\n",
        "    ## Compilamos\n",
        "    model.compile(optimizer=optimizer, loss=loss)\n",
        "\n",
        "    return model"
      ],
      "metadata": {
        "id": "4opB46uSq-wI"
      },
      "execution_count": null,
      "outputs": []
    },
    {
      "cell_type": "markdown",
      "source": [
        "De estas dos funciones, es posible que, según el *tokenizer* que escojamos, haya que comentar algunas lineas. Por ejemplo, el tokenizer de RoBERTa, sólo saca como output \"input_ids\" y \"attention_mask\". Así pues, las lineas relacionadas con \"token_type_ids\" habría que comentarlas."
      ],
      "metadata": {
        "id": "I1YSqs8CkJDN"
      }
    },
    {
      "cell_type": "markdown",
      "source": [
        "**Creamos los inputs**. Hemos escogido que un 20% aleatorio de los tweets en el *training set* serviran como *validation set*."
      ],
      "metadata": {
        "id": "NyfRCvgfJvQN"
      }
    },
    {
      "cell_type": "code",
      "source": [
        "train_X, train_y, validation_X, validation_y, test_X, test_y = crear_inputs(train, test, TOKENIZER = BertTokenizerFast.from_pretrained(\"bert-base-uncased\"), frac_val=0.2)"
      ],
      "metadata": {
        "id": "MdqAsygWJ3DR"
      },
      "execution_count": null,
      "outputs": []
    },
    {
      "cell_type": "markdown",
      "source": [
        "**Creamos el modelo** en función si vamos a usar TPU o no:"
      ],
      "metadata": {
        "id": "laklUswkHn7b"
      }
    },
    {
      "cell_type": "code",
      "source": [
        "if use_tpu:\n",
        "    # Create distribution strategy\n",
        "    tpu = tf.distribute.cluster_resolver.TPUClusterResolver.connect()\n",
        "    strategy = tf.distribute.TPUStrategy(tpu)\n",
        "\n",
        "    # Create model\n",
        "    with strategy.scope():\n",
        "        # Esta es la linea que tenemos que modificar\n",
        "        clasificador = crear_clasificador_clickbait(encoder=TFBertForSequenceClassification.from_pretrained('bert-base-uncased', num_labels=1), \n",
        "                                                     loss = tf.keras.losses.BinaryCrossentropy(),\n",
        "                                                     optimizer = tf.keras.optimizers.Adam(learning_rate=1e-6),                                    # Learning rate decidido en función del comportamiento de la loss\n",
        "                                                     )\n",
        "else:\n",
        "    # Esta es la linea que tenemos que modificar\n",
        "    clasificador = crear_clasificador_clickbait(encoder=TFBertForSequenceClassification.from_pretrained('bert-base-uncased', num_labels=1), \n",
        "                                                 loss = tf.keras.losses.BinaryCrossentropy(),\n",
        "                                                 optimizer = tf.keras.optimizers.Adam(learning_rate=1e-6),                                        # Learning rate decidido en función del comportamiento de la loss\n",
        "                                                 )"
      ],
      "metadata": {
        "colab": {
          "base_uri": "https://localhost:8080/"
        },
        "id": "57rlaMTcld1Y",
        "outputId": "2827dd30-b11a-4887-a9d1-550ca54203db"
      },
      "execution_count": null,
      "outputs": [
        {
          "output_type": "stream",
          "name": "stdout",
          "text": [
            "INFO:tensorflow:Deallocate tpu buffers before initializing tpu system.\n"
          ]
        },
        {
          "output_type": "stream",
          "name": "stderr",
          "text": [
            "INFO:tensorflow:Deallocate tpu buffers before initializing tpu system.\n"
          ]
        },
        {
          "output_type": "stream",
          "name": "stdout",
          "text": [
            "WARNING:tensorflow:TPU system grpc://10.77.43.250:8470 has already been initialized. Reinitializing the TPU can cause previously created variables on TPU to be lost.\n"
          ]
        },
        {
          "output_type": "stream",
          "name": "stderr",
          "text": [
            "WARNING:tensorflow:TPU system grpc://10.77.43.250:8470 has already been initialized. Reinitializing the TPU can cause previously created variables on TPU to be lost.\n"
          ]
        },
        {
          "output_type": "stream",
          "name": "stdout",
          "text": [
            "INFO:tensorflow:Initializing the TPU system: grpc://10.77.43.250:8470\n"
          ]
        },
        {
          "output_type": "stream",
          "name": "stderr",
          "text": [
            "INFO:tensorflow:Initializing the TPU system: grpc://10.77.43.250:8470\n"
          ]
        },
        {
          "output_type": "stream",
          "name": "stdout",
          "text": [
            "INFO:tensorflow:Finished initializing TPU system.\n"
          ]
        },
        {
          "output_type": "stream",
          "name": "stderr",
          "text": [
            "INFO:tensorflow:Finished initializing TPU system.\n"
          ]
        },
        {
          "output_type": "stream",
          "name": "stdout",
          "text": [
            "INFO:tensorflow:Found TPU system:\n"
          ]
        },
        {
          "output_type": "stream",
          "name": "stderr",
          "text": [
            "INFO:tensorflow:Found TPU system:\n"
          ]
        },
        {
          "output_type": "stream",
          "name": "stdout",
          "text": [
            "INFO:tensorflow:*** Num TPU Cores: 8\n"
          ]
        },
        {
          "output_type": "stream",
          "name": "stderr",
          "text": [
            "INFO:tensorflow:*** Num TPU Cores: 8\n"
          ]
        },
        {
          "output_type": "stream",
          "name": "stdout",
          "text": [
            "INFO:tensorflow:*** Num TPU Workers: 1\n"
          ]
        },
        {
          "output_type": "stream",
          "name": "stderr",
          "text": [
            "INFO:tensorflow:*** Num TPU Workers: 1\n"
          ]
        },
        {
          "output_type": "stream",
          "name": "stdout",
          "text": [
            "INFO:tensorflow:*** Num TPU Cores Per Worker: 8\n"
          ]
        },
        {
          "output_type": "stream",
          "name": "stderr",
          "text": [
            "INFO:tensorflow:*** Num TPU Cores Per Worker: 8\n"
          ]
        },
        {
          "output_type": "stream",
          "name": "stdout",
          "text": [
            "INFO:tensorflow:*** Available Device: _DeviceAttributes(/job:localhost/replica:0/task:0/device:CPU:0, CPU, 0, 0)\n"
          ]
        },
        {
          "output_type": "stream",
          "name": "stderr",
          "text": [
            "INFO:tensorflow:*** Available Device: _DeviceAttributes(/job:localhost/replica:0/task:0/device:CPU:0, CPU, 0, 0)\n"
          ]
        },
        {
          "output_type": "stream",
          "name": "stdout",
          "text": [
            "INFO:tensorflow:*** Available Device: _DeviceAttributes(/job:worker/replica:0/task:0/device:CPU:0, CPU, 0, 0)\n"
          ]
        },
        {
          "output_type": "stream",
          "name": "stderr",
          "text": [
            "INFO:tensorflow:*** Available Device: _DeviceAttributes(/job:worker/replica:0/task:0/device:CPU:0, CPU, 0, 0)\n"
          ]
        },
        {
          "output_type": "stream",
          "name": "stdout",
          "text": [
            "INFO:tensorflow:*** Available Device: _DeviceAttributes(/job:worker/replica:0/task:0/device:TPU:0, TPU, 0, 0)\n"
          ]
        },
        {
          "output_type": "stream",
          "name": "stderr",
          "text": [
            "INFO:tensorflow:*** Available Device: _DeviceAttributes(/job:worker/replica:0/task:0/device:TPU:0, TPU, 0, 0)\n"
          ]
        },
        {
          "output_type": "stream",
          "name": "stdout",
          "text": [
            "INFO:tensorflow:*** Available Device: _DeviceAttributes(/job:worker/replica:0/task:0/device:TPU:1, TPU, 0, 0)\n"
          ]
        },
        {
          "output_type": "stream",
          "name": "stderr",
          "text": [
            "INFO:tensorflow:*** Available Device: _DeviceAttributes(/job:worker/replica:0/task:0/device:TPU:1, TPU, 0, 0)\n"
          ]
        },
        {
          "output_type": "stream",
          "name": "stdout",
          "text": [
            "INFO:tensorflow:*** Available Device: _DeviceAttributes(/job:worker/replica:0/task:0/device:TPU:2, TPU, 0, 0)\n"
          ]
        },
        {
          "output_type": "stream",
          "name": "stderr",
          "text": [
            "INFO:tensorflow:*** Available Device: _DeviceAttributes(/job:worker/replica:0/task:0/device:TPU:2, TPU, 0, 0)\n"
          ]
        },
        {
          "output_type": "stream",
          "name": "stdout",
          "text": [
            "INFO:tensorflow:*** Available Device: _DeviceAttributes(/job:worker/replica:0/task:0/device:TPU:3, TPU, 0, 0)\n"
          ]
        },
        {
          "output_type": "stream",
          "name": "stderr",
          "text": [
            "INFO:tensorflow:*** Available Device: _DeviceAttributes(/job:worker/replica:0/task:0/device:TPU:3, TPU, 0, 0)\n"
          ]
        },
        {
          "output_type": "stream",
          "name": "stdout",
          "text": [
            "INFO:tensorflow:*** Available Device: _DeviceAttributes(/job:worker/replica:0/task:0/device:TPU:4, TPU, 0, 0)\n"
          ]
        },
        {
          "output_type": "stream",
          "name": "stderr",
          "text": [
            "INFO:tensorflow:*** Available Device: _DeviceAttributes(/job:worker/replica:0/task:0/device:TPU:4, TPU, 0, 0)\n"
          ]
        },
        {
          "output_type": "stream",
          "name": "stdout",
          "text": [
            "INFO:tensorflow:*** Available Device: _DeviceAttributes(/job:worker/replica:0/task:0/device:TPU:5, TPU, 0, 0)\n"
          ]
        },
        {
          "output_type": "stream",
          "name": "stderr",
          "text": [
            "INFO:tensorflow:*** Available Device: _DeviceAttributes(/job:worker/replica:0/task:0/device:TPU:5, TPU, 0, 0)\n"
          ]
        },
        {
          "output_type": "stream",
          "name": "stdout",
          "text": [
            "INFO:tensorflow:*** Available Device: _DeviceAttributes(/job:worker/replica:0/task:0/device:TPU:6, TPU, 0, 0)\n"
          ]
        },
        {
          "output_type": "stream",
          "name": "stderr",
          "text": [
            "INFO:tensorflow:*** Available Device: _DeviceAttributes(/job:worker/replica:0/task:0/device:TPU:6, TPU, 0, 0)\n"
          ]
        },
        {
          "output_type": "stream",
          "name": "stdout",
          "text": [
            "INFO:tensorflow:*** Available Device: _DeviceAttributes(/job:worker/replica:0/task:0/device:TPU:7, TPU, 0, 0)\n"
          ]
        },
        {
          "output_type": "stream",
          "name": "stderr",
          "text": [
            "INFO:tensorflow:*** Available Device: _DeviceAttributes(/job:worker/replica:0/task:0/device:TPU:7, TPU, 0, 0)\n"
          ]
        },
        {
          "output_type": "stream",
          "name": "stdout",
          "text": [
            "INFO:tensorflow:*** Available Device: _DeviceAttributes(/job:worker/replica:0/task:0/device:TPU_SYSTEM:0, TPU_SYSTEM, 0, 0)\n"
          ]
        },
        {
          "output_type": "stream",
          "name": "stderr",
          "text": [
            "INFO:tensorflow:*** Available Device: _DeviceAttributes(/job:worker/replica:0/task:0/device:TPU_SYSTEM:0, TPU_SYSTEM, 0, 0)\n"
          ]
        },
        {
          "output_type": "stream",
          "name": "stdout",
          "text": [
            "INFO:tensorflow:*** Available Device: _DeviceAttributes(/job:worker/replica:0/task:0/device:XLA_CPU:0, XLA_CPU, 0, 0)\n"
          ]
        },
        {
          "output_type": "stream",
          "name": "stderr",
          "text": [
            "INFO:tensorflow:*** Available Device: _DeviceAttributes(/job:worker/replica:0/task:0/device:XLA_CPU:0, XLA_CPU, 0, 0)\n",
            "All model checkpoint layers were used when initializing TFBertForSequenceClassification.\n",
            "\n",
            "Some layers of TFBertForSequenceClassification were not initialized from the model checkpoint at bert-base-uncased and are newly initialized: ['classifier']\n",
            "You should probably TRAIN this model on a down-stream task to be able to use it for predictions and inference.\n"
          ]
        }
      ]
    },
    {
      "cell_type": "markdown",
      "source": [
        "Un resumen de la red que acabamos de crear:"
      ],
      "metadata": {
        "id": "vy1vR8RGzFMS"
      }
    },
    {
      "cell_type": "code",
      "source": [
        "clasificador.summary()"
      ],
      "metadata": {
        "colab": {
          "base_uri": "https://localhost:8080/"
        },
        "id": "8jT6ZCtSKKFY",
        "outputId": "bcfc3a77-31e3-4cbf-8b5b-a48a69405001"
      },
      "execution_count": null,
      "outputs": [
        {
          "output_type": "stream",
          "name": "stdout",
          "text": [
            "Model: \"model_1\"\n",
            "__________________________________________________________________________________________________\n",
            " Layer (type)                   Output Shape         Param #     Connected to                     \n",
            "==================================================================================================\n",
            " input_ids (InputLayer)         [(None, 512)]        0           []                               \n",
            "                                                                                                  \n",
            " attention_mask (InputLayer)    [(None, 512)]        0           []                               \n",
            "                                                                                                  \n",
            " token_type_ids (InputLayer)    [(None, 512)]        0           []                               \n",
            "                                                                                                  \n",
            " tf_bert_for_sequence_classific  TFSequenceClassifie  109483009  ['input_ids[0][0]',              \n",
            " ation_1 (TFBertForSequenceClas  rOutput(loss=None,               'attention_mask[0][0]',         \n",
            " sification)                    logits=(None, 1),                 'token_type_ids[0][0]']         \n",
            "                                 hidden_states=None                                               \n",
            "                                , attentions=None)                                                \n",
            "                                                                                                  \n",
            " sigmoid (Activation)           (None, 1)            0           ['tf_bert_for_sequence_classifica\n",
            "                                                                 tion_1[0][0]']                   \n",
            "                                                                                                  \n",
            "==================================================================================================\n",
            "Total params: 109,483,009\n",
            "Trainable params: 109,483,009\n",
            "Non-trainable params: 0\n",
            "__________________________________________________________________________________________________\n"
          ]
        }
      ]
    },
    {
      "cell_type": "markdown",
      "source": [
        "Por el tipo de encoder que estamos cargando, la capa *linear* que ejecuta la clasificación está integrada en el mismo encoder. En caso de que quisiésemos usar un encoder sin el *classification head*, habría que añadírselo en la función *crear_clasificador_clickbait*, como veremos en el punto 2.3."
      ],
      "metadata": {
        "id": "S3oaqQWkzKlc"
      }
    },
    {
      "cell_type": "markdown",
      "source": [
        "**Entrenamiento**\n",
        "\n",
        "---"
      ],
      "metadata": {
        "id": "2egBlzxR5MdV"
      }
    },
    {
      "cell_type": "markdown",
      "source": [
        "Antes de entrenar el modelo, vamos a monitorizar la *validation loss*, de manera que el entrenamiento se pare si en las 10 *epochs* siguientes no consigue mejorarla."
      ],
      "metadata": {
        "id": "sWG9JR9I0wz_"
      }
    },
    {
      "cell_type": "code",
      "source": [
        "early_stopping_monitor = tf.keras.callbacks.EarlyStopping(\n",
        "    monitor='val_loss',\n",
        "    min_delta=0,\n",
        "    patience=10,\n",
        "    verbose=0,\n",
        "    mode='min',\n",
        "    baseline=None,\n",
        "    restore_best_weights=True\n",
        ")"
      ],
      "metadata": {
        "id": "QPs9qNg5R516"
      },
      "execution_count": null,
      "outputs": []
    },
    {
      "cell_type": "markdown",
      "source": [
        "¡A entrenar! Para ello, hemos añadido diferentes pesos a las clases para \"balancear\" la proporción de las clases. Las clases 0 (no clickbait) y 1 (clickbait) van a tener un peso inversamente proporcional."
      ],
      "metadata": {
        "id": "5rE73rnf1eBP"
      }
    },
    {
      "cell_type": "code",
      "source": [
        "fitting = clasificador.fit(\n",
        "    x=train_X,\n",
        "    y=train_y,\n",
        "    batch_size=128,\n",
        "    epochs=50,                                      # Epochs hasta que actúa el monitor\n",
        "    validation_data=(validation_X, validation_y),\n",
        "    callbacks=[early_stopping_monitor],\n",
        "    class_weight={0: len(train[train['code'] == 1]) / len(train[train['code'] == 0]),\n",
        "                  1: 1.}\n",
        ")"
      ],
      "metadata": {
        "id": "7GMKeo-mKeE9",
        "colab": {
          "base_uri": "https://localhost:8080/"
        },
        "outputId": "f500500a-24b2-4970-ff1a-79fd0c1245ba"
      },
      "execution_count": null,
      "outputs": [
        {
          "output_type": "stream",
          "name": "stdout",
          "text": [
            "Epoch 1/50\n",
            "122/122 [==============================] - 237s 1s/step - loss: 0.3261 - val_loss: 0.6041\n",
            "Epoch 2/50\n",
            "122/122 [==============================] - 63s 514ms/step - loss: 0.2759 - val_loss: 0.5130\n",
            "Epoch 3/50\n",
            "122/122 [==============================] - 63s 515ms/step - loss: 0.2486 - val_loss: 0.4886\n",
            "Epoch 4/50\n",
            "122/122 [==============================] - 63s 516ms/step - loss: 0.2310 - val_loss: 0.4596\n",
            "Epoch 5/50\n",
            "122/122 [==============================] - 63s 514ms/step - loss: 0.2199 - val_loss: 0.4573\n",
            "Epoch 6/50\n",
            "122/122 [==============================] - 64s 521ms/step - loss: 0.2114 - val_loss: 0.4295\n",
            "Epoch 7/50\n",
            "122/122 [==============================] - 63s 515ms/step - loss: 0.2036 - val_loss: 0.4281\n",
            "Epoch 8/50\n",
            "122/122 [==============================] - 63s 516ms/step - loss: 0.1981 - val_loss: 0.4177\n",
            "Epoch 9/50\n",
            "122/122 [==============================] - 61s 503ms/step - loss: 0.1936 - val_loss: 0.4199\n",
            "Epoch 10/50\n",
            "122/122 [==============================] - 61s 504ms/step - loss: 0.1898 - val_loss: 0.4477\n",
            "Epoch 11/50\n",
            "122/122 [==============================] - 61s 503ms/step - loss: 0.1851 - val_loss: 0.4228\n",
            "Epoch 12/50\n",
            "122/122 [==============================] - 63s 520ms/step - loss: 0.1821 - val_loss: 0.4095\n",
            "Epoch 13/50\n",
            "122/122 [==============================] - 61s 503ms/step - loss: 0.1771 - val_loss: 0.4154\n",
            "Epoch 14/50\n",
            "122/122 [==============================] - 61s 504ms/step - loss: 0.1748 - val_loss: 0.4261\n",
            "Epoch 15/50\n",
            "122/122 [==============================] - 61s 504ms/step - loss: 0.1706 - val_loss: 0.4247\n",
            "Epoch 16/50\n",
            "122/122 [==============================] - 61s 503ms/step - loss: 0.1678 - val_loss: 0.4225\n",
            "Epoch 17/50\n",
            "122/122 [==============================] - 61s 503ms/step - loss: 0.1646 - val_loss: 0.4163\n",
            "Epoch 18/50\n",
            "122/122 [==============================] - 61s 503ms/step - loss: 0.1613 - val_loss: 0.4155\n",
            "Epoch 19/50\n",
            "122/122 [==============================] - 63s 516ms/step - loss: 0.1587 - val_loss: 0.3915\n",
            "Epoch 20/50\n",
            "122/122 [==============================] - 61s 503ms/step - loss: 0.1548 - val_loss: 0.4027\n",
            "Epoch 21/50\n",
            "122/122 [==============================] - 61s 503ms/step - loss: 0.1521 - val_loss: 0.4085\n",
            "Epoch 22/50\n",
            "122/122 [==============================] - 61s 503ms/step - loss: 0.1490 - val_loss: 0.3986\n",
            "Epoch 23/50\n",
            "122/122 [==============================] - 61s 503ms/step - loss: 0.1454 - val_loss: 0.3993\n",
            "Epoch 24/50\n",
            "122/122 [==============================] - 61s 503ms/step - loss: 0.1419 - val_loss: 0.4091\n",
            "Epoch 25/50\n",
            "122/122 [==============================] - 61s 502ms/step - loss: 0.1384 - val_loss: 0.4310\n",
            "Epoch 26/50\n",
            "122/122 [==============================] - 61s 503ms/step - loss: 0.1352 - val_loss: 0.4080\n",
            "Epoch 27/50\n",
            "122/122 [==============================] - 61s 502ms/step - loss: 0.1330 - val_loss: 0.4485\n",
            "Epoch 28/50\n",
            "122/122 [==============================] - 61s 503ms/step - loss: 0.1287 - val_loss: 0.4349\n",
            "Epoch 29/50\n",
            "122/122 [==============================] - 68s 557ms/step - loss: 0.1262 - val_loss: 0.4317\n"
          ]
        }
      ]
    },
    {
      "cell_type": "markdown",
      "source": [
        "Después de entrenar, queremos predecir clases en el validation y en el test. Para ello, debemos decirle al clasificador que ya no está funcionando en *training mode*. Esto es una particularidad de algunas redes neuronales."
      ],
      "metadata": {
        "id": "CrnDxvTf22eP"
      }
    },
    {
      "cell_type": "code",
      "source": [
        "clasificador.training=False"
      ],
      "metadata": {
        "id": "lNc9tN67S3_U"
      },
      "execution_count": null,
      "outputs": []
    },
    {
      "cell_type": "markdown",
      "source": [
        "Veamos el aspecto de la *training loss* y la *validation loss*"
      ],
      "metadata": {
        "id": "s3VgqO3E3Os0"
      }
    },
    {
      "cell_type": "code",
      "source": [
        "plt.plot(fitting.history['loss'][:])\n",
        "plt.plot(fitting.history['val_loss'][:])"
      ],
      "metadata": {
        "id": "hd_842DQaXFd",
        "colab": {
          "base_uri": "https://localhost:8080/",
          "height": 283
        },
        "outputId": "4ce50bde-ebe6-40c7-c6e8-e601964823e9"
      },
      "execution_count": null,
      "outputs": [
        {
          "output_type": "execute_result",
          "data": {
            "text/plain": [
              "[<matplotlib.lines.Line2D at 0x7fd3fbaa5590>]"
            ]
          },
          "metadata": {},
          "execution_count": 61
        },
        {
          "output_type": "display_data",
          "data": {
            "text/plain": [
              "<Figure size 432x288 with 1 Axes>"
            ],
            "image/png": "[encoded data removed]"
          },
          "metadata": {
            "needs_background": "light"
          }
        }
      ]
    },
    {
      "cell_type": "markdown",
      "source": [
        "El entrenamiento ha parado cuando la validation loss ya no mejoraba."
      ],
      "metadata": {
        "id": "CAOEjkhG3U7l"
      }
    },
    {
      "cell_type": "markdown",
      "source": [
        "**Evaluación sobre validation**\n",
        "\n",
        "---"
      ],
      "metadata": {
        "id": "RNNCk_2w6QWJ"
      }
    },
    {
      "cell_type": "markdown",
      "source": [
        "A continuación, vamos a analizar las siguientes métricas:\n",
        "\n",
        "**precision**: de los tweets que hemos clasificado como un clase, cuántos realmente los son.    \n",
        "\n",
        "**recall**: Cuántos tweets de una clase hemos logrado identificar correctamente.\n",
        "\n",
        "**f1-score**: La media harmónica de **precision** y **recall**\n",
        "\n",
        "**accuracy**: % de acierto global del modelo. Capacidad de discernir entre clickbait y no clickbait."
      ],
      "metadata": {
        "id": "vvwzT4bt33xJ"
      }
    },
    {
      "cell_type": "code",
      "source": [
        "import seaborn as sns\n",
        "from sklearn.metrics import classification_report, confusion_matrix, accuracy_score\n",
        "from termcolor import colored\n",
        "\n",
        "predicted_proba = clasificador.predict(validation_X)\n",
        "#thresold modificable\n",
        "threshold = 0.5\n",
        "predicted = (predicted_proba >= threshold).astype('int')\n",
        "\n",
        "#for deaful threshold change param 'predicted' per 'y_pred'\n",
        "print(colored('\\nConfusion Matrix: \\n', attrs=['bold']),confusion_matrix(np.array(validation_y[:,0]), predicted),'\\n\\n-------------------')\n",
        "print(colored('Classification_report: \\n', attrs=['bold']),classification_report(np.array(validation_y[:,0]), predicted),'\\n-------------------')\n",
        "# print(colored('Accuracy: \\n', attrs=['bold']),accuracy_score(np.array(validation_y[:,0]), predicted))\n",
        "\n",
        "data_predicted = pd.DataFrame(columns=['prediction','gt'])\n",
        "data_predicted['prediction'] = predicted_proba.reshape((len(predicted_proba),))\n",
        "data_predicted['gt'] = np.array(validation_y[:,0])\n",
        "data_predicted_0=data_predicted[data_predicted['gt']==0]\n",
        "data_predicted_1=data_predicted[data_predicted['gt']==1]\n",
        "\n",
        "f, ax = plt.subplots(figsize=(15,7))\n",
        "ax = sns.distplot(data_predicted_0['prediction'], hist=False, rug=False, bins=100, color='deepskyblue', kde_kws = {'shade': True, 'linewidth': 2}, label='No clickbait')\n",
        "ax = sns.distplot(data_predicted_1['prediction'], hist=False, rug=False, bins=100, color='orange', kde_kws = {'shade': True, 'linewidth': 2}, label='clickbait')\n",
        "ax.set_title(\"Density Chart\")\n",
        "plt.axvline(threshold, 0, color='red')\n",
        "plt.xlim(-0.1, 1.1)\n",
        "plt.legend()\n",
        "plt.show(block=False)"
      ],
      "metadata": {
        "id": "ZbZpr1l9ef1Y",
        "colab": {
          "base_uri": "https://localhost:8080/",
          "height": 864
        },
        "outputId": "08274661-357c-4e7b-e675-91da1bc86dde"
      },
      "execution_count": null,
      "outputs": [
        {
          "output_type": "stream",
          "name": "stdout",
          "text": [
            "\u001b[1m\n",
            "Confusion Matrix: \n",
            "\u001b[0m [[2511  445]\n",
            " [ 224  717]] \n",
            "\n",
            "-------------------\n",
            "\u001b[1mClassification_report: \n",
            "\u001b[0m               precision    recall  f1-score   support\n",
            "\n",
            "           0       0.92      0.85      0.88      2956\n",
            "           1       0.62      0.76      0.68       941\n",
            "\n",
            "    accuracy                           0.83      3897\n",
            "   macro avg       0.77      0.81      0.78      3897\n",
            "weighted avg       0.85      0.83      0.83      3897\n",
            " \n",
            "-------------------\n"
          ]
        },
        {
          "output_type": "stream",
          "name": "stderr",
          "text": [
            "/usr/local/lib/python3.7/dist-packages/seaborn/distributions.py:2619: FutureWarning: `distplot` is a deprecated function and will be removed in a future version. Please adapt your code to use either `displot` (a figure-level function with similar flexibility) or `kdeplot` (an axes-level function for kernel density plots).\n",
            "  warnings.warn(msg, FutureWarning)\n",
            "/usr/local/lib/python3.7/dist-packages/seaborn/distributions.py:2619: FutureWarning: `distplot` is a deprecated function and will be removed in a future version. Please adapt your code to use either `displot` (a figure-level function with similar flexibility) or `kdeplot` (an axes-level function for kernel density plots).\n",
            "  warnings.warn(msg, FutureWarning)\n"
          ]
        },
        {
          "output_type": "display_data",
          "data": {
            "text/plain": [
              "<Figure size 1080x504 with 1 Axes>"
            ],
            "image/png": "[encoded data removed]"
          },
          "metadata": {
            "needs_background": "light"
          }
        }
      ]
    },
    {
      "cell_type": "markdown",
      "source": [
        "En el density chart, hemos decidido mantener el **umbral=0.5** para no-clickbait/clickbait, ya que hay dos picos claramente diferenciados aunque ambos tienen colas largas. Esto significa que, para los tweets que realmente son clickbait, la mayoría de veces le damos la etiqueta con valores cercanos a 1, pero hay muchos que adquieren valores muy alejados (cola). Lo mismo pasa con la clase no-clickbait."
      ],
      "metadata": {
        "id": "w4G4kdEMPHr2"
      }
    },
    {
      "cell_type": "markdown",
      "source": [
        "Para este caso concreto, cerca del 76% de los tweets son no-clickbait. Una solución trivial sería decir que todos los tweets son no-clickbait, con lo que ya obendríamos una *accuracy* del 76%. El modelo tiene una *accuracy* del 83%, de manera que mejora la solución trivial."
      ],
      "metadata": {
        "id": "p-qKRXc4U-oc"
      }
    },
    {
      "cell_type": "markdown",
      "source": [
        "Para los tweets **no-clickbat**, obtenemos excelentes valores de **precision**, **recall** y, naturalmente, **F1**. Esto significa que, capturamos casi todos los tweets que son no-clickbait (*recall*) del *validation set* y, además, de los predecidos como no-clickbait, casi todos realmente son no-clickbait (*precision*)."
      ],
      "metadata": {
        "id": "UavFtN9VQPek"
      }
    },
    {
      "cell_type": "markdown",
      "source": [
        "Para los tweets **clickbait**, aunque tenemos buen *recall*, la *precision* es más bien baja.Esto significa que nuestro clasificador clickbait, aunque logra idenficar el 76% de los tweets que realmente son clickbait (*recall*), el 38% de los tweets predecidos como clickbait realmente no lo son (1-*precision*)."
      ],
      "metadata": {
        "id": "KXnyJLMzRgK0"
      }
    },
    {
      "cell_type": "markdown",
      "source": [
        "Estos resultamos están acorde a otros modelos publicados con anterioridad:\n",
        "(https://ieeexplore.ieee.org/abstract/document/9617586/metrics#metrics"
      ],
      "metadata": {
        "id": "K1VLXKDfS3of"
      }
    },
    {
      "cell_type": "markdown",
      "source": [
        "**Evaluación sobre test**\n",
        "\n",
        "---"
      ],
      "metadata": {
        "id": "QdY2xpfvtOaT"
      }
    },
    {
      "cell_type": "code",
      "source": [
        "import seaborn as sns\n",
        "from sklearn.metrics import classification_report, confusion_matrix, accuracy_score\n",
        "from termcolor import colored\n",
        "\n",
        "predicted_proba = clasificador.predict(test_X)\n",
        "predicted = (predicted_proba >= threshold).astype('int')\n",
        "\n",
        "#for deaful threshold change param 'predicted' per 'y_pred'\n",
        "print(colored('\\nConfusion Matrix: \\n', attrs=['bold']),confusion_matrix(np.array(test_y[:,0]), predicted),'\\n\\n-------------------')\n",
        "print(colored('Classification_report: \\n', attrs=['bold']),classification_report(np.array(test_y[:,0]), predicted),'\\n-------------------')\n",
        "print(colored('Accuracy: \\n', attrs=['bold']),accuracy_score(np.array(test_y[:,0]), predicted))\n",
        "\n",
        "data_predicted = pd.DataFrame(columns=['prediction','gt'])\n",
        "data_predicted['prediction'] = predicted_proba.reshape((len(predicted_proba),))\n",
        "data_predicted['gt'] = np.array(test_y[:,0])\n",
        "data_predicted_0=data_predicted[data_predicted['gt']==0]\n",
        "data_predicted_1=data_predicted[data_predicted['gt']==1]\n",
        "\n",
        "f, ax = plt.subplots(figsize=(15,7))\n",
        "ax = sns.distplot(data_predicted_0['prediction'], hist=False, rug=False, bins=100, color='deepskyblue', kde_kws = {'shade': True, 'linewidth': 2}, label='No clickbait')\n",
        "ax = sns.distplot(data_predicted_1['prediction'], hist=False, rug=False, bins=100, color='orange', kde_kws = {'shade': True, 'linewidth': 2}, label='clickbait')\n",
        "ax.set_title(\"Density Chart\")\n",
        "plt.axvline(threshold, 0, color='red')\n",
        "plt.xlim(-0.1, 1.1)\n",
        "plt.legend()\n",
        "plt.show(block=False)"
      ],
      "metadata": {
        "colab": {
          "base_uri": "https://localhost:8080/",
          "height": 900
        },
        "id": "JIQ1CQrLOzff",
        "outputId": "0787f124-4fe2-475a-ddfe-ca1942c16adc"
      },
      "execution_count": null,
      "outputs": [
        {
          "output_type": "stream",
          "name": "stdout",
          "text": [
            "\u001b[1m\n",
            "Confusion Matrix: \n",
            "\u001b[0m [[12275  2180]\n",
            " [  848  3610]] \n",
            "\n",
            "-------------------\n",
            "\u001b[1mClassification_report: \n",
            "\u001b[0m               precision    recall  f1-score   support\n",
            "\n",
            "           0       0.94      0.85      0.89     14455\n",
            "           1       0.62      0.81      0.70      4458\n",
            "\n",
            "    accuracy                           0.84     18913\n",
            "   macro avg       0.78      0.83      0.80     18913\n",
            "weighted avg       0.86      0.84      0.85     18913\n",
            " \n",
            "-------------------\n",
            "\u001b[1mAccuracy: \n",
            "\u001b[0m 0.8398984825252472\n"
          ]
        },
        {
          "output_type": "stream",
          "name": "stderr",
          "text": [
            "/usr/local/lib/python3.7/dist-packages/seaborn/distributions.py:2619: FutureWarning: `distplot` is a deprecated function and will be removed in a future version. Please adapt your code to use either `displot` (a figure-level function with similar flexibility) or `kdeplot` (an axes-level function for kernel density plots).\n",
            "  warnings.warn(msg, FutureWarning)\n",
            "/usr/local/lib/python3.7/dist-packages/seaborn/distributions.py:2619: FutureWarning: `distplot` is a deprecated function and will be removed in a future version. Please adapt your code to use either `displot` (a figure-level function with similar flexibility) or `kdeplot` (an axes-level function for kernel density plots).\n",
            "  warnings.warn(msg, FutureWarning)\n"
          ]
        },
        {
          "output_type": "display_data",
          "data": {
            "text/plain": [
              "<Figure size 1080x504 with 1 Axes>"
            ],
            "image/png": "[encoded data removed]"
          },
          "metadata": {
            "needs_background": "light"
          }
        }
      ]
    },
    {
      "cell_type": "markdown",
      "source": [
        "La evaluación sobre el *test set* arroja resultamos muy similares a los obtenidos en el *validation set*.\n",
        "\n",
        "Para una discusión más detallada me refiero a lo ya dicho para el *validation set.*"
      ],
      "metadata": {
        "id": "9hVK568XWMgw"
      }
    },
    {
      "cell_type": "markdown",
      "source": [
        "# 2.2. RoBERTa for sequence classification"
      ],
      "metadata": {
        "id": "bYsWIeGQ-mrk"
      }
    },
    {
      "cell_type": "markdown",
      "source": [
        "**Definición del modelo y de los inputs**\n",
        "\n",
        "---"
      ],
      "metadata": {
        "id": "mq37OXal_SjA"
      }
    },
    {
      "cell_type": "markdown",
      "source": [
        "Vamos a definir dos funciones:"
      ],
      "metadata": {
        "id": "b-geo5nx_SjD"
      }
    },
    {
      "cell_type": "markdown",
      "source": [
        "*crear_inputs* va a coger los DataFrames *train* y *test*, los va a pasar por el TOKENIZER que elijamos y nos va a devolver *train_X*, *train_y*, *validation_X*, *validation_y*, *test_X* y *test_y*."
      ],
      "metadata": {
        "id": "xk48cGak_SjE"
      }
    },
    {
      "cell_type": "markdown",
      "source": [
        "*crear_clasificador_clickbait* crear una red con la arquitectura:\n",
        "\n",
        "train_X, train_y, validation_X, validation_y, test_X, test_y --> **RoBERTa** --> [CLS] --> **LINEAR LAYER** --> *Sigmoid* --> Output (clase)"
      ],
      "metadata": {
        "id": "ye2IDeQl_SjF"
      }
    },
    {
      "cell_type": "code",
      "source": [
        "def crear_inputs(train, test, TOKENIZER, frac_val):\n",
        "  \n",
        "  train['code'] = np.where(train['truthClass'] == 'clickbait', 1, 0)\n",
        "  test['code'] = np.where(test['truthClass'] == 'clickbait', 1, 0)\n",
        "\n",
        "  validation = train.sample(frac=frac_val, random_state=42)\n",
        "  train = train.drop(validation.index)\n",
        "\n",
        "  ## Training set\n",
        "  encoded_tweets = TOKENIZER(train['postText'].to_list(), \n",
        "                             return_tensors='tf', \n",
        "                             padding=\"max_length\", \n",
        "                             truncation=True)\n",
        "  train_X = [encoded_tweets['input_ids'], \n",
        "            #  encoded_tweets['token_type_ids'], \n",
        "             encoded_tweets['attention_mask']]\n",
        "\n",
        "  train_y = tf.convert_to_tensor(np.array(train['code']).reshape(len(train['code']),1))\n",
        "\n",
        "  ## Validation set\n",
        "  encoded_tweets = TOKENIZER(validation['postText'].to_list(), \n",
        "                             return_tensors='tf', \n",
        "                             padding=\"max_length\", \n",
        "                             truncation=True)\n",
        "  validation_X = [encoded_tweets['input_ids'], \n",
        "            #  encoded_tweets['token_type_ids'], \n",
        "             encoded_tweets['attention_mask']]\n",
        "\n",
        "  validation_y = tf.convert_to_tensor(np.array(validation['code']).reshape(len(validation['code']),1))\n",
        "\n",
        "\n",
        "  ## Test set\n",
        "  encoded_tweets = TOKENIZER(test['postText'].to_list(), \n",
        "                             return_tensors='tf', \n",
        "                             padding=\"max_length\", \n",
        "                             truncation=True)\n",
        "  test_X =  [encoded_tweets['input_ids'], \n",
        "            #  encoded_tweets['token_type_ids'], \n",
        "             encoded_tweets['attention_mask']]\n",
        "\n",
        "  test_y = tf.convert_to_tensor(np.array(test['code']).reshape(len(test['code']),1))\n",
        "  \n",
        "  return train_X, train_y, validation_X, validation_y, test_X, test_y"
      ],
      "metadata": {
        "id": "BOlS1jcd-mrs"
      },
      "execution_count": null,
      "outputs": []
    },
    {
      "cell_type": "code",
      "source": [
        "def crear_clasificador_clickbait(encoder, loss, optimizer):\n",
        "  \n",
        "    ## Definimos los inputs (tamaño máximo 512 por el tokenizer)\n",
        "    input_ids = layers.Input(shape=(512,), dtype=tf.int32, name='input_ids')\n",
        "    # token_type_ids = layers.Input(shape=(512,), dtype=tf.int32, name='token_type_ids')\n",
        "    attention_mask = layers.Input(shape=(512,), dtype=tf.int32, name='attention_mask')\n",
        "\n",
        "    ## Creamos el encoder encoder\n",
        "    encoder = encoder\n",
        "\n",
        "    ## Creamos el token CLS codificado\n",
        "    class_output = encoder(input_ids=input_ids, \n",
        "                        # token_type_ids=token_type_ids, \n",
        "                        attention_mask=attention_mask, training=True)[0]  # Posición del token [CLS] after pooling\n",
        "\n",
        "    # # Activamos el output de la capa linear con un sigmoid para obtener la clase\n",
        "    class_output = layers.Activation(keras.activations.sigmoid, name='sigmoid')(class_output)\n",
        "\n",
        "    model = keras.Model(\n",
        "        # inputs=[input_ids, token_type_ids, attention_mask],\n",
        "        inputs=[input_ids, attention_mask],\n",
        "        outputs=[class_output],\n",
        "    )\n",
        "\n",
        "    ## Compilamos\n",
        "    model.compile(optimizer=optimizer, loss=loss)\n",
        "\n",
        "    return model"
      ],
      "metadata": {
        "id": "D4Mv7H3s-mru"
      },
      "execution_count": null,
      "outputs": []
    },
    {
      "cell_type": "markdown",
      "source": [
        "Como hemos dicho en el punto 2.1., hemos comentado las líneas relacionadas con *token_type_ids*."
      ],
      "metadata": {
        "id": "t3ACzgm4-mrv"
      }
    },
    {
      "cell_type": "markdown",
      "source": [
        "**Creamos los inputs**. Hemos escogido que un 20% aleatorio de los tweets en el *training set* serviran como *validation set*."
      ],
      "metadata": {
        "id": "XLeFHdTn_jlh"
      }
    },
    {
      "cell_type": "code",
      "source": [
        "train_X, train_y, validation_X, validation_y, test_X, test_y = crear_inputs(train, test, TOKENIZER = RobertaTokenizerFast.from_pretrained(\"roberta-base\"), frac_val=0.2)"
      ],
      "metadata": {
        "colab": {
          "base_uri": "https://localhost:8080/",
          "height": 145,
          "referenced_widgets": [
            "9bce9871593e4fc5984098dcb320e71b",
            "15b30f35f04a47869bb25ed5abbd7b9f",
            "b9d439a669a544f0b3c8e1fd09ab88c3",
            "1f52f3803f6c47999d895093806ffec6",
            "ff026dafc902464db92d7cd28f302bf5",
            "413bdd6bf5b54cc189452f02f68f5486",
            "e2dce98687464774b227fecdd6ba4077",
            "e54707a6b6c34d3296f3da51f1de296d",
            "c829a6c231254574a8f4edbbbf42be10",
            "ef3a51504b11463898d1a90bfd54531c",
            "fc202ceba77a4a1cbe15eac668f5c4d1",
            "120201b08acf4d6dbfe0220f649ce1ca",
            "4ed1afacaa3c4524bd8e38ad44e2825c",
            "458be31fa5ac474e9f09daa0b4034891",
            "cea609955bf44f739981ab1cce44accf",
            "e0ca86cac60849df98eebb72570e9541",
            "38f538ec161c4311af123a13c0710dfc",
            "4c154bbd8dbb4b83b5a6e6ba3c661724",
            "afca0f49f1074806960a256d0afacdd5",
            "4fa6e346d81f4fc9bb7f58f361c91c3e",
            "9a0bf96918704001be062014b7422a70",
            "8e087656259e44959847c690f0849518",
            "45f62b7baabe4000acebc4fcf66efdec",
            "10d22bf633764688b54512bdce1498a4",
            "a85c0773ba404eefa9a01ad6485abd1d",
            "834af7f9d65e4265870d53d6ca212831",
            "151ddf48630640f998de7d3abf79338d",
            "6c9f6f35680b40b0810be102480bb853",
            "d2591feb921a495f837fa0c45ed489fd",
            "446b2acd36ce4ad986c2bcae42d34527",
            "35bd2074c7514ba981173ea8dbb146a6",
            "00eed54b5c9b48fbaa1693585e2af1c9",
            "2fc56f0177f947958ae3b14d62cce788",
            "8032467f77e84c51a9b0f0febabb6cba",
            "1b4ebcf3fb5b49d3bd6379b800465e8d",
            "f80fe947b0a74a3d82d519e361c767cf",
            "3f0b9798dc814dd4bda1a2629f5edd8c",
            "5166004c76054453a0f58a09c641f1bf",
            "69d15b68a63e47898905e83cde72dbaa",
            "ec9fee296c034dd99f791693a98fdbf9",
            "bbef52c989944dd2a10e6d50cca34791",
            "42a5d90acf8c4947ae7d98b733a19551",
            "da0a9155550446e8b3e74d4152b4eded",
            "b002c26fb4164872a4bc97e068a867e4"
          ]
        },
        "outputId": "121b4e39-18f5-41dd-ac5b-cb58f386403d",
        "id": "cYnWe89T-mrw"
      },
      "execution_count": null,
      "outputs": [
        {
          "output_type": "display_data",
          "data": {
            "text/plain": [
              "Downloading:   0%|          | 0.00/878k [00:00<?, ?B/s]"
            ],
            "application/vnd.jupyter.widget-view+json": {
              "version_major": 2,
              "version_minor": 0,
              "model_id": "9bce9871593e4fc5984098dcb320e71b"
            }
          },
          "metadata": {}
        },
        {
          "output_type": "display_data",
          "data": {
            "text/plain": [
              "Downloading:   0%|          | 0.00/446k [00:00<?, ?B/s]"
            ],
            "application/vnd.jupyter.widget-view+json": {
              "version_major": 2,
              "version_minor": 0,
              "model_id": "120201b08acf4d6dbfe0220f649ce1ca"
            }
          },
          "metadata": {}
        },
        {
          "output_type": "display_data",
          "data": {
            "text/plain": [
              "Downloading:   0%|          | 0.00/1.29M [00:00<?, ?B/s]"
            ],
            "application/vnd.jupyter.widget-view+json": {
              "version_major": 2,
              "version_minor": 0,
              "model_id": "45f62b7baabe4000acebc4fcf66efdec"
            }
          },
          "metadata": {}
        },
        {
          "output_type": "display_data",
          "data": {
            "text/plain": [
              "Downloading:   0%|          | 0.00/481 [00:00<?, ?B/s]"
            ],
            "application/vnd.jupyter.widget-view+json": {
              "version_major": 2,
              "version_minor": 0,
              "model_id": "8032467f77e84c51a9b0f0febabb6cba"
            }
          },
          "metadata": {}
        }
      ]
    },
    {
      "cell_type": "markdown",
      "source": [
        "**Creamos el modelo** en función si vamos a usar TPU o no:"
      ],
      "metadata": {
        "id": "OyR69XEL_m5B"
      }
    },
    {
      "cell_type": "code",
      "source": [
        "if use_tpu:\n",
        "    # Create distribution strategy\n",
        "    tpu = tf.distribute.cluster_resolver.TPUClusterResolver.connect()\n",
        "    strategy = tf.distribute.TPUStrategy(tpu)\n",
        "\n",
        "    # Create model\n",
        "    with strategy.scope():\n",
        "        # Esta es la linea que tenemos que modificar\n",
        "        clasificador = crear_clasificador_clickbait(encoder= TFRobertaForSequenceClassification.from_pretrained('roberta-base', num_labels=1), \n",
        "                                                     loss = tf.keras.losses.BinaryCrossentropy(),\n",
        "                                                     optimizer = tf.keras.optimizers.Adam(learning_rate=1e-6),\n",
        "                                                     )\n",
        "else:\n",
        "    # Esta es la linea que tenemos que modificar\n",
        "    clasificador = crear_clasificador_clickbait(encoder= TFRobertaForSequenceClassification.from_pretrained('roberta-base', num_labels=1), \n",
        "                                                 loss = tf.keras.losses.BinaryCrossentropy(),\n",
        "                                                 optimizer = tf.keras.optimizers.Adam(learning_rate=1e-6),\n",
        "                                                 )"
      ],
      "metadata": {
        "colab": {
          "base_uri": "https://localhost:8080/"
        },
        "outputId": "c266ec2c-10f6-4a21-ab42-bc34d3f630a7",
        "id": "BExZ9s3h-mrx"
      },
      "execution_count": null,
      "outputs": [
        {
          "output_type": "stream",
          "name": "stdout",
          "text": [
            "INFO:tensorflow:Deallocate tpu buffers before initializing tpu system.\n"
          ]
        },
        {
          "output_type": "stream",
          "name": "stderr",
          "text": [
            "INFO:tensorflow:Deallocate tpu buffers before initializing tpu system.\n"
          ]
        },
        {
          "output_type": "stream",
          "name": "stdout",
          "text": [
            "WARNING:tensorflow:TPU system grpc://10.36.203.226:8470 has already been initialized. Reinitializing the TPU can cause previously created variables on TPU to be lost.\n"
          ]
        },
        {
          "output_type": "stream",
          "name": "stderr",
          "text": [
            "WARNING:tensorflow:TPU system grpc://10.36.203.226:8470 has already been initialized. Reinitializing the TPU can cause previously created variables on TPU to be lost.\n"
          ]
        },
        {
          "output_type": "stream",
          "name": "stdout",
          "text": [
            "INFO:tensorflow:Initializing the TPU system: grpc://10.36.203.226:8470\n"
          ]
        },
        {
          "output_type": "stream",
          "name": "stderr",
          "text": [
            "INFO:tensorflow:Initializing the TPU system: grpc://10.36.203.226:8470\n"
          ]
        },
        {
          "output_type": "stream",
          "name": "stdout",
          "text": [
            "INFO:tensorflow:Finished initializing TPU system.\n"
          ]
        },
        {
          "output_type": "stream",
          "name": "stderr",
          "text": [
            "INFO:tensorflow:Finished initializing TPU system.\n"
          ]
        },
        {
          "output_type": "stream",
          "name": "stdout",
          "text": [
            "INFO:tensorflow:Found TPU system:\n"
          ]
        },
        {
          "output_type": "stream",
          "name": "stderr",
          "text": [
            "INFO:tensorflow:Found TPU system:\n"
          ]
        },
        {
          "output_type": "stream",
          "name": "stdout",
          "text": [
            "INFO:tensorflow:*** Num TPU Cores: 8\n"
          ]
        },
        {
          "output_type": "stream",
          "name": "stderr",
          "text": [
            "INFO:tensorflow:*** Num TPU Cores: 8\n"
          ]
        },
        {
          "output_type": "stream",
          "name": "stdout",
          "text": [
            "INFO:tensorflow:*** Num TPU Workers: 1\n"
          ]
        },
        {
          "output_type": "stream",
          "name": "stderr",
          "text": [
            "INFO:tensorflow:*** Num TPU Workers: 1\n"
          ]
        },
        {
          "output_type": "stream",
          "name": "stdout",
          "text": [
            "INFO:tensorflow:*** Num TPU Cores Per Worker: 8\n"
          ]
        },
        {
          "output_type": "stream",
          "name": "stderr",
          "text": [
            "INFO:tensorflow:*** Num TPU Cores Per Worker: 8\n"
          ]
        },
        {
          "output_type": "stream",
          "name": "stdout",
          "text": [
            "INFO:tensorflow:*** Available Device: _DeviceAttributes(/job:localhost/replica:0/task:0/device:CPU:0, CPU, 0, 0)\n"
          ]
        },
        {
          "output_type": "stream",
          "name": "stderr",
          "text": [
            "INFO:tensorflow:*** Available Device: _DeviceAttributes(/job:localhost/replica:0/task:0/device:CPU:0, CPU, 0, 0)\n"
          ]
        },
        {
          "output_type": "stream",
          "name": "stdout",
          "text": [
            "INFO:tensorflow:*** Available Device: _DeviceAttributes(/job:worker/replica:0/task:0/device:CPU:0, CPU, 0, 0)\n"
          ]
        },
        {
          "output_type": "stream",
          "name": "stderr",
          "text": [
            "INFO:tensorflow:*** Available Device: _DeviceAttributes(/job:worker/replica:0/task:0/device:CPU:0, CPU, 0, 0)\n"
          ]
        },
        {
          "output_type": "stream",
          "name": "stdout",
          "text": [
            "INFO:tensorflow:*** Available Device: _DeviceAttributes(/job:worker/replica:0/task:0/device:TPU:0, TPU, 0, 0)\n"
          ]
        },
        {
          "output_type": "stream",
          "name": "stderr",
          "text": [
            "INFO:tensorflow:*** Available Device: _DeviceAttributes(/job:worker/replica:0/task:0/device:TPU:0, TPU, 0, 0)\n"
          ]
        },
        {
          "output_type": "stream",
          "name": "stdout",
          "text": [
            "INFO:tensorflow:*** Available Device: _DeviceAttributes(/job:worker/replica:0/task:0/device:TPU:1, TPU, 0, 0)\n"
          ]
        },
        {
          "output_type": "stream",
          "name": "stderr",
          "text": [
            "INFO:tensorflow:*** Available Device: _DeviceAttributes(/job:worker/replica:0/task:0/device:TPU:1, TPU, 0, 0)\n"
          ]
        },
        {
          "output_type": "stream",
          "name": "stdout",
          "text": [
            "INFO:tensorflow:*** Available Device: _DeviceAttributes(/job:worker/replica:0/task:0/device:TPU:2, TPU, 0, 0)\n"
          ]
        },
        {
          "output_type": "stream",
          "name": "stderr",
          "text": [
            "INFO:tensorflow:*** Available Device: _DeviceAttributes(/job:worker/replica:0/task:0/device:TPU:2, TPU, 0, 0)\n"
          ]
        },
        {
          "output_type": "stream",
          "name": "stdout",
          "text": [
            "INFO:tensorflow:*** Available Device: _DeviceAttributes(/job:worker/replica:0/task:0/device:TPU:3, TPU, 0, 0)\n"
          ]
        },
        {
          "output_type": "stream",
          "name": "stderr",
          "text": [
            "INFO:tensorflow:*** Available Device: _DeviceAttributes(/job:worker/replica:0/task:0/device:TPU:3, TPU, 0, 0)\n"
          ]
        },
        {
          "output_type": "stream",
          "name": "stdout",
          "text": [
            "INFO:tensorflow:*** Available Device: _DeviceAttributes(/job:worker/replica:0/task:0/device:TPU:4, TPU, 0, 0)\n"
          ]
        },
        {
          "output_type": "stream",
          "name": "stderr",
          "text": [
            "INFO:tensorflow:*** Available Device: _DeviceAttributes(/job:worker/replica:0/task:0/device:TPU:4, TPU, 0, 0)\n"
          ]
        },
        {
          "output_type": "stream",
          "name": "stdout",
          "text": [
            "INFO:tensorflow:*** Available Device: _DeviceAttributes(/job:worker/replica:0/task:0/device:TPU:5, TPU, 0, 0)\n"
          ]
        },
        {
          "output_type": "stream",
          "name": "stderr",
          "text": [
            "INFO:tensorflow:*** Available Device: _DeviceAttributes(/job:worker/replica:0/task:0/device:TPU:5, TPU, 0, 0)\n"
          ]
        },
        {
          "output_type": "stream",
          "name": "stdout",
          "text": [
            "INFO:tensorflow:*** Available Device: _DeviceAttributes(/job:worker/replica:0/task:0/device:TPU:6, TPU, 0, 0)\n"
          ]
        },
        {
          "output_type": "stream",
          "name": "stderr",
          "text": [
            "INFO:tensorflow:*** Available Device: _DeviceAttributes(/job:worker/replica:0/task:0/device:TPU:6, TPU, 0, 0)\n"
          ]
        },
        {
          "output_type": "stream",
          "name": "stdout",
          "text": [
            "INFO:tensorflow:*** Available Device: _DeviceAttributes(/job:worker/replica:0/task:0/device:TPU:7, TPU, 0, 0)\n"
          ]
        },
        {
          "output_type": "stream",
          "name": "stderr",
          "text": [
            "INFO:tensorflow:*** Available Device: _DeviceAttributes(/job:worker/replica:0/task:0/device:TPU:7, TPU, 0, 0)\n"
          ]
        },
        {
          "output_type": "stream",
          "name": "stdout",
          "text": [
            "INFO:tensorflow:*** Available Device: _DeviceAttributes(/job:worker/replica:0/task:0/device:TPU_SYSTEM:0, TPU_SYSTEM, 0, 0)\n"
          ]
        },
        {
          "output_type": "stream",
          "name": "stderr",
          "text": [
            "INFO:tensorflow:*** Available Device: _DeviceAttributes(/job:worker/replica:0/task:0/device:TPU_SYSTEM:0, TPU_SYSTEM, 0, 0)\n"
          ]
        },
        {
          "output_type": "stream",
          "name": "stdout",
          "text": [
            "INFO:tensorflow:*** Available Device: _DeviceAttributes(/job:worker/replica:0/task:0/device:XLA_CPU:0, XLA_CPU, 0, 0)\n"
          ]
        },
        {
          "output_type": "stream",
          "name": "stderr",
          "text": [
            "INFO:tensorflow:*** Available Device: _DeviceAttributes(/job:worker/replica:0/task:0/device:XLA_CPU:0, XLA_CPU, 0, 0)\n",
            "All model checkpoint layers were used when initializing TFRobertaForSequenceClassification.\n",
            "\n",
            "Some layers of TFRobertaForSequenceClassification were not initialized from the model checkpoint at roberta-base and are newly initialized: ['classifier']\n",
            "You should probably TRAIN this model on a down-stream task to be able to use it for predictions and inference.\n"
          ]
        }
      ]
    },
    {
      "cell_type": "markdown",
      "source": [
        "Un resumen de la red que acabamos de crear:"
      ],
      "metadata": {
        "id": "7ZgpYjEN-mry"
      }
    },
    {
      "cell_type": "code",
      "source": [
        "clasificador.summary()"
      ],
      "metadata": {
        "colab": {
          "base_uri": "https://localhost:8080/"
        },
        "outputId": "167d2631-331d-46de-9441-4d47bfb130cb",
        "id": "ZZdebZJ2-mry"
      },
      "execution_count": null,
      "outputs": [
        {
          "output_type": "stream",
          "name": "stdout",
          "text": [
            "Model: \"model\"\n",
            "__________________________________________________________________________________________________\n",
            " Layer (type)                   Output Shape         Param #     Connected to                     \n",
            "==================================================================================================\n",
            " input_ids (InputLayer)         [(None, 512)]        0           []                               \n",
            "                                                                                                  \n",
            " attention_mask (InputLayer)    [(None, 512)]        0           []                               \n",
            "                                                                                                  \n",
            " tf_roberta_for_sequence_classi  TFSequenceClassifie  124646401  ['input_ids[0][0]',              \n",
            " fication_1 (TFRobertaForSequen  rOutput(loss=None,               'attention_mask[0][0]']         \n",
            " ceClassification)              logits=(None, 1),                                                 \n",
            "                                 hidden_states=None                                               \n",
            "                                , attentions=None)                                                \n",
            "                                                                                                  \n",
            " sigmoid (Activation)           (None, 1)            0           ['tf_roberta_for_sequence_classif\n",
            "                                                                 ication_1[0][0]']                \n",
            "                                                                                                  \n",
            "==================================================================================================\n",
            "Total params: 124,646,401\n",
            "Trainable params: 124,646,401\n",
            "Non-trainable params: 0\n",
            "__________________________________________________________________________________________________\n"
          ]
        }
      ]
    },
    {
      "cell_type": "markdown",
      "source": [
        "Por el tipo de encoder que estamos cargando, la capa *linear* que ejecuta la clasificación está integrada en el mismo encoder. En caso de que quisiésemos usar un encoder sin el *classification head*, habría que añadírselo en la función *crear_clasificador_clickbait*, como veremos en el punto 2.3."
      ],
      "metadata": {
        "id": "6g6lZL62_wPx"
      }
    },
    {
      "cell_type": "markdown",
      "source": [
        "**Entrenamiento**\n",
        "\n",
        "---"
      ],
      "metadata": {
        "id": "xrKR0JqL_1SZ"
      }
    },
    {
      "cell_type": "markdown",
      "source": [
        "Antes de entrenar el modelo, vamos a monitorizar la *validation loss*, de manera que el entrenamiento se pare si en las 10 *epochs* siguientes no consigue mejorarla."
      ],
      "metadata": {
        "id": "riLwutdZ_1Sb"
      }
    },
    {
      "cell_type": "code",
      "source": [
        "early_stopping_monitor = tf.keras.callbacks.EarlyStopping(\n",
        "    monitor='val_loss',\n",
        "    min_delta=0,\n",
        "    patience=10,\n",
        "    verbose=0,\n",
        "    mode='min',\n",
        "    baseline=None,\n",
        "    restore_best_weights=True\n",
        ")"
      ],
      "metadata": {
        "id": "0cOsaNqr-mr0"
      },
      "execution_count": null,
      "outputs": []
    },
    {
      "cell_type": "markdown",
      "source": [
        "¡A entrenar! Para ello, hemos añadido diferentes pesos a las clases para \"balancear\" la proporción de las clases. Las clases 0 (no clickbait) y 1 (clickbait) van a tener un peso inversamente proporcional."
      ],
      "metadata": {
        "id": "-BGy3JxF-mr0"
      }
    },
    {
      "cell_type": "code",
      "source": [
        "fitting = clasificador.fit(\n",
        "    x=train_X,\n",
        "    y=train_y,\n",
        "    batch_size=128,\n",
        "    epochs=50,\n",
        "    validation_data=(validation_X, validation_y),\n",
        "    callbacks=[early_stopping_monitor],\n",
        "    class_weight={0: len(train[train['code'] == 1]) / len(train[train['code'] == 0]),\n",
        "                  1: 1.}\n",
        ")"
      ],
      "metadata": {
        "colab": {
          "base_uri": "https://localhost:8080/"
        },
        "outputId": "cb8b880c-d926-4357-d12b-4e5336346f4f",
        "id": "vL7QXy_x-mr1"
      },
      "execution_count": null,
      "outputs": [
        {
          "output_type": "stream",
          "name": "stdout",
          "text": [
            "Epoch 1/50\n",
            "122/122 [==============================] - 230s 1s/step - loss: 0.3347 - val_loss: 0.6827\n",
            "Epoch 2/50\n",
            "122/122 [==============================] - 64s 525ms/step - loss: 0.2857 - val_loss: 0.4943\n",
            "Epoch 3/50\n",
            "122/122 [==============================] - 64s 526ms/step - loss: 0.2126 - val_loss: 0.4369\n",
            "Epoch 4/50\n",
            "122/122 [==============================] - 64s 526ms/step - loss: 0.1980 - val_loss: 0.4121\n",
            "Epoch 5/50\n",
            "122/122 [==============================] - 64s 526ms/step - loss: 0.1902 - val_loss: 0.4066\n",
            "Epoch 6/50\n",
            "122/122 [==============================] - 62s 512ms/step - loss: 0.1857 - val_loss: 0.4107\n",
            "Epoch 7/50\n",
            "122/122 [==============================] - 65s 531ms/step - loss: 0.1804 - val_loss: 0.4027\n",
            "Epoch 8/50\n",
            "122/122 [==============================] - 64s 527ms/step - loss: 0.1765 - val_loss: 0.3940\n",
            "Epoch 9/50\n",
            "122/122 [==============================] - 62s 512ms/step - loss: 0.1741 - val_loss: 0.4209\n",
            "Epoch 10/50\n",
            "122/122 [==============================] - 62s 512ms/step - loss: 0.1697 - val_loss: 0.4069\n",
            "Epoch 11/50\n",
            "122/122 [==============================] - 64s 527ms/step - loss: 0.1670 - val_loss: 0.3815\n",
            "Epoch 12/50\n",
            "122/122 [==============================] - 62s 511ms/step - loss: 0.1633 - val_loss: 0.3947\n",
            "Epoch 13/50\n",
            "122/122 [==============================] - 62s 511ms/step - loss: 0.1606 - val_loss: 0.3919\n",
            "Epoch 14/50\n",
            "122/122 [==============================] - 62s 511ms/step - loss: 0.1574 - val_loss: 0.3945\n",
            "Epoch 15/50\n",
            "122/122 [==============================] - 64s 526ms/step - loss: 0.1558 - val_loss: 0.3727\n",
            "Epoch 16/50\n",
            "122/122 [==============================] - 62s 512ms/step - loss: 0.1518 - val_loss: 0.3744\n",
            "Epoch 17/50\n",
            "122/122 [==============================] - 62s 512ms/step - loss: 0.1505 - val_loss: 0.3816\n",
            "Epoch 18/50\n",
            "122/122 [==============================] - 62s 512ms/step - loss: 0.1457 - val_loss: 0.3891\n",
            "Epoch 19/50\n",
            "122/122 [==============================] - 62s 512ms/step - loss: 0.1434 - val_loss: 0.3821\n",
            "Epoch 20/50\n",
            "122/122 [==============================] - 62s 512ms/step - loss: 0.1407 - val_loss: 0.4001\n",
            "Epoch 21/50\n",
            "122/122 [==============================] - 63s 514ms/step - loss: 0.1370 - val_loss: 0.4140\n",
            "Epoch 22/50\n",
            "122/122 [==============================] - 63s 513ms/step - loss: 0.1359 - val_loss: 0.3835\n",
            "Epoch 23/50\n",
            "122/122 [==============================] - 63s 514ms/step - loss: 0.1307 - val_loss: 0.3979\n",
            "Epoch 24/50\n",
            "122/122 [==============================] - 63s 514ms/step - loss: 0.1275 - val_loss: 0.3805\n",
            "Epoch 25/50\n",
            "122/122 [==============================] - 71s 587ms/step - loss: 0.1254 - val_loss: 0.4040\n"
          ]
        }
      ]
    },
    {
      "cell_type": "markdown",
      "source": [
        "Después de entrenar, queremos predecir clases en el validation y en el test. Para ellos, debemos decirle al clasificador que ya no está funcionando en *training mode*. Esto es una particularidad de algunas redes neuronales."
      ],
      "metadata": {
        "id": "M3nkYvSc-mr1"
      }
    },
    {
      "cell_type": "code",
      "source": [
        "clasificador.training=False"
      ],
      "metadata": {
        "id": "gE_bfbjv-mr2"
      },
      "execution_count": null,
      "outputs": []
    },
    {
      "cell_type": "markdown",
      "source": [
        "Veamos el aspecto de la *training loss* y la *validation loss*"
      ],
      "metadata": {
        "id": "6z1H89IP-mr2"
      }
    },
    {
      "cell_type": "code",
      "source": [
        "%matplotlib inline\n",
        "import matplotlib.pyplot as plt\n",
        "plt.plot(fitting.history['loss'][:])\n",
        "plt.plot(fitting.history['val_loss'][:])"
      ],
      "metadata": {
        "colab": {
          "base_uri": "https://localhost:8080/",
          "height": 284
        },
        "outputId": "e4d3ced2-2a17-4b09-acc8-97166016cc5f",
        "id": "TPamQLd4-mr2"
      },
      "execution_count": null,
      "outputs": [
        {
          "output_type": "execute_result",
          "data": {
            "text/plain": [
              "[<matplotlib.lines.Line2D at 0x7f3fdaf59d50>]"
            ]
          },
          "metadata": {},
          "execution_count": 27
        },
        {
          "output_type": "display_data",
          "data": {
            "text/plain": [
              "<Figure size 432x288 with 1 Axes>"
            ],
            "image/png": "[encoded data removed]"
          },
          "metadata": {
            "needs_background": "light"
          }
        }
      ]
    },
    {
      "cell_type": "markdown",
      "source": [
        "El entrenamiento ha parado cuando el validation loss ya no mejoraba."
      ],
      "metadata": {
        "id": "39GPCcUJ-mr2"
      }
    },
    {
      "cell_type": "markdown",
      "source": [
        "**Evaluación sobre validation**\n",
        "\n",
        "---"
      ],
      "metadata": {
        "id": "i5VRY3e9AHgZ"
      }
    },
    {
      "cell_type": "markdown",
      "source": [
        "A continuación, vamos a analizar las siguientes métricas:\n",
        "\n",
        "**precision**: de los tweets que hemos clasificado como un clase, cuántos realmente los son.    \n",
        "\n",
        "**recall**: Cuántos tweets de una clase hemos logrado identificar correctamente.\n",
        "\n",
        "**f1-score**: La media harmónica de **precision** y **recall**\n",
        "\n",
        "**accuracy**: % de acierto global del modelo. Capacidad de discernir entre clickbait y no clickbait."
      ],
      "metadata": {
        "id": "_U4cDPN9AHga"
      }
    },
    {
      "cell_type": "code",
      "source": [
        "import matplotlib.pyplot as plt\n",
        "import seaborn as sns\n",
        "from sklearn.metrics import classification_report, confusion_matrix, accuracy_score\n",
        "from termcolor import colored\n",
        "\n",
        "predicted_proba = clasificador.predict(validation_X)\n",
        "#thresold modificable\n",
        "threshold = 0.5\n",
        "predicted = (predicted_proba >= threshold).astype('int')\n",
        "\n",
        "#for deaful threshold change param 'predicted' per 'y_pred'\n",
        "print(colored('\\nConfusion Matrix: \\n', attrs=['bold']),confusion_matrix(np.array(validation_y[:,0]), predicted),'\\n\\n-------------------')\n",
        "print(colored('Classification_report: \\n', attrs=['bold']),classification_report(np.array(validation_y[:,0]), predicted),'\\n-------------------')\n",
        "# print(colored('Accuracy: \\n', attrs=['bold']),accuracy_score(np.array(validation_y[:,0]), predicted))\n",
        "\n",
        "data_predicted = pd.DataFrame(columns=['prediction','gt'])\n",
        "data_predicted['prediction'] = predicted_proba.reshape((len(predicted_proba),))\n",
        "data_predicted['gt'] = np.array(validation_y[:,0])\n",
        "data_predicted_0=data_predicted[data_predicted['gt']==0]\n",
        "data_predicted_1=data_predicted[data_predicted['gt']==1]\n",
        "\n",
        "f, ax = plt.subplots(figsize=(15,7))\n",
        "ax = sns.distplot(data_predicted_0['prediction'], hist=False, rug=False, bins=100, color='deepskyblue', kde_kws = {'shade': True, 'linewidth': 2}, label='No clickbait')\n",
        "ax = sns.distplot(data_predicted_1['prediction'], hist=False, rug=False, bins=100, color='orange', kde_kws = {'shade': True, 'linewidth': 2}, label='clickbait')\n",
        "ax.set_title(\"Density Chart\")\n",
        "plt.axvline(threshold, 0, color='red')\n",
        "plt.xlim(-0.1, 1.1)\n",
        "plt.legend()\n",
        "plt.show(block=False)"
      ],
      "metadata": {
        "colab": {
          "base_uri": "https://localhost:8080/",
          "height": 864
        },
        "outputId": "f8972be2-bbba-48b9-ad18-4b0a7a01e408",
        "id": "87Q0aW1O-mr3"
      },
      "execution_count": null,
      "outputs": [
        {
          "output_type": "stream",
          "name": "stdout",
          "text": [
            "\u001b[1m\n",
            "Confusion Matrix: \n",
            "\u001b[0m [[2486  470]\n",
            " [ 183  758]] \n",
            "\n",
            "-------------------\n",
            "\u001b[1mClassification_report: \n",
            "\u001b[0m               precision    recall  f1-score   support\n",
            "\n",
            "           0       0.93      0.84      0.88      2956\n",
            "           1       0.62      0.81      0.70       941\n",
            "\n",
            "    accuracy                           0.83      3897\n",
            "   macro avg       0.77      0.82      0.79      3897\n",
            "weighted avg       0.86      0.83      0.84      3897\n",
            " \n",
            "-------------------\n"
          ]
        },
        {
          "output_type": "stream",
          "name": "stderr",
          "text": [
            "/usr/local/lib/python3.7/dist-packages/seaborn/distributions.py:2619: FutureWarning: `distplot` is a deprecated function and will be removed in a future version. Please adapt your code to use either `displot` (a figure-level function with similar flexibility) or `kdeplot` (an axes-level function for kernel density plots).\n",
            "  warnings.warn(msg, FutureWarning)\n",
            "/usr/local/lib/python3.7/dist-packages/seaborn/distributions.py:2619: FutureWarning: `distplot` is a deprecated function and will be removed in a future version. Please adapt your code to use either `displot` (a figure-level function with similar flexibility) or `kdeplot` (an axes-level function for kernel density plots).\n",
            "  warnings.warn(msg, FutureWarning)\n"
          ]
        },
        {
          "output_type": "display_data",
          "data": {
            "text/plain": [
              "<Figure size 1080x504 with 1 Axes>"
            ],
            "image/png": "[encoded data removed]"
          },
          "metadata": {
            "needs_background": "light"
          }
        }
      ]
    },
    {
      "cell_type": "markdown",
      "source": [
        "En el density chart, hemos decidido mantener el **umbral=0.5** para no-clickbait/clickbait, ya que hay dos picos claramente diferenciados aunque ambos tienen colas largas. Esto significa que, para los tweets que realmente son clickbait, la mayoría de veces le damos la etiqueta con valores cercanos a 1, pero hay muchos que adquieren valores muy alejados (cola). Lo mismo pasa con la clase no-clickbait."
      ],
      "metadata": {
        "id": "q07xpblA-mr5"
      }
    },
    {
      "cell_type": "markdown",
      "source": [
        "Para este caso concreto, cerca del 76% de los tweets son no-clickbait. Una solución trivial sería decir que todos los tweets son no-clickbait, con lo que ya obendríamos una *accuracy* del 76%. El modelo tiene una *accuracy* del 83%, de manera que mejora la solución trivial."
      ],
      "metadata": {
        "id": "LdUDAs32-mr5"
      }
    },
    {
      "cell_type": "markdown",
      "source": [
        "Para los tweets **no-clickbat**, obtenemos excelentes valores de **precision**, **recall** y, naturalmente, **F1**. Esto significa que, capturamos casi todos los tweets que son no-clickbait (*recall*) del *validation set* y, además, de los predecidos como no-clickbait, casi todos realmente son no-clickbait (*precision*)."
      ],
      "metadata": {
        "id": "GlGqvLV6-mr5"
      }
    },
    {
      "cell_type": "markdown",
      "source": [
        "Para los tweets **clickbait**, aunque tenemos buen *recall*, la *precision* es más bien baja.Esto significa que nuestro clasificador clickbait, aunque logra idenficar el 81% de los tweets que realmente son clickbait (*recall*), el 38% de los tweets predecidos como clickbait realmente no lo son (1-*precision*)."
      ],
      "metadata": {
        "id": "72S6UXmv-mr6"
      }
    },
    {
      "cell_type": "markdown",
      "source": [
        "Estos resultamos están acorde a otros modelos publicados con anterioridad:\n",
        "(https://ieeexplore.ieee.org/abstract/document/9617586/metrics#metrics"
      ],
      "metadata": {
        "id": "Yhaiv5mU-mr6"
      }
    },
    {
      "cell_type": "markdown",
      "source": [
        "**Evaluación sobre test**\n",
        "\n",
        "---"
      ],
      "metadata": {
        "id": "FzRfPRZq-mr6"
      }
    },
    {
      "cell_type": "code",
      "source": [
        "import matplotlib.pyplot as plt\n",
        "import seaborn as sns\n",
        "from sklearn.metrics import classification_report, confusion_matrix, accuracy_score\n",
        "from termcolor import colored\n",
        "\n",
        "predicted_proba = clasificador.predict(test_X)\n",
        "predicted = (predicted_proba >= threshold).astype('int')\n",
        "\n",
        "#for deaful threshold change param 'predicted' per 'y_pred'\n",
        "print(colored('\\nConfusion Matrix: \\n', attrs=['bold']),confusion_matrix(np.array(test_y[:,0]), predicted),'\\n\\n-------------------')\n",
        "print(colored('Classification_report: \\n', attrs=['bold']),classification_report(np.array(test_y[:,0]), predicted),'\\n-------------------')\n",
        "print(colored('Accuracy: \\n', attrs=['bold']),accuracy_score(np.array(test_y[:,0]), predicted))\n",
        "\n",
        "data_predicted = pd.DataFrame(columns=['prediction','gt'])\n",
        "data_predicted['prediction'] = predicted_proba.reshape((len(predicted_proba),))\n",
        "data_predicted['gt'] = np.array(test_y[:,0])\n",
        "data_predicted_0=data_predicted[data_predicted['gt']==0]\n",
        "data_predicted_1=data_predicted[data_predicted['gt']==1]\n",
        "\n",
        "f, ax = plt.subplots(figsize=(15,7))\n",
        "ax = sns.distplot(data_predicted_0['prediction'], hist=False, rug=False, bins=100, color='deepskyblue', kde_kws = {'shade': True, 'linewidth': 2}, label='No clickbait')\n",
        "ax = sns.distplot(data_predicted_1['prediction'], hist=False, rug=False, bins=100, color='orange', kde_kws = {'shade': True, 'linewidth': 2}, label='clickbait')\n",
        "ax.set_title(\"Density Chart\")\n",
        "plt.axvline(threshold, 0, color='red')\n",
        "plt.xlim(-0.1, 1.1)\n",
        "plt.legend()\n",
        "plt.show(block=False)"
      ],
      "metadata": {
        "colab": {
          "base_uri": "https://localhost:8080/",
          "height": 900
        },
        "outputId": "886384d5-abe8-4074-c9d9-2f5ec538e1bc",
        "id": "-LEMx4F0-mr7"
      },
      "execution_count": null,
      "outputs": [
        {
          "output_type": "stream",
          "name": "stdout",
          "text": [
            "\u001b[1m\n",
            "Confusion Matrix: \n",
            "\u001b[0m [[12161  2294]\n",
            " [  717  3741]] \n",
            "\n",
            "-------------------\n",
            "\u001b[1mClassification_report: \n",
            "\u001b[0m               precision    recall  f1-score   support\n",
            "\n",
            "           0       0.94      0.84      0.89     14455\n",
            "           1       0.62      0.84      0.71      4458\n",
            "\n",
            "    accuracy                           0.84     18913\n",
            "   macro avg       0.78      0.84      0.80     18913\n",
            "weighted avg       0.87      0.84      0.85     18913\n",
            " \n",
            "-------------------\n",
            "\u001b[1mAccuracy: \n",
            "\u001b[0m 0.8407973351662877\n"
          ]
        },
        {
          "output_type": "stream",
          "name": "stderr",
          "text": [
            "/usr/local/lib/python3.7/dist-packages/seaborn/distributions.py:2619: FutureWarning: `distplot` is a deprecated function and will be removed in a future version. Please adapt your code to use either `displot` (a figure-level function with similar flexibility) or `kdeplot` (an axes-level function for kernel density plots).\n",
            "  warnings.warn(msg, FutureWarning)\n",
            "/usr/local/lib/python3.7/dist-packages/seaborn/distributions.py:2619: FutureWarning: `distplot` is a deprecated function and will be removed in a future version. Please adapt your code to use either `displot` (a figure-level function with similar flexibility) or `kdeplot` (an axes-level function for kernel density plots).\n",
            "  warnings.warn(msg, FutureWarning)\n"
          ]
        },
        {
          "output_type": "display_data",
          "data": {
            "text/plain": [
              "<Figure size 1080x504 with 1 Axes>"
            ],
            "image/png": "[encoded data removed]"
          },
          "metadata": {
            "needs_background": "light"
          }
        }
      ]
    },
    {
      "cell_type": "markdown",
      "source": [
        "La evaluación sobre el *test set* arroja resultamos muy similares a los obtenidos en el *validation set*.\n",
        "\n",
        "Para una discusión más detallada me refiero a lo ya dicho para el *validation set.*"
      ],
      "metadata": {
        "id": "t7wkxOlq-mr8"
      }
    },
    {
      "cell_type": "markdown",
      "source": [
        "# 2.3. BERT + Customized Classification Head"
      ],
      "metadata": {
        "id": "ImJcYOUFchtq"
      }
    },
    {
      "cell_type": "markdown",
      "source": [
        "**Definición del modelo y de los inputs**\n",
        "\n",
        "---"
      ],
      "metadata": {
        "id": "nL0XIe1fdgQ1"
      }
    },
    {
      "cell_type": "markdown",
      "source": [
        "Vamos a definir dos funciones:"
      ],
      "metadata": {
        "id": "rGdrlGZGdjJy"
      }
    },
    {
      "cell_type": "markdown",
      "source": [
        "*crear_inputs* va a coger los DataFrames *train* y *test*, los va a pasar por el TOKENIZER que elijamos y nos va a devolver *train_X*, *train_y*, *validation_X*, *validation_y*, *test_X* y *test_y*"
      ],
      "metadata": {
        "id": "rapD4lTbdjJ0"
      }
    },
    {
      "cell_type": "markdown",
      "source": [
        "*crear_clasificador_clickbait* crear una red con la arquitectura:\n",
        "\n",
        "train_X, train_y, validation_X, validation_y, test_X, test_y --> **Bert** --> [CLS] --> **Custom LINEAR LAYER** --> *Sigmoid* --> Output (clase)"
      ],
      "metadata": {
        "id": "iR2FzKbHdjJ1"
      }
    },
    {
      "cell_type": "code",
      "source": [
        "def crear_inputs(train, test, TOKENIZER, frac_val):\n",
        "  \n",
        "  train['code'] = np.where(train['truthClass'] == 'clickbait', 1, 0)\n",
        "  test['code'] = np.where(test['truthClass'] == 'clickbait', 1, 0)\n",
        "\n",
        "  validation = train.sample(frac=frac_val, random_state=42)\n",
        "  train = train.drop(validation.index)\n",
        "\n",
        "  ## Training set\n",
        "  encoded_tweets = TOKENIZER(train['postText'].to_list(), \n",
        "                             return_tensors='tf', \n",
        "                             padding=\"max_length\", \n",
        "                             truncation=True)\n",
        "  train_X = [encoded_tweets['input_ids'], \n",
        "             encoded_tweets['token_type_ids'], \n",
        "             encoded_tweets['attention_mask']]\n",
        "\n",
        "  train_y = tf.convert_to_tensor(np.array(train['code']).reshape(len(train['code']),1))\n",
        "\n",
        "  ## Validation set\n",
        "  encoded_tweets = TOKENIZER(validation['postText'].to_list(), \n",
        "                             return_tensors='tf', \n",
        "                             padding=\"max_length\", \n",
        "                             truncation=True)\n",
        "  validation_X = [encoded_tweets['input_ids'], \n",
        "             encoded_tweets['token_type_ids'], \n",
        "             encoded_tweets['attention_mask']]\n",
        "\n",
        "  validation_y = tf.convert_to_tensor(np.array(validation['code']).reshape(len(validation['code']),1))\n",
        "\n",
        "\n",
        "  ## Test set\n",
        "  encoded_tweets = TOKENIZER(test['postText'].to_list(), \n",
        "                             return_tensors='tf', \n",
        "                             padding=\"max_length\", \n",
        "                             truncation=True)\n",
        "  test_X =  [encoded_tweets['input_ids'], \n",
        "             encoded_tweets['token_type_ids'], \n",
        "             encoded_tweets['attention_mask']]\n",
        "\n",
        "  test_y = tf.convert_to_tensor(np.array(test['code']).reshape(len(test['code']),1))\n",
        "  \n",
        "  return train_X, train_y, validation_X, validation_y, test_X, test_y"
      ],
      "metadata": {
        "id": "c7Bc0HwodHAw"
      },
      "execution_count": null,
      "outputs": []
    },
    {
      "cell_type": "code",
      "source": [
        "def crear_clasificador_clickbait(encoder, loss, optimizer, kernel_regularizer):\n",
        "  \n",
        "    ## Definimos los inputs (tamaño máximo 512 por el tokenizer)\n",
        "    input_ids = layers.Input(shape=(512,), dtype=tf.int32, name='input_ids')\n",
        "    token_type_ids = layers.Input(shape=(512,), dtype=tf.int32, name='token_type_ids')\n",
        "    attention_mask = layers.Input(shape=(512,), dtype=tf.int32, name='attention_mask')\n",
        "\n",
        "    ## Creamos el encoder encoder\n",
        "    encoder = encoder\n",
        "\n",
        "    ## Creamos el token CLS codificado\n",
        "    class_output = encoder(input_ids=input_ids, \n",
        "                        token_type_ids=token_type_ids, \n",
        "                        attention_mask=attention_mask, training=True)[1]  # Posición del token [CLS] after pooling\n",
        "\n",
        "    # # Activamos el output de la capa linear con un sigmoid para obtener la clase\n",
        "    class_output = layers.Dense(64, name='Linear1', activation='relu', kernel_regularizer=kernel_regularizer)(class_output)\n",
        "    # class_output = layers.Dropout(0.4)(class_output)\n",
        "    class_output = layers.Dense(1, name='Linear2', activation='sigmoid', kernel_regularizer=kernel_regularizer)(class_output)\n",
        "\n",
        "    model = keras.Model(\n",
        "        inputs=[input_ids, token_type_ids, attention_mask],\n",
        "        outputs=[class_output],\n",
        "    )\n",
        "\n",
        "    ## Compilamos\n",
        "    model.compile(optimizer=optimizer, loss=loss)\n",
        "\n",
        "    return model"
      ],
      "metadata": {
        "id": "KQyIN4yHdHA2"
      },
      "execution_count": null,
      "outputs": []
    },
    {
      "cell_type": "markdown",
      "source": [
        "De estas dos funciones, es posible que, según el *tokenizer* que escojamos haya que comentar algunas lineas. Por ejemplo, el tokenizer de RoBERTa, sólo saca como output \"input_ids\" y \"attention_mask\". Así pues, las lineas relacionadas con \"token_type_ids\" habría que comentarlas."
      ],
      "metadata": {
        "id": "bBvcB3qSduEi"
      }
    },
    {
      "cell_type": "markdown",
      "source": [
        "Como hemos dicho en los puntos anteriores, hemos añadido un customized classification head que consiste en una primera capa *linear* con 64 neuronas y activación \"relu\" y una segunda capa *linear* con una única neurona y activación \"sigmoid\".\n",
        "\n",
        "Ambas capas aplican regularización L1 con lambda = 0.01."
      ],
      "metadata": {
        "id": "_NGCa7TFxaDn"
      }
    },
    {
      "cell_type": "markdown",
      "source": [
        "**Creamos los inputs**. Hemos escogido que un 20% aleatorio de los tweets en el training set serviran como *validation set*."
      ],
      "metadata": {
        "id": "lt_U7HOfduEj"
      }
    },
    {
      "cell_type": "code",
      "source": [
        "train_X, train_y, validation_X, validation_y, test_X, test_y = crear_inputs(train, test, TOKENIZER = BertTokenizerFast.from_pretrained(\"bert-base-uncased\"), frac_val=0.2)"
      ],
      "metadata": {
        "id": "NULUGgaOdHA-"
      },
      "execution_count": null,
      "outputs": []
    },
    {
      "cell_type": "markdown",
      "source": [
        "**Creamos el modelo** en función si vamos a usar TPU o no:"
      ],
      "metadata": {
        "id": "96E4FWkydw7S"
      }
    },
    {
      "cell_type": "code",
      "source": [
        "if use_tpu:\n",
        "  # Create distribution strategy\n",
        "  tpu = tf.distribute.cluster_resolver.TPUClusterResolver.connect()\n",
        "  strategy = tf.distribute.TPUStrategy(tpu)\n",
        "\n",
        "  # Create model\n",
        "  with strategy.scope():\n",
        "      # Esta es la linea que tenemos que modificar\n",
        "      clasificador = crear_clasificador_clickbait(encoder=TFBertModel.from_pretrained('bert-base-uncased', num_labels=1), \n",
        "                                                  loss = tf.keras.losses.BinaryCrossentropy(),\n",
        "                                                  kernel_regularizer = tf.keras.regularizers.l1(l1=0.01),\n",
        "                                                  optimizer = tf.keras.optimizers.Adam(learning_rate=1e-5),\n",
        "                                                 )\n",
        "else:\n",
        "    # Esta es la linea que tenemos que modificar\n",
        "  clasificador = crear_clasificador_clickbait(encoder=TFBertModel.from_pretrained('bert-base-uncased', num_labels=1), \n",
        "                                              loss = tf.keras.losses.BinaryCrossentropy(),\n",
        "                                              kernel_regularizer = tf.keras.regularizers.l1(l1=0.01),\n",
        "                                              optimizer = tf.keras.optimizers.Adam(learning_rate=1e-5),\n",
        "                                              )"
      ],
      "metadata": {
        "colab": {
          "base_uri": "https://localhost:8080/"
        },
        "outputId": "65a62be8-a9e9-4d5d-d924-fb7fec7aae7e",
        "id": "0wzxB271dHBD"
      },
      "execution_count": null,
      "outputs": [
        {
          "output_type": "stream",
          "name": "stdout",
          "text": [
            "INFO:tensorflow:Deallocate tpu buffers before initializing tpu system.\n"
          ]
        },
        {
          "output_type": "stream",
          "name": "stderr",
          "text": [
            "INFO:tensorflow:Deallocate tpu buffers before initializing tpu system.\n"
          ]
        },
        {
          "output_type": "stream",
          "name": "stdout",
          "text": [
            "WARNING:tensorflow:TPU system grpc://10.17.74.58:8470 has already been initialized. Reinitializing the TPU can cause previously created variables on TPU to be lost.\n"
          ]
        },
        {
          "output_type": "stream",
          "name": "stderr",
          "text": [
            "WARNING:tensorflow:TPU system grpc://10.17.74.58:8470 has already been initialized. Reinitializing the TPU can cause previously created variables on TPU to be lost.\n"
          ]
        },
        {
          "output_type": "stream",
          "name": "stdout",
          "text": [
            "INFO:tensorflow:Initializing the TPU system: grpc://10.17.74.58:8470\n"
          ]
        },
        {
          "output_type": "stream",
          "name": "stderr",
          "text": [
            "INFO:tensorflow:Initializing the TPU system: grpc://10.17.74.58:8470\n"
          ]
        },
        {
          "output_type": "stream",
          "name": "stdout",
          "text": [
            "INFO:tensorflow:Finished initializing TPU system.\n"
          ]
        },
        {
          "output_type": "stream",
          "name": "stderr",
          "text": [
            "INFO:tensorflow:Finished initializing TPU system.\n"
          ]
        },
        {
          "output_type": "stream",
          "name": "stdout",
          "text": [
            "INFO:tensorflow:Found TPU system:\n"
          ]
        },
        {
          "output_type": "stream",
          "name": "stderr",
          "text": [
            "INFO:tensorflow:Found TPU system:\n"
          ]
        },
        {
          "output_type": "stream",
          "name": "stdout",
          "text": [
            "INFO:tensorflow:*** Num TPU Cores: 8\n"
          ]
        },
        {
          "output_type": "stream",
          "name": "stderr",
          "text": [
            "INFO:tensorflow:*** Num TPU Cores: 8\n"
          ]
        },
        {
          "output_type": "stream",
          "name": "stdout",
          "text": [
            "INFO:tensorflow:*** Num TPU Workers: 1\n"
          ]
        },
        {
          "output_type": "stream",
          "name": "stderr",
          "text": [
            "INFO:tensorflow:*** Num TPU Workers: 1\n"
          ]
        },
        {
          "output_type": "stream",
          "name": "stdout",
          "text": [
            "INFO:tensorflow:*** Num TPU Cores Per Worker: 8\n"
          ]
        },
        {
          "output_type": "stream",
          "name": "stderr",
          "text": [
            "INFO:tensorflow:*** Num TPU Cores Per Worker: 8\n"
          ]
        },
        {
          "output_type": "stream",
          "name": "stdout",
          "text": [
            "INFO:tensorflow:*** Available Device: _DeviceAttributes(/job:localhost/replica:0/task:0/device:CPU:0, CPU, 0, 0)\n"
          ]
        },
        {
          "output_type": "stream",
          "name": "stderr",
          "text": [
            "INFO:tensorflow:*** Available Device: _DeviceAttributes(/job:localhost/replica:0/task:0/device:CPU:0, CPU, 0, 0)\n"
          ]
        },
        {
          "output_type": "stream",
          "name": "stdout",
          "text": [
            "INFO:tensorflow:*** Available Device: _DeviceAttributes(/job:worker/replica:0/task:0/device:CPU:0, CPU, 0, 0)\n"
          ]
        },
        {
          "output_type": "stream",
          "name": "stderr",
          "text": [
            "INFO:tensorflow:*** Available Device: _DeviceAttributes(/job:worker/replica:0/task:0/device:CPU:0, CPU, 0, 0)\n"
          ]
        },
        {
          "output_type": "stream",
          "name": "stdout",
          "text": [
            "INFO:tensorflow:*** Available Device: _DeviceAttributes(/job:worker/replica:0/task:0/device:TPU:0, TPU, 0, 0)\n"
          ]
        },
        {
          "output_type": "stream",
          "name": "stderr",
          "text": [
            "INFO:tensorflow:*** Available Device: _DeviceAttributes(/job:worker/replica:0/task:0/device:TPU:0, TPU, 0, 0)\n"
          ]
        },
        {
          "output_type": "stream",
          "name": "stdout",
          "text": [
            "INFO:tensorflow:*** Available Device: _DeviceAttributes(/job:worker/replica:0/task:0/device:TPU:1, TPU, 0, 0)\n"
          ]
        },
        {
          "output_type": "stream",
          "name": "stderr",
          "text": [
            "INFO:tensorflow:*** Available Device: _DeviceAttributes(/job:worker/replica:0/task:0/device:TPU:1, TPU, 0, 0)\n"
          ]
        },
        {
          "output_type": "stream",
          "name": "stdout",
          "text": [
            "INFO:tensorflow:*** Available Device: _DeviceAttributes(/job:worker/replica:0/task:0/device:TPU:2, TPU, 0, 0)\n"
          ]
        },
        {
          "output_type": "stream",
          "name": "stderr",
          "text": [
            "INFO:tensorflow:*** Available Device: _DeviceAttributes(/job:worker/replica:0/task:0/device:TPU:2, TPU, 0, 0)\n"
          ]
        },
        {
          "output_type": "stream",
          "name": "stdout",
          "text": [
            "INFO:tensorflow:*** Available Device: _DeviceAttributes(/job:worker/replica:0/task:0/device:TPU:3, TPU, 0, 0)\n"
          ]
        },
        {
          "output_type": "stream",
          "name": "stderr",
          "text": [
            "INFO:tensorflow:*** Available Device: _DeviceAttributes(/job:worker/replica:0/task:0/device:TPU:3, TPU, 0, 0)\n"
          ]
        },
        {
          "output_type": "stream",
          "name": "stdout",
          "text": [
            "INFO:tensorflow:*** Available Device: _DeviceAttributes(/job:worker/replica:0/task:0/device:TPU:4, TPU, 0, 0)\n"
          ]
        },
        {
          "output_type": "stream",
          "name": "stderr",
          "text": [
            "INFO:tensorflow:*** Available Device: _DeviceAttributes(/job:worker/replica:0/task:0/device:TPU:4, TPU, 0, 0)\n"
          ]
        },
        {
          "output_type": "stream",
          "name": "stdout",
          "text": [
            "INFO:tensorflow:*** Available Device: _DeviceAttributes(/job:worker/replica:0/task:0/device:TPU:5, TPU, 0, 0)\n"
          ]
        },
        {
          "output_type": "stream",
          "name": "stderr",
          "text": [
            "INFO:tensorflow:*** Available Device: _DeviceAttributes(/job:worker/replica:0/task:0/device:TPU:5, TPU, 0, 0)\n"
          ]
        },
        {
          "output_type": "stream",
          "name": "stdout",
          "text": [
            "INFO:tensorflow:*** Available Device: _DeviceAttributes(/job:worker/replica:0/task:0/device:TPU:6, TPU, 0, 0)\n"
          ]
        },
        {
          "output_type": "stream",
          "name": "stderr",
          "text": [
            "INFO:tensorflow:*** Available Device: _DeviceAttributes(/job:worker/replica:0/task:0/device:TPU:6, TPU, 0, 0)\n"
          ]
        },
        {
          "output_type": "stream",
          "name": "stdout",
          "text": [
            "INFO:tensorflow:*** Available Device: _DeviceAttributes(/job:worker/replica:0/task:0/device:TPU:7, TPU, 0, 0)\n"
          ]
        },
        {
          "output_type": "stream",
          "name": "stderr",
          "text": [
            "INFO:tensorflow:*** Available Device: _DeviceAttributes(/job:worker/replica:0/task:0/device:TPU:7, TPU, 0, 0)\n"
          ]
        },
        {
          "output_type": "stream",
          "name": "stdout",
          "text": [
            "INFO:tensorflow:*** Available Device: _DeviceAttributes(/job:worker/replica:0/task:0/device:TPU_SYSTEM:0, TPU_SYSTEM, 0, 0)\n"
          ]
        },
        {
          "output_type": "stream",
          "name": "stderr",
          "text": [
            "INFO:tensorflow:*** Available Device: _DeviceAttributes(/job:worker/replica:0/task:0/device:TPU_SYSTEM:0, TPU_SYSTEM, 0, 0)\n"
          ]
        },
        {
          "output_type": "stream",
          "name": "stdout",
          "text": [
            "INFO:tensorflow:*** Available Device: _DeviceAttributes(/job:worker/replica:0/task:0/device:XLA_CPU:0, XLA_CPU, 0, 0)\n"
          ]
        },
        {
          "output_type": "stream",
          "name": "stderr",
          "text": [
            "INFO:tensorflow:*** Available Device: _DeviceAttributes(/job:worker/replica:0/task:0/device:XLA_CPU:0, XLA_CPU, 0, 0)\n",
            "Some layers from the model checkpoint at bert-base-uncased were not used when initializing TFBertModel: ['nsp___cls', 'mlm___cls']\n",
            "- This IS expected if you are initializing TFBertModel from the checkpoint of a model trained on another task or with another architecture (e.g. initializing a BertForSequenceClassification model from a BertForPreTraining model).\n",
            "- This IS NOT expected if you are initializing TFBertModel from the checkpoint of a model that you expect to be exactly identical (initializing a BertForSequenceClassification model from a BertForSequenceClassification model).\n",
            "All the layers of TFBertModel were initialized from the model checkpoint at bert-base-uncased.\n",
            "If your task is similar to the task the model of the checkpoint was trained on, you can already use TFBertModel for predictions without further training.\n"
          ]
        }
      ]
    },
    {
      "cell_type": "markdown",
      "source": [
        "Un resumen de la red que acabamos de crear:"
      ],
      "metadata": {
        "id": "pWMVGKMedHBI"
      }
    },
    {
      "cell_type": "code",
      "source": [
        "clasificador.summary()"
      ],
      "metadata": {
        "colab": {
          "base_uri": "https://localhost:8080/"
        },
        "outputId": "6e0fa958-e73d-40c7-878a-e08265082b17",
        "id": "pE8J3nfodHBL"
      },
      "execution_count": null,
      "outputs": [
        {
          "output_type": "stream",
          "name": "stdout",
          "text": [
            "Model: \"model_1\"\n",
            "__________________________________________________________________________________________________\n",
            " Layer (type)                   Output Shape         Param #     Connected to                     \n",
            "==================================================================================================\n",
            " input_ids (InputLayer)         [(None, 512)]        0           []                               \n",
            "                                                                                                  \n",
            " attention_mask (InputLayer)    [(None, 512)]        0           []                               \n",
            "                                                                                                  \n",
            " token_type_ids (InputLayer)    [(None, 512)]        0           []                               \n",
            "                                                                                                  \n",
            " tf_bert_model_1 (TFBertModel)  TFBaseModelOutputWi  109482240   ['input_ids[0][0]',              \n",
            "                                thPoolingAndCrossAt               'attention_mask[0][0]',         \n",
            "                                tentions(last_hidde               'token_type_ids[0][0]']         \n",
            "                                n_state=(None, 512,                                               \n",
            "                                 768),                                                            \n",
            "                                 pooler_output=(Non                                               \n",
            "                                e, 768),                                                          \n",
            "                                 past_key_values=No                                               \n",
            "                                ne, hidden_states=N                                               \n",
            "                                one, attentions=Non                                               \n",
            "                                e, cross_attentions                                               \n",
            "                                =None)                                                            \n",
            "                                                                                                  \n",
            " Linear1 (Dense)                (None, 64)           49216       ['tf_bert_model_1[0][1]']        \n",
            "                                                                                                  \n",
            " Linear2 (Dense)                (None, 1)            65          ['Linear1[0][0]']                \n",
            "                                                                                                  \n",
            "==================================================================================================\n",
            "Total params: 109,531,521\n",
            "Trainable params: 109,531,521\n",
            "Non-trainable params: 0\n",
            "__________________________________________________________________________________________________\n"
          ]
        }
      ]
    },
    {
      "cell_type": "markdown",
      "source": [
        "Esta vez, como anunciamos en los puntos 2.1 y 2.2, hemos añadido un classification head customizado."
      ],
      "metadata": {
        "id": "akgUYWv_dHBO"
      }
    },
    {
      "cell_type": "markdown",
      "source": [
        "**Entrenamiento**\n",
        "\n",
        "---"
      ],
      "metadata": {
        "id": "B4_jHoN4eGgK"
      }
    },
    {
      "cell_type": "markdown",
      "source": [
        "Antes de entrenar el modelo, vamos a monitorizar la *validation loss*, de manera que el entrenamiento se pare si en las 10 *epochs* siguientes no consigue mejorarla."
      ],
      "metadata": {
        "id": "0bVgy1h7eGgL"
      }
    },
    {
      "cell_type": "code",
      "source": [
        "early_stopping_monitor = tf.keras.callbacks.EarlyStopping(\n",
        "    monitor='val_loss',\n",
        "    min_delta=0,\n",
        "    patience=10,\n",
        "    verbose=0,\n",
        "    mode='min',\n",
        "    baseline=None,\n",
        "    restore_best_weights=True\n",
        ")"
      ],
      "metadata": {
        "id": "udgXaIHzdHBU"
      },
      "execution_count": null,
      "outputs": []
    },
    {
      "cell_type": "markdown",
      "source": [
        "¡A entrenar! Para ello, hemos añadido diferentes pesos a las clases para \"balancear\" la proporción de las clases. Las clases 0 (no clickbait) y 1 (clickbait) van a tener un peso inversamente proporcional."
      ],
      "metadata": {
        "id": "9bnhkCSbdHBX"
      }
    },
    {
      "cell_type": "code",
      "source": [
        "fitting = clasificador.fit(\n",
        "    x=train_X,\n",
        "    y=train_y,\n",
        "    batch_size=128,\n",
        "    epochs=300,\n",
        "    validation_data=(validation_X, validation_y),\n",
        "    callbacks=[early_stopping_monitor],\n",
        "    class_weight={0: len(train[train['code'] == 1]) / len(train[train['code'] == 0]),\n",
        "                  1: 1.}\n",
        ")"
      ],
      "metadata": {
        "colab": {
          "base_uri": "https://localhost:8080/"
        },
        "outputId": "ac7ca078-c539-42fc-e5d2-327e67564b46",
        "id": "47vy7iG3dHBY"
      },
      "execution_count": null,
      "outputs": [
        {
          "output_type": "stream",
          "name": "stdout",
          "text": [
            "Epoch 1/300\n",
            "122/122 [==============================] - 234s 1s/step - loss: 20.9334 - val_loss: 20.7759\n",
            "Epoch 2/300\n",
            "122/122 [==============================] - 63s 517ms/step - loss: 20.3000 - val_loss: 20.1920\n",
            "Epoch 3/300\n",
            "122/122 [==============================] - 62s 512ms/step - loss: 19.6983 - val_loss: 19.6606\n",
            "Epoch 4/300\n",
            "122/122 [==============================] - 63s 520ms/step - loss: 19.1063 - val_loss: 19.1514\n",
            "Epoch 5/300\n",
            "122/122 [==============================] - 63s 513ms/step - loss: 18.5216 - val_loss: 18.5527\n",
            "Epoch 6/300\n",
            "122/122 [==============================] - 63s 514ms/step - loss: 17.9448 - val_loss: 18.0101\n",
            "Epoch 7/300\n",
            "122/122 [==============================] - 63s 515ms/step - loss: 17.3841 - val_loss: 17.4868\n",
            "Epoch 8/300\n",
            "122/122 [==============================] - 62s 512ms/step - loss: 16.8313 - val_loss: 16.9911\n",
            "Epoch 9/300\n",
            "122/122 [==============================] - 62s 512ms/step - loss: 16.2907 - val_loss: 16.5373\n",
            "Epoch 10/300\n",
            "122/122 [==============================] - 63s 513ms/step - loss: 15.7621 - val_loss: 16.0234\n",
            "Epoch 11/300\n",
            "122/122 [==============================] - 62s 512ms/step - loss: 15.2448 - val_loss: 15.5250\n",
            "Epoch 12/300\n",
            "122/122 [==============================] - 62s 512ms/step - loss: 14.7356 - val_loss: 15.0376\n",
            "Epoch 13/300\n",
            "122/122 [==============================] - 62s 512ms/step - loss: 14.2352 - val_loss: 14.5649\n",
            "Epoch 14/300\n",
            "122/122 [==============================] - 63s 515ms/step - loss: 13.7449 - val_loss: 14.1057\n",
            "Epoch 15/300\n",
            "122/122 [==============================] - 62s 512ms/step - loss: 13.2629 - val_loss: 13.6193\n",
            "Epoch 16/300\n",
            "122/122 [==============================] - 62s 512ms/step - loss: 12.7893 - val_loss: 13.1606\n",
            "Epoch 17/300\n",
            "122/122 [==============================] - 62s 511ms/step - loss: 12.3247 - val_loss: 12.7202\n",
            "Epoch 18/300\n",
            "122/122 [==============================] - 62s 512ms/step - loss: 11.8689 - val_loss: 12.2614\n",
            "Epoch 19/300\n",
            "122/122 [==============================] - 62s 513ms/step - loss: 11.4223 - val_loss: 11.7990\n",
            "Epoch 20/300\n",
            "122/122 [==============================] - 63s 514ms/step - loss: 10.9839 - val_loss: 11.4074\n",
            "Epoch 21/300\n",
            "122/122 [==============================] - 62s 512ms/step - loss: 10.5541 - val_loss: 10.9615\n",
            "Epoch 22/300\n",
            "122/122 [==============================] - 62s 512ms/step - loss: 10.1318 - val_loss: 10.5642\n",
            "Epoch 23/300\n",
            "122/122 [==============================] - 62s 513ms/step - loss: 9.7192 - val_loss: 10.1501\n",
            "Epoch 24/300\n",
            "122/122 [==============================] - 63s 513ms/step - loss: 9.3159 - val_loss: 9.7450\n",
            "Epoch 25/300\n",
            "122/122 [==============================] - 62s 512ms/step - loss: 8.9205 - val_loss: 9.3933\n",
            "Epoch 26/300\n",
            "122/122 [==============================] - 63s 514ms/step - loss: 8.5350 - val_loss: 8.9976\n",
            "Epoch 27/300\n",
            "122/122 [==============================] - 63s 514ms/step - loss: 8.1581 - val_loss: 8.6259\n",
            "Epoch 28/300\n",
            "122/122 [==============================] - 63s 514ms/step - loss: 7.7880 - val_loss: 8.2471\n",
            "Epoch 29/300\n",
            "122/122 [==============================] - 63s 514ms/step - loss: 7.4274 - val_loss: 7.8801\n",
            "Epoch 30/300\n",
            "122/122 [==============================] - 63s 514ms/step - loss: 7.0753 - val_loss: 7.5573\n",
            "Epoch 31/300\n",
            "122/122 [==============================] - 63s 514ms/step - loss: 6.7326 - val_loss: 7.2593\n",
            "Epoch 32/300\n",
            "122/122 [==============================] - 63s 513ms/step - loss: 6.3996 - val_loss: 6.8657\n",
            "Epoch 33/300\n",
            "122/122 [==============================] - 62s 512ms/step - loss: 6.0723 - val_loss: 6.5441\n",
            "Epoch 34/300\n",
            "122/122 [==============================] - 62s 513ms/step - loss: 5.7571 - val_loss: 6.2350\n",
            "Epoch 35/300\n",
            "122/122 [==============================] - 62s 513ms/step - loss: 5.4477 - val_loss: 5.9347\n",
            "Epoch 36/300\n",
            "122/122 [==============================] - 64s 522ms/step - loss: 5.1475 - val_loss: 5.6224\n",
            "Epoch 37/300\n",
            "122/122 [==============================] - 63s 514ms/step - loss: 4.8575 - val_loss: 5.3337\n",
            "Epoch 38/300\n",
            "122/122 [==============================] - 63s 513ms/step - loss: 4.5750 - val_loss: 5.0445\n",
            "Epoch 39/300\n",
            "122/122 [==============================] - 63s 513ms/step - loss: 4.3008 - val_loss: 4.7662\n",
            "Epoch 40/300\n",
            "122/122 [==============================] - 62s 512ms/step - loss: 4.0359 - val_loss: 4.4664\n",
            "Epoch 41/300\n",
            "122/122 [==============================] - 62s 511ms/step - loss: 3.7783 - val_loss: 4.2218\n",
            "Epoch 42/300\n",
            "122/122 [==============================] - 62s 512ms/step - loss: 3.5317 - val_loss: 3.9751\n",
            "Epoch 43/300\n",
            "122/122 [==============================] - 62s 512ms/step - loss: 3.2928 - val_loss: 3.7311\n",
            "Epoch 44/300\n",
            "122/122 [==============================] - 62s 512ms/step - loss: 3.0628 - val_loss: 3.4977\n",
            "Epoch 45/300\n",
            "122/122 [==============================] - 62s 512ms/step - loss: 2.8417 - val_loss: 3.2938\n",
            "Epoch 46/300\n",
            "122/122 [==============================] - 62s 512ms/step - loss: 2.6300 - val_loss: 3.0409\n",
            "Epoch 47/300\n",
            "122/122 [==============================] - 62s 512ms/step - loss: 2.4264 - val_loss: 2.8186\n",
            "Epoch 48/300\n",
            "122/122 [==============================] - 62s 512ms/step - loss: 2.2328 - val_loss: 2.6325\n",
            "Epoch 49/300\n",
            "122/122 [==============================] - 62s 513ms/step - loss: 2.0512 - val_loss: 2.4307\n",
            "Epoch 50/300\n",
            "122/122 [==============================] - 62s 512ms/step - loss: 1.8726 - val_loss: 2.2380\n",
            "Epoch 51/300\n",
            "122/122 [==============================] - 62s 512ms/step - loss: 1.7078 - val_loss: 2.0629\n",
            "Epoch 52/300\n",
            "122/122 [==============================] - 62s 513ms/step - loss: 1.5509 - val_loss: 1.9032\n",
            "Epoch 53/300\n",
            "122/122 [==============================] - 62s 511ms/step - loss: 1.4037 - val_loss: 1.7510\n",
            "Epoch 54/300\n",
            "122/122 [==============================] - 62s 512ms/step - loss: 1.2667 - val_loss: 1.6123\n",
            "Epoch 55/300\n",
            "122/122 [==============================] - 62s 512ms/step - loss: 1.1388 - val_loss: 1.4637\n",
            "Epoch 56/300\n",
            "122/122 [==============================] - 62s 511ms/step - loss: 1.0208 - val_loss: 1.3452\n",
            "Epoch 57/300\n",
            "122/122 [==============================] - 63s 515ms/step - loss: 0.9118 - val_loss: 1.2401\n",
            "Epoch 58/300\n",
            "122/122 [==============================] - 62s 512ms/step - loss: 0.8118 - val_loss: 1.1386\n",
            "Epoch 59/300\n",
            "122/122 [==============================] - 62s 512ms/step - loss: 0.7218 - val_loss: 1.0644\n",
            "Epoch 60/300\n",
            "122/122 [==============================] - 62s 512ms/step - loss: 0.6401 - val_loss: 0.9888\n",
            "Epoch 61/300\n",
            "122/122 [==============================] - 62s 512ms/step - loss: 0.5668 - val_loss: 0.8840\n",
            "Epoch 62/300\n",
            "122/122 [==============================] - 62s 512ms/step - loss: 0.5036 - val_loss: 0.8277\n",
            "Epoch 63/300\n",
            "122/122 [==============================] - 62s 512ms/step - loss: 0.4491 - val_loss: 0.7711\n",
            "Epoch 64/300\n",
            "122/122 [==============================] - 62s 513ms/step - loss: 0.4025 - val_loss: 0.7260\n",
            "Epoch 65/300\n",
            "122/122 [==============================] - 62s 512ms/step - loss: 0.3638 - val_loss: 0.6839\n",
            "Epoch 66/300\n",
            "122/122 [==============================] - 63s 513ms/step - loss: 0.3330 - val_loss: 0.6612\n",
            "Epoch 67/300\n",
            "122/122 [==============================] - 63s 513ms/step - loss: 0.3085 - val_loss: 0.6417\n",
            "Epoch 68/300\n",
            "122/122 [==============================] - 63s 513ms/step - loss: 0.2904 - val_loss: 0.6197\n",
            "Epoch 69/300\n",
            "122/122 [==============================] - 62s 513ms/step - loss: 0.2792 - val_loss: 0.6039\n",
            "Epoch 70/300\n",
            "122/122 [==============================] - 61s 501ms/step - loss: 0.2723 - val_loss: 0.6224\n",
            "Epoch 71/300\n",
            "122/122 [==============================] - 61s 502ms/step - loss: 0.2664 - val_loss: 0.6106\n",
            "Epoch 72/300\n",
            "122/122 [==============================] - 61s 502ms/step - loss: 0.2628 - val_loss: 0.6145\n",
            "Epoch 73/300\n",
            "122/122 [==============================] - 62s 512ms/step - loss: 0.2603 - val_loss: 0.6024\n",
            "Epoch 74/300\n",
            "122/122 [==============================] - 62s 512ms/step - loss: 0.2573 - val_loss: 0.5975\n",
            "Epoch 75/300\n",
            "122/122 [==============================] - 63s 513ms/step - loss: 0.2556 - val_loss: 0.5916\n",
            "Epoch 76/300\n",
            "122/122 [==============================] - 61s 503ms/step - loss: 0.2547 - val_loss: 0.5996\n",
            "Epoch 77/300\n",
            "122/122 [==============================] - 61s 503ms/step - loss: 0.2545 - val_loss: 0.6464\n",
            "Epoch 78/300\n",
            "122/122 [==============================] - 61s 503ms/step - loss: 0.2521 - val_loss: 0.6159\n",
            "Epoch 79/300\n",
            "122/122 [==============================] - 61s 503ms/step - loss: 0.2497 - val_loss: 0.6105\n",
            "Epoch 80/300\n",
            "122/122 [==============================] - 61s 503ms/step - loss: 0.2496 - val_loss: 0.6298\n",
            "Epoch 81/300\n",
            "122/122 [==============================] - 61s 503ms/step - loss: 0.2492 - val_loss: 0.6049\n",
            "Epoch 82/300\n",
            "122/122 [==============================] - 61s 503ms/step - loss: 0.2464 - val_loss: 0.6376\n",
            "Epoch 83/300\n",
            "122/122 [==============================] - 61s 504ms/step - loss: 0.2459 - val_loss: 0.6031\n",
            "Epoch 84/300\n",
            "122/122 [==============================] - 61s 503ms/step - loss: 0.2436 - val_loss: 0.5961\n",
            "Epoch 85/300\n",
            "122/122 [==============================] - 68s 559ms/step - loss: 0.2426 - val_loss: 0.6061\n"
          ]
        }
      ]
    },
    {
      "cell_type": "markdown",
      "source": [
        "Después de entrenar, queremos predecir clases en el validation y en el test. Para ellos, debemos decirle al clasificador que ya no está funcionando en *training mode*. Esto es una particularidad de algunas redes neuronales."
      ],
      "metadata": {
        "id": "sKh0drPUdHBb"
      }
    },
    {
      "cell_type": "code",
      "source": [
        "clasificador.training=False"
      ],
      "metadata": {
        "id": "KuqEJNnbdHBd"
      },
      "execution_count": null,
      "outputs": []
    },
    {
      "cell_type": "markdown",
      "source": [
        "Veamos el aspecto de la *training loss* y la *validation loss*"
      ],
      "metadata": {
        "id": "xgk5P_LqdHBi"
      }
    },
    {
      "cell_type": "code",
      "source": [
        "%matplotlib inline\n",
        "import matplotlib.pyplot as plt\n",
        "plt.plot(fitting.history['loss'][:])\n",
        "plt.plot(fitting.history['val_loss'][:])"
      ],
      "metadata": {
        "colab": {
          "base_uri": "https://localhost:8080/",
          "height": 283
        },
        "outputId": "be061cbd-e028-45ed-e7b6-6d9fb7bc745f",
        "id": "6JJwiaygdHBj"
      },
      "execution_count": null,
      "outputs": [
        {
          "output_type": "execute_result",
          "data": {
            "text/plain": [
              "[<matplotlib.lines.Line2D at 0x7f10cedcd950>]"
            ]
          },
          "metadata": {},
          "execution_count": 48
        },
        {
          "output_type": "display_data",
          "data": {
            "text/plain": [
              "<Figure size 432x288 with 1 Axes>"
            ],
            "image/png": "[encoded data removed]"
          },
          "metadata": {
            "needs_background": "light"
          }
        }
      ]
    },
    {
      "cell_type": "markdown",
      "source": [
        "El entrenamiento ha parado cuando el validation loss ya no mejoraba."
      ],
      "metadata": {
        "id": "YinckoEadHBl"
      }
    },
    {
      "cell_type": "markdown",
      "source": [
        "**Evaluación sobre validation**\n",
        "\n",
        "---"
      ],
      "metadata": {
        "id": "XJ4Y1PhgePYa"
      }
    },
    {
      "cell_type": "markdown",
      "source": [
        "A continuación, vamos a analizar las siguientes métricas:\n",
        "\n",
        "**precision**: de los tweets que hemos clasificado como un clase, cuántos realmente los son.    \n",
        "\n",
        "**recall**: Cuántos tweets de una clase hemos logrado identificar correctamente.\n",
        "\n",
        "**f1-score**: La media harmónica de **precision** y **recall**\n",
        "\n",
        "**accuracy**: % de acierto global del modelo. Capacidad de discernir entre clickbait y no clickbait."
      ],
      "metadata": {
        "id": "ycBtGQWAdHBn"
      }
    },
    {
      "cell_type": "code",
      "source": [
        "import matplotlib.pyplot as plt\n",
        "import seaborn as sns\n",
        "from sklearn.metrics import classification_report, confusion_matrix, accuracy_score\n",
        "from termcolor import colored\n",
        "\n",
        "predicted_proba = clasificador.predict(validation_X)\n",
        "#thresold modificable\n",
        "threshold = 0.5\n",
        "predicted = (predicted_proba >= threshold).astype('int')\n",
        "\n",
        "#for deaful threshold change param 'predicted' per 'y_pred'\n",
        "print(colored('\\nConfusion Matrix: \\n', attrs=['bold']),confusion_matrix(np.array(validation_y[:,0]), predicted),'\\n\\n-------------------')\n",
        "print(colored('Classification_report: \\n', attrs=['bold']),classification_report(np.array(validation_y[:,0]), predicted),'\\n-------------------')\n",
        "# print(colored('Accuracy: \\n', attrs=['bold']),accuracy_score(np.array(validation_y[:,0]), predicted))\n",
        "\n",
        "data_predicted = pd.DataFrame(columns=['prediction','gt'])\n",
        "data_predicted['prediction'] = predicted_proba.reshape((len(predicted_proba),))\n",
        "data_predicted['gt'] = np.array(validation_y[:,0])\n",
        "data_predicted_0=data_predicted[data_predicted['gt']==0]\n",
        "data_predicted_1=data_predicted[data_predicted['gt']==1]\n",
        "\n",
        "f, ax = plt.subplots(figsize=(15,7))\n",
        "ax = sns.distplot(data_predicted_0['prediction'], hist=False, rug=False, bins=100, color='deepskyblue', kde_kws = {'shade': True, 'linewidth': 2}, label='No clickbait')\n",
        "ax = sns.distplot(data_predicted_1['prediction'], hist=False, rug=False, bins=100, color='orange', kde_kws = {'shade': True, 'linewidth': 2}, label='clickbait')\n",
        "ax.set_title(\"Density Chart\")\n",
        "plt.axvline(threshold, 0, color='red')\n",
        "plt.xlim(-0.1, 1.1)\n",
        "plt.legend()\n",
        "plt.show(block=False)"
      ],
      "metadata": {
        "colab": {
          "base_uri": "https://localhost:8080/",
          "height": 864
        },
        "outputId": "825a1963-8645-407e-afdf-b158b1ef780d",
        "id": "cV_3bd4ndHBp"
      },
      "execution_count": null,
      "outputs": [
        {
          "output_type": "stream",
          "name": "stdout",
          "text": [
            "\u001b[1m\n",
            "Confusion Matrix: \n",
            "\u001b[0m [[2711  245]\n",
            " [ 354  587]] \n",
            "\n",
            "-------------------\n",
            "\u001b[1mClassification_report: \n",
            "\u001b[0m               precision    recall  f1-score   support\n",
            "\n",
            "           0       0.88      0.92      0.90      2956\n",
            "           1       0.71      0.62      0.66       941\n",
            "\n",
            "    accuracy                           0.85      3897\n",
            "   macro avg       0.80      0.77      0.78      3897\n",
            "weighted avg       0.84      0.85      0.84      3897\n",
            " \n",
            "-------------------\n"
          ]
        },
        {
          "output_type": "stream",
          "name": "stderr",
          "text": [
            "/usr/local/lib/python3.7/dist-packages/seaborn/distributions.py:2619: FutureWarning: `distplot` is a deprecated function and will be removed in a future version. Please adapt your code to use either `displot` (a figure-level function with similar flexibility) or `kdeplot` (an axes-level function for kernel density plots).\n",
            "  warnings.warn(msg, FutureWarning)\n",
            "/usr/local/lib/python3.7/dist-packages/seaborn/distributions.py:2619: FutureWarning: `distplot` is a deprecated function and will be removed in a future version. Please adapt your code to use either `displot` (a figure-level function with similar flexibility) or `kdeplot` (an axes-level function for kernel density plots).\n",
            "  warnings.warn(msg, FutureWarning)\n"
          ]
        },
        {
          "output_type": "display_data",
          "data": {
            "text/plain": [
              "<Figure size 1080x504 with 1 Axes>"
            ],
            "image/png": "[encoded data removed]"
          },
          "metadata": {
            "needs_background": "light"
          }
        }
      ]
    },
    {
      "cell_type": "markdown",
      "source": [
        "En el density chart, hemos decidido mantener el **umbral=0.5** para no-clickbait/clickbait. Este modelo es muy preciso, ya que ambas clases están muy bien acotadas en los mismos valores, pero tiene un *recall* modesto."
      ],
      "metadata": {
        "id": "BUKQq-KmdHBr"
      }
    },
    {
      "cell_type": "markdown",
      "source": [
        "Para este caso concreto, cerca del 76% de los tweets son no-clickbait. Una solución trivial sería decir que todos los tweets son no-clickbait, con lo que ya obendríamos una *accuracy* del 76%. El modelo tiene una *accuracy* del 85%, de manera que mejora la solución trivial."
      ],
      "metadata": {
        "id": "FKOm2FghdHBs"
      }
    },
    {
      "cell_type": "markdown",
      "source": [
        "Para los tweets **no-clickbat**, obtenemos excelentes valores de **precision**, **recall** y, naturalmente, **F1**. Esto significa que, capturamos casi todos los tweets que son no-clickbait (*recall*) del *validation set* y, además, de los predecidos como no-clickbait, casi todos realmente son no-clickbait (*precision*)."
      ],
      "metadata": {
        "id": "uqeaEJV_dHBt"
      }
    },
    {
      "cell_type": "markdown",
      "source": [
        "Para los tweets **clickbait**, aunque tenemos buena *precision*, el *recall* es más bien bajo. Esto significa que nuestro clasificador clickbait es bastante fiable cuando dice que un tweet es clickbait, pero puede pasar por alto bastantes tweets clickbait."
      ],
      "metadata": {
        "id": "Io2c8GbVdHBu"
      }
    },
    {
      "cell_type": "markdown",
      "source": [
        "Estos resultamos están acorde a otros modelos publicados con anterioridad:\n",
        "(https://ieeexplore.ieee.org/abstract/document/9617586/metrics#metrics"
      ],
      "metadata": {
        "id": "FB2sriHadHBv"
      }
    },
    {
      "cell_type": "markdown",
      "source": [
        "**Evaluación sobre test**\n",
        "\n",
        "---"
      ],
      "metadata": {
        "id": "yrgtgIDZee7r"
      }
    },
    {
      "cell_type": "code",
      "source": [
        "import matplotlib.pyplot as plt\n",
        "import seaborn as sns\n",
        "from sklearn.metrics import classification_report, confusion_matrix, accuracy_score\n",
        "from termcolor import colored\n",
        "\n",
        "predicted_proba = clasificador.predict(test_X)\n",
        "predicted = (predicted_proba >= threshold).astype('int')\n",
        "\n",
        "#for deaful threshold change param 'predicted' per 'y_pred'\n",
        "print(colored('\\nConfusion Matrix: \\n', attrs=['bold']),confusion_matrix(np.array(test_y[:,0]), predicted),'\\n\\n-------------------')\n",
        "print(colored('Classification_report: \\n', attrs=['bold']),classification_report(np.array(test_y[:,0]), predicted),'\\n-------------------')\n",
        "print(colored('Accuracy: \\n', attrs=['bold']),accuracy_score(np.array(test_y[:,0]), predicted))\n",
        "\n",
        "data_predicted = pd.DataFrame(columns=['prediction','gt'])\n",
        "data_predicted['prediction'] = predicted_proba.reshape((len(predicted_proba),))\n",
        "data_predicted['gt'] = np.array(test_y[:,0])\n",
        "data_predicted_0=data_predicted[data_predicted['gt']==0]\n",
        "data_predicted_1=data_predicted[data_predicted['gt']==1]\n",
        "\n",
        "f, ax = plt.subplots(figsize=(15,7))\n",
        "ax = sns.distplot(data_predicted_0['prediction'], hist=False, rug=False, bins=100, color='deepskyblue', kde_kws = {'shade': True, 'linewidth': 2}, label='No clickbait')\n",
        "ax = sns.distplot(data_predicted_1['prediction'], hist=False, rug=False, bins=100, color='orange', kde_kws = {'shade': True, 'linewidth': 2}, label='clickbait')\n",
        "ax.set_title(\"Density Chart\")\n",
        "plt.axvline(threshold, 0, color='red')\n",
        "plt.xlim(-0.1, 1.1)\n",
        "plt.legend()\n",
        "plt.show(block=False)"
      ],
      "metadata": {
        "colab": {
          "base_uri": "https://localhost:8080/",
          "height": 900
        },
        "outputId": "0f2038ef-0a72-4612-d2e0-c4dc86a7e885",
        "id": "DtIuefRrdHB2"
      },
      "execution_count": null,
      "outputs": [
        {
          "output_type": "stream",
          "name": "stdout",
          "text": [
            "\u001b[1m\n",
            "Confusion Matrix: \n",
            "\u001b[0m [[13213  1242]\n",
            " [ 1512  2946]] \n",
            "\n",
            "-------------------\n",
            "\u001b[1mClassification_report: \n",
            "\u001b[0m               precision    recall  f1-score   support\n",
            "\n",
            "           0       0.90      0.91      0.91     14455\n",
            "           1       0.70      0.66      0.68      4458\n",
            "\n",
            "    accuracy                           0.85     18913\n",
            "   macro avg       0.80      0.79      0.79     18913\n",
            "weighted avg       0.85      0.85      0.85     18913\n",
            " \n",
            "-------------------\n",
            "\u001b[1mAccuracy: \n",
            "\u001b[0m 0.8543858721514302\n"
          ]
        },
        {
          "output_type": "stream",
          "name": "stderr",
          "text": [
            "/usr/local/lib/python3.7/dist-packages/seaborn/distributions.py:2619: FutureWarning: `distplot` is a deprecated function and will be removed in a future version. Please adapt your code to use either `displot` (a figure-level function with similar flexibility) or `kdeplot` (an axes-level function for kernel density plots).\n",
            "  warnings.warn(msg, FutureWarning)\n",
            "/usr/local/lib/python3.7/dist-packages/seaborn/distributions.py:2619: FutureWarning: `distplot` is a deprecated function and will be removed in a future version. Please adapt your code to use either `displot` (a figure-level function with similar flexibility) or `kdeplot` (an axes-level function for kernel density plots).\n",
            "  warnings.warn(msg, FutureWarning)\n"
          ]
        },
        {
          "output_type": "display_data",
          "data": {
            "text/plain": [
              "<Figure size 1080x504 with 1 Axes>"
            ],
            "image/png": "[encoded data removed]"
          },
          "metadata": {
            "needs_background": "light"
          }
        }
      ]
    },
    {
      "cell_type": "markdown",
      "source": [
        "La evaluación sobre el *test set* arroja resultamos muy similares a los obtenidos en el *validation set*.\n",
        "\n",
        "Para una discusión más detallada me refiero a lo ya dicho para el *validation set.*"
      ],
      "metadata": {
        "id": "FYNLwJpvdHB4"
      }
    },
    {
      "cell_type": "markdown",
      "source": [
        "Dado que este modelo no genera colas largas para las dos clases, es interesante ver cómo son los tweets en los que falla o acierta cada clase."
      ],
      "metadata": {
        "id": "J8OPQ5EidHB9"
      }
    },
    {
      "cell_type": "markdown",
      "source": [
        "Veamos primero cómo son los tweets que realmente son clickbait:"
      ],
      "metadata": {
        "id": "oXPuiIi9hyQ-"
      }
    },
    {
      "cell_type": "code",
      "source": [
        "from IPython.display import display_html \n",
        "df1 = test[(np.reshape(predicted,(predicted.shape[0],)) == 0) & (np.array(test_y[:,0]) == 1)].head(20)\n",
        "df2 = test[(np.reshape(predicted,(predicted.shape[0],)) == 1) & (np.array(test_y[:,0]) == 1)].head(20)\n",
        "\n",
        "df1_styler = df1.style.set_table_attributes(\"style='display:inline'\").set_caption('Predicción: No-clickbait')\n",
        "df2_styler = df2.style.set_table_attributes(\"style='display:inline'\").set_caption('Predicción: Clickbait')\n",
        "\n",
        "display_html(df1_styler._repr_html_()+df2_styler._repr_html_(), raw=True)"
      ],
      "metadata": {
        "id": "orSL5WC1uLSR",
        "colab": {
          "base_uri": "https://localhost:8080/",
          "height": 485
        },
        "outputId": "6db0889e-f65f-46b4-d8e2-ca90d43668eb"
      },
      "execution_count": null,
      "outputs": [
        {
          "output_type": "display_data",
          "data": {
            "text/html": [
              "<style type=\"text/css\">\n",
              "</style>\n",
              "<table id=\"T_faf20_\" style='display:inline'>\n",
              "  <caption>Predicción: No-clickbait</caption>\n",
              "  <thead>\n",
              "    <tr>\n",
              "      <th class=\"blank level0\" >&nbsp;</th>\n",
              "      <th class=\"col_heading level0 col0\" >postText</th>\n",
              "      <th class=\"col_heading level0 col1\" >truthClass</th>\n",
              "      <th class=\"col_heading level0 col2\" >code</th>\n",
              "    </tr>\n",
              "  </thead>\n",
              "  <tbody>\n",
              "    <tr>\n",
              "      <th id=\"T_faf20_level0_row0\" class=\"row_heading level0 row0\" >7</th>\n",
              "      <td id=\"T_faf20_row0_col0\" class=\"data row0 col0\" >Stars who got their start on soap operas</td>\n",
              "      <td id=\"T_faf20_row0_col1\" class=\"data row0 col1\" >clickbait</td>\n",
              "      <td id=\"T_faf20_row0_col2\" class=\"data row0 col2\" >1</td>\n",
              "    </tr>\n",
              "    <tr>\n",
              "      <th id=\"T_faf20_level0_row1\" class=\"row_heading level0 row1\" >29</th>\n",
              "      <td id=\"T_faf20_row1_col0\" class=\"data row1 col0\" >Congratulations, Kalpit Veerval 👏</td>\n",
              "      <td id=\"T_faf20_row1_col1\" class=\"data row1 col1\" >clickbait</td>\n",
              "      <td id=\"T_faf20_row1_col2\" class=\"data row1 col2\" >1</td>\n",
              "    </tr>\n",
              "    <tr>\n",
              "      <th id=\"T_faf20_level0_row2\" class=\"row_heading level0 row2\" >32</th>\n",
              "      <td id=\"T_faf20_row2_col0\" class=\"data row2 col0\" >Jealous wife chops off her husband's PENIS with a pair of scissors after growing 'tired of his womanising'</td>\n",
              "      <td id=\"T_faf20_row2_col1\" class=\"data row2 col1\" >clickbait</td>\n",
              "      <td id=\"T_faf20_row2_col2\" class=\"data row2 col2\" >1</td>\n",
              "    </tr>\n",
              "    <tr>\n",
              "      <th id=\"T_faf20_level0_row3\" class=\"row_heading level0 row3\" >36</th>\n",
              "      <td id=\"T_faf20_row3_col0\" class=\"data row3 col0\" >thank goodness the rnc gets it</td>\n",
              "      <td id=\"T_faf20_row3_col1\" class=\"data row3 col1\" >clickbait</td>\n",
              "      <td id=\"T_faf20_row3_col2\" class=\"data row3 col2\" >1</td>\n",
              "    </tr>\n",
              "    <tr>\n",
              "      <th id=\"T_faf20_level0_row4\" class=\"row_heading level0 row4\" >51</th>\n",
              "      <td id=\"T_faf20_row4_col0\" class=\"data row4 col0\" >Latest Uber controversy sheds light on how companies use your emails:</td>\n",
              "      <td id=\"T_faf20_row4_col1\" class=\"data row4 col1\" >clickbait</td>\n",
              "      <td id=\"T_faf20_row4_col2\" class=\"data row4 col2\" >1</td>\n",
              "    </tr>\n",
              "    <tr>\n",
              "      <th id=\"T_faf20_level0_row5\" class=\"row_heading level0 row5\" >62</th>\n",
              "      <td id=\"T_faf20_row5_col0\" class=\"data row5 col0\" >\"Why is Bill Clinton given a pass over the other Bills?\"</td>\n",
              "      <td id=\"T_faf20_row5_col1\" class=\"data row5 col1\" >clickbait</td>\n",
              "      <td id=\"T_faf20_row5_col2\" class=\"data row5 col2\" >1</td>\n",
              "    </tr>\n",
              "    <tr>\n",
              "      <th id=\"T_faf20_level0_row6\" class=\"row_heading level0 row6\" >76</th>\n",
              "      <td id=\"T_faf20_row6_col0\" class=\"data row6 col0\" >Cheeky marathon runner soaks the future king of England</td>\n",
              "      <td id=\"T_faf20_row6_col1\" class=\"data row6 col1\" >clickbait</td>\n",
              "      <td id=\"T_faf20_row6_col2\" class=\"data row6 col2\" >1</td>\n",
              "    </tr>\n",
              "    <tr>\n",
              "      <th id=\"T_faf20_level0_row7\" class=\"row_heading level0 row7\" >81</th>\n",
              "      <td id=\"T_faf20_row7_col0\" class=\"data row7 col0\" >Guys, the new “Zelda” game is so freakin’ fun</td>\n",
              "      <td id=\"T_faf20_row7_col1\" class=\"data row7 col1\" >clickbait</td>\n",
              "      <td id=\"T_faf20_row7_col2\" class=\"data row7 col2\" >1</td>\n",
              "    </tr>\n",
              "    <tr>\n",
              "      <th id=\"T_faf20_level0_row8\" class=\"row_heading level0 row8\" >85</th>\n",
              "      <td id=\"T_faf20_row8_col0\" class=\"data row8 col0\" >What the French elections mean for Brexit</td>\n",
              "      <td id=\"T_faf20_row8_col1\" class=\"data row8 col1\" >clickbait</td>\n",
              "      <td id=\"T_faf20_row8_col2\" class=\"data row8 col2\" >1</td>\n",
              "    </tr>\n",
              "    <tr>\n",
              "      <th id=\"T_faf20_level0_row9\" class=\"row_heading level0 row9\" >86</th>\n",
              "      <td id=\"T_faf20_row9_col0\" class=\"data row9 col0\" >Did Von Miller wear a better Coachella outfit than Cam Newton? 🤔</td>\n",
              "      <td id=\"T_faf20_row9_col1\" class=\"data row9 col1\" >clickbait</td>\n",
              "      <td id=\"T_faf20_row9_col2\" class=\"data row9 col2\" >1</td>\n",
              "    </tr>\n",
              "    <tr>\n",
              "      <th id=\"T_faf20_level0_row10\" class=\"row_heading level0 row10\" >90</th>\n",
              "      <td id=\"T_faf20_row10_col0\" class=\"data row10 col0\" >9 ingenious ways aid workers and scientists are using drones for good</td>\n",
              "      <td id=\"T_faf20_row10_col1\" class=\"data row10 col1\" >clickbait</td>\n",
              "      <td id=\"T_faf20_row10_col2\" class=\"data row10 col2\" >1</td>\n",
              "    </tr>\n",
              "    <tr>\n",
              "      <th id=\"T_faf20_level0_row11\" class=\"row_heading level0 row11\" >91</th>\n",
              "      <td id=\"T_faf20_row11_col0\" class=\"data row11 col0\" >How the shale boom turned the world's energy markets upside down:</td>\n",
              "      <td id=\"T_faf20_row11_col1\" class=\"data row11 col1\" >clickbait</td>\n",
              "      <td id=\"T_faf20_row11_col2\" class=\"data row11 col2\" >1</td>\n",
              "    </tr>\n",
              "    <tr>\n",
              "      <th id=\"T_faf20_level0_row12\" class=\"row_heading level0 row12\" >104</th>\n",
              "      <td id=\"T_faf20_row12_col0\" class=\"data row12 col0\" >Opinions: A young prince is reimagining Saudi Arabia. Can he make his vision come true?</td>\n",
              "      <td id=\"T_faf20_row12_col1\" class=\"data row12 col1\" >clickbait</td>\n",
              "      <td id=\"T_faf20_row12_col2\" class=\"data row12 col2\" >1</td>\n",
              "    </tr>\n",
              "    <tr>\n",
              "      <th id=\"T_faf20_level0_row13\" class=\"row_heading level0 row13\" >110</th>\n",
              "      <td id=\"T_faf20_row13_col0\" class=\"data row13 col0\" >What to watch for in the first round of the French presidential election</td>\n",
              "      <td id=\"T_faf20_row13_col1\" class=\"data row13 col1\" >clickbait</td>\n",
              "      <td id=\"T_faf20_row13_col2\" class=\"data row13 col2\" >1</td>\n",
              "    </tr>\n",
              "    <tr>\n",
              "      <th id=\"T_faf20_level0_row14\" class=\"row_heading level0 row14\" >116</th>\n",
              "      <td id=\"T_faf20_row14_col0\" class=\"data row14 col0\" >Chris Brown's new documentary is coming to theaters and shit gets real</td>\n",
              "      <td id=\"T_faf20_row14_col1\" class=\"data row14 col1\" >clickbait</td>\n",
              "      <td id=\"T_faf20_row14_col2\" class=\"data row14 col2\" >1</td>\n",
              "    </tr>\n",
              "    <tr>\n",
              "      <th id=\"T_faf20_level0_row15\" class=\"row_heading level0 row15\" >128</th>\n",
              "      <td id=\"T_faf20_row15_col0\" class=\"data row15 col0\" >Dana White reveals just how much money Conor McGregor could bank for Floyd Mayweather fight</td>\n",
              "      <td id=\"T_faf20_row15_col1\" class=\"data row15 col1\" >clickbait</td>\n",
              "      <td id=\"T_faf20_row15_col2\" class=\"data row15 col2\" >1</td>\n",
              "    </tr>\n",
              "    <tr>\n",
              "      <th id=\"T_faf20_level0_row16\" class=\"row_heading level0 row16\" >140</th>\n",
              "      <td id=\"T_faf20_row16_col0\" class=\"data row16 col0\" >Meet the Don Draper of the weed industry</td>\n",
              "      <td id=\"T_faf20_row16_col1\" class=\"data row16 col1\" >clickbait</td>\n",
              "      <td id=\"T_faf20_row16_col2\" class=\"data row16 col2\" >1</td>\n",
              "    </tr>\n",
              "    <tr>\n",
              "      <th id=\"T_faf20_level0_row17\" class=\"row_heading level0 row17\" >148</th>\n",
              "      <td id=\"T_faf20_row17_col0\" class=\"data row17 col0\" >Riding the wave: Meet the surfer who helped 7 million people get clean water</td>\n",
              "      <td id=\"T_faf20_row17_col1\" class=\"data row17 col1\" >clickbait</td>\n",
              "      <td id=\"T_faf20_row17_col2\" class=\"data row17 col2\" >1</td>\n",
              "    </tr>\n",
              "    <tr>\n",
              "      <th id=\"T_faf20_level0_row18\" class=\"row_heading level0 row18\" >155</th>\n",
              "      <td id=\"T_faf20_row18_col0\" class=\"data row18 col0\" >Here's what the 'Game of Thrones' stars look like in real life</td>\n",
              "      <td id=\"T_faf20_row18_col1\" class=\"data row18 col1\" >clickbait</td>\n",
              "      <td id=\"T_faf20_row18_col2\" class=\"data row18 col2\" >1</td>\n",
              "    </tr>\n",
              "    <tr>\n",
              "      <th id=\"T_faf20_level0_row19\" class=\"row_heading level0 row19\" >184</th>\n",
              "      <td id=\"T_faf20_row19_col0\" class=\"data row19 col0\" >Check out the full credits for Harry Styles' #SignoftheTimes single</td>\n",
              "      <td id=\"T_faf20_row19_col1\" class=\"data row19 col1\" >clickbait</td>\n",
              "      <td id=\"T_faf20_row19_col2\" class=\"data row19 col2\" >1</td>\n",
              "    </tr>\n",
              "  </tbody>\n",
              "</table>\n",
              "<style type=\"text/css\">\n",
              "</style>\n",
              "<table id=\"T_a71ec_\" style='display:inline'>\n",
              "  <caption>Predicción: Clickbait</caption>\n",
              "  <thead>\n",
              "    <tr>\n",
              "      <th class=\"blank level0\" >&nbsp;</th>\n",
              "      <th class=\"col_heading level0 col0\" >postText</th>\n",
              "      <th class=\"col_heading level0 col1\" >truthClass</th>\n",
              "      <th class=\"col_heading level0 col2\" >code</th>\n",
              "    </tr>\n",
              "  </thead>\n",
              "  <tbody>\n",
              "    <tr>\n",
              "      <th id=\"T_a71ec_level0_row0\" class=\"row_heading level0 row0\" >2</th>\n",
              "      <td id=\"T_a71ec_row0_col0\" class=\"data row0 col0\" >\"He's been huge for us this year, man.\"</td>\n",
              "      <td id=\"T_a71ec_row0_col1\" class=\"data row0 col1\" >clickbait</td>\n",
              "      <td id=\"T_a71ec_row0_col2\" class=\"data row0 col2\" >1</td>\n",
              "    </tr>\n",
              "    <tr>\n",
              "      <th id=\"T_a71ec_level0_row1\" class=\"row_heading level0 row1\" >11</th>\n",
              "      <td id=\"T_a71ec_row1_col0\" class=\"data row1 col0\" >This Goldman trader had one of 2016’s most successful trades. Then things changed</td>\n",
              "      <td id=\"T_a71ec_row1_col1\" class=\"data row1 col1\" >clickbait</td>\n",
              "      <td id=\"T_a71ec_row1_col2\" class=\"data row1 col2\" >1</td>\n",
              "    </tr>\n",
              "    <tr>\n",
              "      <th id=\"T_a71ec_level0_row2\" class=\"row_heading level0 row2\" >13</th>\n",
              "      <td id=\"T_a71ec_row2_col0\" class=\"data row2 col0\" >Money is pouring into the world's hottest investment product</td>\n",
              "      <td id=\"T_a71ec_row2_col1\" class=\"data row2 col1\" >clickbait</td>\n",
              "      <td id=\"T_a71ec_row2_col2\" class=\"data row2 col2\" >1</td>\n",
              "    </tr>\n",
              "    <tr>\n",
              "      <th id=\"T_a71ec_level0_row3\" class=\"row_heading level0 row3\" >14</th>\n",
              "      <td id=\"T_a71ec_row3_col0\" class=\"data row3 col0\" >How superhero movie trailers push the familiar</td>\n",
              "      <td id=\"T_a71ec_row3_col1\" class=\"data row3 col1\" >clickbait</td>\n",
              "      <td id=\"T_a71ec_row3_col2\" class=\"data row3 col2\" >1</td>\n",
              "    </tr>\n",
              "    <tr>\n",
              "      <th id=\"T_a71ec_level0_row4\" class=\"row_heading level0 row4\" >19</th>\n",
              "      <td id=\"T_a71ec_row4_col0\" class=\"data row4 col0\" >He worked in a factory floor. He now helps build the robots that are replacing human labor</td>\n",
              "      <td id=\"T_a71ec_row4_col1\" class=\"data row4 col1\" >clickbait</td>\n",
              "      <td id=\"T_a71ec_row4_col2\" class=\"data row4 col2\" >1</td>\n",
              "    </tr>\n",
              "    <tr>\n",
              "      <th id=\"T_a71ec_level0_row5\" class=\"row_heading level0 row5\" >23</th>\n",
              "      <td id=\"T_a71ec_row5_col0\" class=\"data row5 col0\" >still learning cause &amp; effect over there</td>\n",
              "      <td id=\"T_a71ec_row5_col1\" class=\"data row5 col1\" >clickbait</td>\n",
              "      <td id=\"T_a71ec_row5_col2\" class=\"data row5 col2\" >1</td>\n",
              "    </tr>\n",
              "    <tr>\n",
              "      <th id=\"T_a71ec_level0_row6\" class=\"row_heading level0 row6\" >25</th>\n",
              "      <td id=\"T_a71ec_row6_col0\" class=\"data row6 col0\" >4 ways you can use technology to stay fit on the road:</td>\n",
              "      <td id=\"T_a71ec_row6_col1\" class=\"data row6 col1\" >clickbait</td>\n",
              "      <td id=\"T_a71ec_row6_col2\" class=\"data row6 col2\" >1</td>\n",
              "    </tr>\n",
              "    <tr>\n",
              "      <th id=\"T_a71ec_level0_row7\" class=\"row_heading level0 row7\" >48</th>\n",
              "      <td id=\"T_a71ec_row7_col0\" class=\"data row7 col0\" >The best-selling vehicle in every state</td>\n",
              "      <td id=\"T_a71ec_row7_col1\" class=\"data row7 col1\" >clickbait</td>\n",
              "      <td id=\"T_a71ec_row7_col2\" class=\"data row7 col2\" >1</td>\n",
              "    </tr>\n",
              "    <tr>\n",
              "      <th id=\"T_a71ec_level0_row8\" class=\"row_heading level0 row8\" >49</th>\n",
              "      <td id=\"T_a71ec_row8_col0\" class=\"data row8 col0\" >This girl painted her prom dress — and it might make you 'scream.'</td>\n",
              "      <td id=\"T_a71ec_row8_col1\" class=\"data row8 col1\" >clickbait</td>\n",
              "      <td id=\"T_a71ec_row8_col2\" class=\"data row8 col2\" >1</td>\n",
              "    </tr>\n",
              "    <tr>\n",
              "      <th id=\"T_a71ec_level0_row9\" class=\"row_heading level0 row9\" >59</th>\n",
              "      <td id=\"T_a71ec_row9_col0\" class=\"data row9 col0\" >Pay attention to your credit card: the 6 biggest credit mistakes millennials are making</td>\n",
              "      <td id=\"T_a71ec_row9_col1\" class=\"data row9 col1\" >clickbait</td>\n",
              "      <td id=\"T_a71ec_row9_col2\" class=\"data row9 col2\" >1</td>\n",
              "    </tr>\n",
              "    <tr>\n",
              "      <th id=\"T_a71ec_level0_row10\" class=\"row_heading level0 row10\" >63</th>\n",
              "      <td id=\"T_a71ec_row10_col0\" class=\"data row10 col0\" >8 habits that make millennials stressed, anxious and unproductive:</td>\n",
              "      <td id=\"T_a71ec_row10_col1\" class=\"data row10 col1\" >clickbait</td>\n",
              "      <td id=\"T_a71ec_row10_col2\" class=\"data row10 col2\" >1</td>\n",
              "    </tr>\n",
              "    <tr>\n",
              "      <th id=\"T_a71ec_level0_row11\" class=\"row_heading level0 row11\" >66</th>\n",
              "      <td id=\"T_a71ec_row11_col0\" class=\"data row11 col0\" >Literally just 17 dick jokes that’ll make you laugh</td>\n",
              "      <td id=\"T_a71ec_row11_col1\" class=\"data row11 col1\" >clickbait</td>\n",
              "      <td id=\"T_a71ec_row11_col2\" class=\"data row11 col2\" >1</td>\n",
              "    </tr>\n",
              "    <tr>\n",
              "      <th id=\"T_a71ec_level0_row12\" class=\"row_heading level0 row12\" >69</th>\n",
              "      <td id=\"T_a71ec_row12_col0\" class=\"data row12 col0\" >23 extremely thirsty tweets about Chris Pratt that get more graphic the more you scroll</td>\n",
              "      <td id=\"T_a71ec_row12_col1\" class=\"data row12 col1\" >clickbait</td>\n",
              "      <td id=\"T_a71ec_row12_col2\" class=\"data row12 col2\" >1</td>\n",
              "    </tr>\n",
              "    <tr>\n",
              "      <th id=\"T_a71ec_level0_row13\" class=\"row_heading level0 row13\" >102</th>\n",
              "      <td id=\"T_a71ec_row13_col0\" class=\"data row13 col0\" >Financial spring cleaning: which employee benefit forms to keep and which to toss</td>\n",
              "      <td id=\"T_a71ec_row13_col1\" class=\"data row13 col1\" >clickbait</td>\n",
              "      <td id=\"T_a71ec_row13_col2\" class=\"data row13 col2\" >1</td>\n",
              "    </tr>\n",
              "    <tr>\n",
              "      <th id=\"T_a71ec_level0_row14\" class=\"row_heading level0 row14\" >111</th>\n",
              "      <td id=\"T_a71ec_row14_col0\" class=\"data row14 col0\" >\"What do you mean you didn't know it, dude? He's on your truck.\"</td>\n",
              "      <td id=\"T_a71ec_row14_col1\" class=\"data row14 col1\" >clickbait</td>\n",
              "      <td id=\"T_a71ec_row14_col2\" class=\"data row14 col2\" >1</td>\n",
              "    </tr>\n",
              "    <tr>\n",
              "      <th id=\"T_a71ec_level0_row15\" class=\"row_heading level0 row15\" >112</th>\n",
              "      <td id=\"T_a71ec_row15_col0\" class=\"data row15 col0\" >Why everyone's laughing at this $400 juicer</td>\n",
              "      <td id=\"T_a71ec_row15_col1\" class=\"data row15 col1\" >clickbait</td>\n",
              "      <td id=\"T_a71ec_row15_col2\" class=\"data row15 col2\" >1</td>\n",
              "    </tr>\n",
              "    <tr>\n",
              "      <th id=\"T_a71ec_level0_row16\" class=\"row_heading level0 row16\" >114</th>\n",
              "      <td id=\"T_a71ec_row16_col0\" class=\"data row16 col0\" >Can You Find The Rock Under A Rock?</td>\n",
              "      <td id=\"T_a71ec_row16_col1\" class=\"data row16 col1\" >clickbait</td>\n",
              "      <td id=\"T_a71ec_row16_col2\" class=\"data row16 col2\" >1</td>\n",
              "    </tr>\n",
              "    <tr>\n",
              "      <th id=\"T_a71ec_level0_row17\" class=\"row_heading level0 row17\" >120</th>\n",
              "      <td id=\"T_a71ec_row17_col0\" class=\"data row17 col0\" >Here's how Trudeau is (kind of) legalizing pot in Canada</td>\n",
              "      <td id=\"T_a71ec_row17_col1\" class=\"data row17 col1\" >clickbait</td>\n",
              "      <td id=\"T_a71ec_row17_col2\" class=\"data row17 col2\" >1</td>\n",
              "    </tr>\n",
              "    <tr>\n",
              "      <th id=\"T_a71ec_level0_row18\" class=\"row_heading level0 row18\" >125</th>\n",
              "      <td id=\"T_a71ec_row18_col0\" class=\"data row18 col0\" >10 smart home solutions that can save you thousands of dollars a year</td>\n",
              "      <td id=\"T_a71ec_row18_col1\" class=\"data row18 col1\" >clickbait</td>\n",
              "      <td id=\"T_a71ec_row18_col2\" class=\"data row18 col2\" >1</td>\n",
              "    </tr>\n",
              "    <tr>\n",
              "      <th id=\"T_a71ec_level0_row19\" class=\"row_heading level0 row19\" >131</th>\n",
              "      <td id=\"T_a71ec_row19_col0\" class=\"data row19 col0\" >me_irl</td>\n",
              "      <td id=\"T_a71ec_row19_col1\" class=\"data row19 col1\" >clickbait</td>\n",
              "      <td id=\"T_a71ec_row19_col2\" class=\"data row19 col2\" >1</td>\n",
              "    </tr>\n",
              "  </tbody>\n",
              "</table>\n"
            ]
          },
          "metadata": {}
        }
      ]
    },
    {
      "cell_type": "markdown",
      "source": [
        "Veamos ahora cómo son los tweets que realmente no son clickbait:"
      ],
      "metadata": {
        "id": "X-nK8MwhkG-4"
      }
    },
    {
      "cell_type": "code",
      "source": [
        "df1 = test[(np.reshape(predicted,(predicted.shape[0],)) == 1) & (np.array(test_y[:,0]) == 0)].head(20)\n",
        "df2 = test[(np.reshape(predicted,(predicted.shape[0],)) == 0) & (np.array(test_y[:,0]) == 0)].head(20)\n",
        "\n",
        "df1_styler = df1.style.set_table_attributes(\"style='display:inline'\").set_caption('Predicción: Clickbait')\n",
        "df2_styler = df2.style.set_table_attributes(\"style='display:inline'\").set_caption('Predicción: No-clickbait')\n",
        "\n",
        "display_html(df2_styler._repr_html_()+df1_styler._repr_html_(), raw=True)"
      ],
      "metadata": {
        "colab": {
          "base_uri": "https://localhost:8080/",
          "height": 485
        },
        "id": "NRBRT5enRTkF",
        "outputId": "e2dee4cd-f4e8-4d78-9803-126e0a3df009"
      },
      "execution_count": null,
      "outputs": [
        {
          "output_type": "display_data",
          "data": {
            "text/html": [
              "<style type=\"text/css\">\n",
              "</style>\n",
              "<table id=\"T_f9571_\" style='display:inline'>\n",
              "  <caption>Predicción: No-clickbait</caption>\n",
              "  <thead>\n",
              "    <tr>\n",
              "      <th class=\"blank level0\" >&nbsp;</th>\n",
              "      <th class=\"col_heading level0 col0\" >postText</th>\n",
              "      <th class=\"col_heading level0 col1\" >truthClass</th>\n",
              "      <th class=\"col_heading level0 col2\" >code</th>\n",
              "    </tr>\n",
              "  </thead>\n",
              "  <tbody>\n",
              "    <tr>\n",
              "      <th id=\"T_f9571_level0_row0\" class=\"row_heading level0 row0\" >0</th>\n",
              "      <td id=\"T_f9571_row0_col0\" class=\"data row0 col0\" >Johnny Manziel on Browns' No. 1 pick Myles Garrett: \"He'll do wonders for the team\"\n",
              "\n",
              "🎥:</td>\n",
              "      <td id=\"T_f9571_row0_col1\" class=\"data row0 col1\" >no-clickbait</td>\n",
              "      <td id=\"T_f9571_row0_col2\" class=\"data row0 col2\" >0</td>\n",
              "    </tr>\n",
              "    <tr>\n",
              "      <th id=\"T_f9571_level0_row1\" class=\"row_heading level0 row1\" >1</th>\n",
              "      <td id=\"T_f9571_row1_col0\" class=\"data row1 col0\" >Fabio: California Is a 'Mess' Because of Liberal Policies</td>\n",
              "      <td id=\"T_f9571_row1_col1\" class=\"data row1 col1\" >no-clickbait</td>\n",
              "      <td id=\"T_f9571_row1_col2\" class=\"data row1 col2\" >0</td>\n",
              "    </tr>\n",
              "    <tr>\n",
              "      <th id=\"T_f9571_level0_row2\" class=\"row_heading level0 row2\" >3</th>\n",
              "      <td id=\"T_f9571_row2_col0\" class=\"data row2 col0\" >New Bears quarterback Mitchell Trubisky was greeted with some boos at his first public appearance.</td>\n",
              "      <td id=\"T_f9571_row2_col1\" class=\"data row2 col1\" >no-clickbait</td>\n",
              "      <td id=\"T_f9571_row2_col2\" class=\"data row2 col2\" >0</td>\n",
              "    </tr>\n",
              "    <tr>\n",
              "      <th id=\"T_f9571_level0_row3\" class=\"row_heading level0 row3\" >4</th>\n",
              "      <td id=\"T_f9571_row3_col0\" class=\"data row3 col0\" >It's not enough to let employees work flexible schedules if they're still afraid to ask</td>\n",
              "      <td id=\"T_f9571_row3_col1\" class=\"data row3 col1\" >no-clickbait</td>\n",
              "      <td id=\"T_f9571_row3_col2\" class=\"data row3 col2\" >0</td>\n",
              "    </tr>\n",
              "    <tr>\n",
              "      <th id=\"T_f9571_level0_row4\" class=\"row_heading level0 row4\" >5</th>\n",
              "      <td id=\"T_f9571_row4_col0\" class=\"data row4 col0\" >Out of 15 lakh registered companies in India, 9 lakh don't file returns!</td>\n",
              "      <td id=\"T_f9571_row4_col1\" class=\"data row4 col1\" >no-clickbait</td>\n",
              "      <td id=\"T_f9571_row4_col2\" class=\"data row4 col2\" >0</td>\n",
              "    </tr>\n",
              "    <tr>\n",
              "      <th id=\"T_f9571_level0_row5\" class=\"row_heading level0 row5\" >8</th>\n",
              "      <td id=\"T_f9571_row5_col0\" class=\"data row5 col0\" >President Donald Trump: My first 100 days are \"just about the most successful\" in US history</td>\n",
              "      <td id=\"T_f9571_row5_col1\" class=\"data row5 col1\" >no-clickbait</td>\n",
              "      <td id=\"T_f9571_row5_col2\" class=\"data row5 col2\" >0</td>\n",
              "    </tr>\n",
              "    <tr>\n",
              "      <th id=\"T_f9571_level0_row6\" class=\"row_heading level0 row6\" >9</th>\n",
              "      <td id=\"T_f9571_row6_col0\" class=\"data row6 col0\" >U.S. wants more U.N. sanctions over North Korea’s nuclear arms, warns time is short</td>\n",
              "      <td id=\"T_f9571_row6_col1\" class=\"data row6 col1\" >no-clickbait</td>\n",
              "      <td id=\"T_f9571_row6_col2\" class=\"data row6 col2\" >0</td>\n",
              "    </tr>\n",
              "    <tr>\n",
              "      <th id=\"T_f9571_level0_row7\" class=\"row_heading level0 row7\" >12</th>\n",
              "      <td id=\"T_f9571_row7_col0\" class=\"data row7 col0\" >DMX reportedly enters rehab</td>\n",
              "      <td id=\"T_f9571_row7_col1\" class=\"data row7 col1\" >no-clickbait</td>\n",
              "      <td id=\"T_f9571_row7_col2\" class=\"data row7 col2\" >0</td>\n",
              "    </tr>\n",
              "    <tr>\n",
              "      <th id=\"T_f9571_level0_row8\" class=\"row_heading level0 row8\" >15</th>\n",
              "      <td id=\"T_f9571_row8_col0\" class=\"data row8 col0\" >Ariana Grande &amp; Cashmere Cat have teamed up for a third time with \"Quit\"</td>\n",
              "      <td id=\"T_f9571_row8_col1\" class=\"data row8 col1\" >no-clickbait</td>\n",
              "      <td id=\"T_f9571_row8_col2\" class=\"data row8 col2\" >0</td>\n",
              "    </tr>\n",
              "    <tr>\n",
              "      <th id=\"T_f9571_level0_row9\" class=\"row_heading level0 row9\" >16</th>\n",
              "      <td id=\"T_f9571_row9_col0\" class=\"data row9 col0\" >Macron’s rise shows that extremism – whether left or right – is not inevitable</td>\n",
              "      <td id=\"T_f9571_row9_col1\" class=\"data row9 col1\" >no-clickbait</td>\n",
              "      <td id=\"T_f9571_row9_col2\" class=\"data row9 col2\" >0</td>\n",
              "    </tr>\n",
              "    <tr>\n",
              "      <th id=\"T_f9571_level0_row10\" class=\"row_heading level0 row10\" >17</th>\n",
              "      <td id=\"T_f9571_row10_col0\" class=\"data row10 col0\" >How much money will a first-round NFL Draft pick like Mitchell Trubisky make?</td>\n",
              "      <td id=\"T_f9571_row10_col1\" class=\"data row10 col1\" >no-clickbait</td>\n",
              "      <td id=\"T_f9571_row10_col2\" class=\"data row10 col2\" >0</td>\n",
              "    </tr>\n",
              "    <tr>\n",
              "      <th id=\"T_f9571_level0_row11\" class=\"row_heading level0 row11\" >18</th>\n",
              "      <td id=\"T_f9571_row11_col0\" class=\"data row11 col0\" >Pope Francis lands in Egypt for a historic 2-day visit</td>\n",
              "      <td id=\"T_f9571_row11_col1\" class=\"data row11 col1\" >no-clickbait</td>\n",
              "      <td id=\"T_f9571_row11_col2\" class=\"data row11 col2\" >0</td>\n",
              "    </tr>\n",
              "    <tr>\n",
              "      <th id=\"T_f9571_level0_row12\" class=\"row_heading level0 row12\" >20</th>\n",
              "      <td id=\"T_f9571_row12_col0\" class=\"data row12 col0\" >Barclays net profit tumbles on Africa write-down</td>\n",
              "      <td id=\"T_f9571_row12_col1\" class=\"data row12 col1\" >no-clickbait</td>\n",
              "      <td id=\"T_f9571_row12_col2\" class=\"data row12 col2\" >0</td>\n",
              "    </tr>\n",
              "    <tr>\n",
              "      <th id=\"T_f9571_level0_row13\" class=\"row_heading level0 row13\" >21</th>\n",
              "      <td id=\"T_f9571_row13_col0\" class=\"data row13 col0\" >Chinese smartphone makers are catching up with Samsung and Apple</td>\n",
              "      <td id=\"T_f9571_row13_col1\" class=\"data row13 col1\" >no-clickbait</td>\n",
              "      <td id=\"T_f9571_row13_col2\" class=\"data row13 col2\" >0</td>\n",
              "    </tr>\n",
              "    <tr>\n",
              "      <th id=\"T_f9571_level0_row14\" class=\"row_heading level0 row14\" >22</th>\n",
              "      <td id=\"T_f9571_row14_col0\" class=\"data row14 col0\" >Trump's tax plan could cost an estimated $5.5 trillion</td>\n",
              "      <td id=\"T_f9571_row14_col1\" class=\"data row14 col1\" >no-clickbait</td>\n",
              "      <td id=\"T_f9571_row14_col2\" class=\"data row14 col2\" >0</td>\n",
              "    </tr>\n",
              "    <tr>\n",
              "      <th id=\"T_f9571_level0_row15\" class=\"row_heading level0 row15\" >24</th>\n",
              "      <td id=\"T_f9571_row15_col0\" class=\"data row15 col0\" >Trump says 'major, major' conflict with North Korea possible, but seeks diplomacy</td>\n",
              "      <td id=\"T_f9571_row15_col1\" class=\"data row15 col1\" >no-clickbait</td>\n",
              "      <td id=\"T_f9571_row15_col2\" class=\"data row15 col2\" >0</td>\n",
              "    </tr>\n",
              "    <tr>\n",
              "      <th id=\"T_f9571_level0_row16\" class=\"row_heading level0 row16\" >26</th>\n",
              "      <td id=\"T_f9571_row16_col0\" class=\"data row16 col0\" >'I know he is alive': wife of Taiwan activist seized by China pleads for release</td>\n",
              "      <td id=\"T_f9571_row16_col1\" class=\"data row16 col1\" >no-clickbait</td>\n",
              "      <td id=\"T_f9571_row16_col2\" class=\"data row16 col2\" >0</td>\n",
              "    </tr>\n",
              "    <tr>\n",
              "      <th id=\"T_f9571_level0_row17\" class=\"row_heading level0 row17\" >27</th>\n",
              "      <td id=\"T_f9571_row17_col0\" class=\"data row17 col0\" >Special U.S. immigrant visa created to spur investment faces D-Day this Friday</td>\n",
              "      <td id=\"T_f9571_row17_col1\" class=\"data row17 col1\" >no-clickbait</td>\n",
              "      <td id=\"T_f9571_row17_col2\" class=\"data row17 col2\" >0</td>\n",
              "    </tr>\n",
              "    <tr>\n",
              "      <th id=\"T_f9571_level0_row18\" class=\"row_heading level0 row18\" >28</th>\n",
              "      <td id=\"T_f9571_row18_col0\" class=\"data row18 col0\" >In 2016, Jeff Legwold correctly pegged 80 of the top 100 draft prospects.\n",
              "\n",
              "How does he rank 'em this year?</td>\n",
              "      <td id=\"T_f9571_row18_col1\" class=\"data row18 col1\" >no-clickbait</td>\n",
              "      <td id=\"T_f9571_row18_col2\" class=\"data row18 col2\" >0</td>\n",
              "    </tr>\n",
              "    <tr>\n",
              "      <th id=\"T_f9571_level0_row19\" class=\"row_heading level0 row19\" >30</th>\n",
              "      <td id=\"T_f9571_row19_col0\" class=\"data row19 col0\" >Airline industry experts approve of United's policy changes</td>\n",
              "      <td id=\"T_f9571_row19_col1\" class=\"data row19 col1\" >no-clickbait</td>\n",
              "      <td id=\"T_f9571_row19_col2\" class=\"data row19 col2\" >0</td>\n",
              "    </tr>\n",
              "  </tbody>\n",
              "</table>\n",
              "<style type=\"text/css\">\n",
              "</style>\n",
              "<table id=\"T_b100b_\" style='display:inline'>\n",
              "  <caption>Predicción: Clickbait</caption>\n",
              "  <thead>\n",
              "    <tr>\n",
              "      <th class=\"blank level0\" >&nbsp;</th>\n",
              "      <th class=\"col_heading level0 col0\" >postText</th>\n",
              "      <th class=\"col_heading level0 col1\" >truthClass</th>\n",
              "      <th class=\"col_heading level0 col2\" >code</th>\n",
              "    </tr>\n",
              "  </thead>\n",
              "  <tbody>\n",
              "    <tr>\n",
              "      <th id=\"T_b100b_level0_row0\" class=\"row_heading level0 row0\" >6</th>\n",
              "      <td id=\"T_b100b_row0_col0\" class=\"data row0 col0\" >Tense moment plane lands without wheel</td>\n",
              "      <td id=\"T_b100b_row0_col1\" class=\"data row0 col1\" >no-clickbait</td>\n",
              "      <td id=\"T_b100b_row0_col2\" class=\"data row0 col2\" >0</td>\n",
              "    </tr>\n",
              "    <tr>\n",
              "      <th id=\"T_b100b_level0_row1\" class=\"row_heading level0 row1\" >10</th>\n",
              "      <td id=\"T_b100b_row1_col0\" class=\"data row1 col0\" >Don't abandon the snot if you want to be healthy. #EwwButTrue</td>\n",
              "      <td id=\"T_b100b_row1_col1\" class=\"data row1 col1\" >no-clickbait</td>\n",
              "      <td id=\"T_b100b_row1_col2\" class=\"data row1 col2\" >0</td>\n",
              "    </tr>\n",
              "    <tr>\n",
              "      <th id=\"T_b100b_level0_row2\" class=\"row_heading level0 row2\" >56</th>\n",
              "      <td id=\"T_b100b_row2_col0\" class=\"data row2 col0\" >How coral of Great Barrier Reef could be saved by big, bright clouds</td>\n",
              "      <td id=\"T_b100b_row2_col1\" class=\"data row2 col1\" >no-clickbait</td>\n",
              "      <td id=\"T_b100b_row2_col2\" class=\"data row2 col2\" >0</td>\n",
              "    </tr>\n",
              "    <tr>\n",
              "      <th id=\"T_b100b_level0_row3\" class=\"row_heading level0 row3\" >89</th>\n",
              "      <td id=\"T_b100b_row3_col0\" class=\"data row3 col0\" >Here are the highlights from the March for Science.</td>\n",
              "      <td id=\"T_b100b_row3_col1\" class=\"data row3 col1\" >no-clickbait</td>\n",
              "      <td id=\"T_b100b_row3_col2\" class=\"data row3 col2\" >0</td>\n",
              "    </tr>\n",
              "    <tr>\n",
              "      <th id=\"T_b100b_level0_row4\" class=\"row_heading level0 row4\" >124</th>\n",
              "      <td id=\"T_b100b_row4_col0\" class=\"data row4 col0\" >Here's where weed is legal in the U.S.:</td>\n",
              "      <td id=\"T_b100b_row4_col1\" class=\"data row4 col1\" >no-clickbait</td>\n",
              "      <td id=\"T_b100b_row4_col2\" class=\"data row4 col2\" >0</td>\n",
              "    </tr>\n",
              "    <tr>\n",
              "      <th id=\"T_b100b_level0_row5\" class=\"row_heading level0 row5\" >127</th>\n",
              "      <td id=\"T_b100b_row5_col0\" class=\"data row5 col0\" >The fascinating hidden history of London's lost rivers</td>\n",
              "      <td id=\"T_b100b_row5_col1\" class=\"data row5 col1\" >no-clickbait</td>\n",
              "      <td id=\"T_b100b_row5_col2\" class=\"data row5 col2\" >0</td>\n",
              "    </tr>\n",
              "    <tr>\n",
              "      <th id=\"T_b100b_level0_row6\" class=\"row_heading level0 row6\" >129</th>\n",
              "      <td id=\"T_b100b_row6_col0\" class=\"data row6 col0\" >This fraternity wanted to hold a \"Bad(minton) and Boujee\" event. Now it’s been canceled.</td>\n",
              "      <td id=\"T_b100b_row6_col1\" class=\"data row6 col1\" >no-clickbait</td>\n",
              "      <td id=\"T_b100b_row6_col2\" class=\"data row6 col2\" >0</td>\n",
              "    </tr>\n",
              "    <tr>\n",
              "      <th id=\"T_b100b_level0_row7\" class=\"row_heading level0 row7\" >153</th>\n",
              "      <td id=\"T_b100b_row7_col0\" class=\"data row7 col0\" >How to get Lady Gaga's mesmerizing eyes from #Coachella</td>\n",
              "      <td id=\"T_b100b_row7_col1\" class=\"data row7 col1\" >no-clickbait</td>\n",
              "      <td id=\"T_b100b_row7_col2\" class=\"data row7 col2\" >0</td>\n",
              "    </tr>\n",
              "    <tr>\n",
              "      <th id=\"T_b100b_level0_row8\" class=\"row_heading level0 row8\" >157</th>\n",
              "      <td id=\"T_b100b_row8_col0\" class=\"data row8 col0\" >As per latest leak coming out of #China, the #iPhone8 may sport some truly unique #features</td>\n",
              "      <td id=\"T_b100b_row8_col1\" class=\"data row8 col1\" >no-clickbait</td>\n",
              "      <td id=\"T_b100b_row8_col2\" class=\"data row8 col2\" >0</td>\n",
              "    </tr>\n",
              "    <tr>\n",
              "      <th id=\"T_b100b_level0_row9\" class=\"row_heading level0 row9\" >161</th>\n",
              "      <td id=\"T_b100b_row9_col0\" class=\"data row9 col0\" >Asteroid study explains how disaster movies get it wrong  via @NBCNewsMACH</td>\n",
              "      <td id=\"T_b100b_row9_col1\" class=\"data row9 col1\" >no-clickbait</td>\n",
              "      <td id=\"T_b100b_row9_col2\" class=\"data row9 col2\" >0</td>\n",
              "    </tr>\n",
              "    <tr>\n",
              "      <th id=\"T_b100b_level0_row10\" class=\"row_heading level0 row10\" >180</th>\n",
              "      <td id=\"T_b100b_row10_col0\" class=\"data row10 col0\" >What North Korea is trying to accomplish with its provocations</td>\n",
              "      <td id=\"T_b100b_row10_col1\" class=\"data row10 col1\" >no-clickbait</td>\n",
              "      <td id=\"T_b100b_row10_col2\" class=\"data row10 col2\" >0</td>\n",
              "    </tr>\n",
              "    <tr>\n",
              "      <th id=\"T_b100b_level0_row11\" class=\"row_heading level0 row11\" >190</th>\n",
              "      <td id=\"T_b100b_row11_col0\" class=\"data row11 col0\" >Big ideas: the airline mess, provocative views from Bridgewater's Dalio. Plus @domino's win!</td>\n",
              "      <td id=\"T_b100b_row11_col1\" class=\"data row11 col1\" >no-clickbait</td>\n",
              "      <td id=\"T_b100b_row11_col2\" class=\"data row11 col2\" >0</td>\n",
              "    </tr>\n",
              "    <tr>\n",
              "      <th id=\"T_b100b_level0_row12\" class=\"row_heading level0 row12\" >200</th>\n",
              "      <td id=\"T_b100b_row12_col0\" class=\"data row12 col0\" >#ICYMI: Your favourite artists pick their favourite #Rage playlists</td>\n",
              "      <td id=\"T_b100b_row12_col1\" class=\"data row12 col1\" >no-clickbait</td>\n",
              "      <td id=\"T_b100b_row12_col2\" class=\"data row12 col2\" >0</td>\n",
              "    </tr>\n",
              "    <tr>\n",
              "      <th id=\"T_b100b_level0_row13\" class=\"row_heading level0 row13\" >221</th>\n",
              "      <td id=\"T_b100b_row13_col0\" class=\"data row13 col0\" >27 stylish bathing suits you can get on Amazon</td>\n",
              "      <td id=\"T_b100b_row13_col1\" class=\"data row13 col1\" >no-clickbait</td>\n",
              "      <td id=\"T_b100b_row13_col2\" class=\"data row13 col2\" >0</td>\n",
              "    </tr>\n",
              "    <tr>\n",
              "      <th id=\"T_b100b_level0_row14\" class=\"row_heading level0 row14\" >236</th>\n",
              "      <td id=\"T_b100b_row14_col0\" class=\"data row14 col0\" >Model shares photo of her cellulite on Instagram to show 'how bloody natural it is'</td>\n",
              "      <td id=\"T_b100b_row14_col1\" class=\"data row14 col1\" >no-clickbait</td>\n",
              "      <td id=\"T_b100b_row14_col2\" class=\"data row14 col2\" >0</td>\n",
              "    </tr>\n",
              "    <tr>\n",
              "      <th id=\"T_b100b_level0_row15\" class=\"row_heading level0 row15\" >292</th>\n",
              "      <td id=\"T_b100b_row15_col0\" class=\"data row15 col0\" >Key developments and players in the Syrian conflict</td>\n",
              "      <td id=\"T_b100b_row15_col1\" class=\"data row15 col1\" >no-clickbait</td>\n",
              "      <td id=\"T_b100b_row15_col2\" class=\"data row15 col2\" >0</td>\n",
              "    </tr>\n",
              "    <tr>\n",
              "      <th id=\"T_b100b_level0_row16\" class=\"row_heading level0 row16\" >299</th>\n",
              "      <td id=\"T_b100b_row16_col0\" class=\"data row16 col0\" >Heartwarming video shows the power of parents accepting their trans kids</td>\n",
              "      <td id=\"T_b100b_row16_col1\" class=\"data row16 col1\" >no-clickbait</td>\n",
              "      <td id=\"T_b100b_row16_col2\" class=\"data row16 col2\" >0</td>\n",
              "    </tr>\n",
              "    <tr>\n",
              "      <th id=\"T_b100b_level0_row17\" class=\"row_heading level0 row17\" >308</th>\n",
              "      <td id=\"T_b100b_row17_col0\" class=\"data row17 col0\" >Politics Live - readers' edition: Friday 7 April</td>\n",
              "      <td id=\"T_b100b_row17_col1\" class=\"data row17 col1\" >no-clickbait</td>\n",
              "      <td id=\"T_b100b_row17_col2\" class=\"data row17 col2\" >0</td>\n",
              "    </tr>\n",
              "    <tr>\n",
              "      <th id=\"T_b100b_level0_row18\" class=\"row_heading level0 row18\" >319</th>\n",
              "      <td id=\"T_b100b_row18_col0\" class=\"data row18 col0\" >S is for spray paint: share your artwork now</td>\n",
              "      <td id=\"T_b100b_row18_col1\" class=\"data row18 col1\" >no-clickbait</td>\n",
              "      <td id=\"T_b100b_row18_col2\" class=\"data row18 col2\" >0</td>\n",
              "    </tr>\n",
              "    <tr>\n",
              "      <th id=\"T_b100b_level0_row19\" class=\"row_heading level0 row19\" >324</th>\n",
              "      <td id=\"T_b100b_row19_col0\" class=\"data row19 col0\" >The boy who recreated La La Land to ask Emma Stone to prom</td>\n",
              "      <td id=\"T_b100b_row19_col1\" class=\"data row19 col1\" >no-clickbait</td>\n",
              "      <td id=\"T_b100b_row19_col2\" class=\"data row19 col2\" >0</td>\n",
              "    </tr>\n",
              "  </tbody>\n",
              "</table>\n"
            ]
          },
          "metadata": {}
        }
      ]
    },
    {
      "cell_type": "markdown",
      "source": [
        "Podemos ver en el lado derecho, los tweets predecidos como clickbait (los 20 primeros). Realmente, salvo algunas excepciones, todos están escritos de manera similar, así que parece razonable que el modelo los confunda."
      ],
      "metadata": {
        "id": "cvAnq-s2mmlS"
      }
    },
    {
      "cell_type": "markdown",
      "source": [
        "En el lado izquierdo, los que se han predecido como no-clickbait (los 20 primeros). Podemos ver en las tablas que los que ha predecido erroneamente, parecen ejemplos más o menos claros de clickbait. El error puede ser debido a que ha visto muchos más tweets no-clickbait que clickbait. Aunque hemos intentado solucionar este problema dándole diferentes pesos a cada clase, es posible que no sea suficiente. También, es posible que aumentando el dataset mejore el *recall*."
      ],
      "metadata": {
        "id": "3sOfsCdSoJ9p"
      }
    },
    {
      "cell_type": "markdown",
      "source": [
        "# **3. Conclusiones**"
      ],
      "metadata": {
        "id": "gKIizi50eqn1"
      }
    },
    {
      "cell_type": "markdown",
      "source": [
        "Los modelos Bert for Sequence Classification y RoBERTa for Sequence Classification arrojan resultados prácticamente idénticos. En el caso de los tweets clickbait, obtenemos un buen *recall*, pero una *precision* modesta. Ambos modelos tienen tasa de acierto (*accuracy*) del 83-84%, mejorando sustancialmente el umbral de la solución trivial (76%)."
      ],
      "metadata": {
        "id": "f2xz0yk6qAUg"
      }
    },
    {
      "cell_type": "markdown",
      "source": [
        "Un tercer modelo con un *classification head* customizado obtiene una *accuracy* del 85%. Este modelo obtiene una mejor *precision* que los dos modelos anteriores, no obstante, obtiene un peor *recall*."
      ],
      "metadata": {
        "id": "WQF5tAowqUPA"
      }
    },
    {
      "cell_type": "markdown",
      "source": [
        "La métrica F1 es muy similar para los tres modelos en cuanto a detección de la clase \"clickbait\". Así pues, la elección del mejor modelo dependerá del objetivo: BERT y RoBERTa for sequence classification para capturar los máximos clickbaits posibles (aunque también a costa de capturar muchos no-clickbait) o bien BERT + Custom Classification Head para asegurar que los tweets que predecimos que son clickbait, realmente lo son (aunque a costa de pasar por alto otros)."
      ],
      "metadata": {
        "id": "wMAmGi_0rVyj"
      }
    },
    {
      "cell_type": "markdown",
      "source": [
        "**Posibles mejoras de los modelos**\n",
        "\n",
        "Para mejorar los modelos, más allá de incrementar el dataset, sería interesante no limitar la clasificación al token de clasificación, si no al tweet entero.\n",
        "\n",
        "Además, considero importante no sólo tener en cuenta el *postText*, si no considerar también el título de la noticia que se ha compartido. Mientras que el *postText* puede ser más bien neutro, el título de la noticia que se ha compartido podría llevar fórmulas de clickbait tan evidentes como \"lo que pasó a continuación te sorprenderá\"."
      ],
      "metadata": {
        "id": "bMQsmmw9WjPV"
      }
    },
    {
      "cell_type": "code",
      "source": [
        ""
      ],
      "metadata": {
        "id": "z45RTOPGeuYg"
      },
      "execution_count": null,
      "outputs": []
    }
  ]
}